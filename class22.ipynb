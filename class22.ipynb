{
 "cells": [
  {
   "cell_type": "code",
   "execution_count": 1,
   "metadata": {},
   "outputs": [],
   "source": [
    "\n",
    "# function with argument. arg jasto sukai  data type ni huna sakxa\n",
    "#def <function_name>(argument1,argument2,...):\n",
    " #   <operation>\n",
    "#<function_name>(argument1,argument2,...):   \n",
    "\n",
    "\n",
    "\n",
    "\n",
    "\n",
    "#function without argument\n",
    "#def <function_name>:\n",
    " #   <operation>\n",
    "#<function_name>"
   ]
  },
  {
   "cell_type": "code",
   "execution_count": 3,
   "metadata": {},
   "outputs": [
    {
     "name": "stdout",
     "output_type": "stream",
     "text": [
      "Hello World\n"
     ]
    }
   ],
   "source": [
    "def cal():\n",
    "    print(\"Hello World\")\n",
    "cal()    "
   ]
  },
  {
   "cell_type": "code",
   "execution_count": 5,
   "metadata": {},
   "outputs": [
    {
     "name": "stdout",
     "output_type": "stream",
     "text": [
      "Hello World\n"
     ]
    }
   ],
   "source": [
    "def abc():\n",
    "    print(\"Hello World\")\n",
    "abc()    "
   ]
  },
  {
   "cell_type": "code",
   "execution_count": 9,
   "metadata": {},
   "outputs": [
    {
     "name": "stdout",
     "output_type": "stream",
     "text": [
      "Enter the value of l = 1\n",
      "Enter the value of b = 2\n",
      "Enter the value of h = 3\n",
      "The volume is =  6\n",
      "The area is  2\n"
     ]
    }
   ],
   "source": [
    "l = int(input(\"Enter the value of l = \"))\n",
    "b = int(input(\"Enter the value of b = \"))\n",
    "h = int(input(\"Enter the value of h = \"))\n",
    "\n",
    "def area():\n",
    "    print(\"The area is \" ,l*b)\n",
    "def volume():\n",
    "    print(\"The volume is = \" ,l*b*h)\n",
    "volume()\n",
    "area()"
   ]
  },
  {
   "cell_type": "markdown",
   "metadata": {},
   "source": [
    "## local variable bhaneko function bhitra variable define garyo bhane tyo local hunxa .Global bhaneko function bahira nai variable define gareko\n",
    "\n"
   ]
  },
  {
   "cell_type": "markdown",
   "metadata": {},
   "source": [
    "\n",
    "  \n"
   ]
  },
  {
   "cell_type": "code",
   "execution_count": 12,
   "metadata": {},
   "outputs": [
    {
     "name": "stdout",
     "output_type": "stream",
     "text": [
      "Enter the value of p = 12\n",
      "Enter the value of t = 12\n",
      "Enter the value of r = 12\n",
      "The simpleintrest is  17.28\n"
     ]
    }
   ],
   "source": [
    "def simpleintrest():\n",
    "\n",
    "    p = int(input(\"Enter the value of p = \"))\n",
    "    t = int(input(\"Enter the value of t = \"))\n",
    "    r = int(input(\"Enter the value of r = \"))\n",
    "    si = p*t*r/100\n",
    "    print(\"The simpleintrest is \",si)\n",
    "simpleintrest()  \n",
    "   "
   ]
  },
  {
   "cell_type": "code",
   "execution_count": 22,
   "metadata": {},
   "outputs": [
    {
     "name": "stdout",
     "output_type": "stream",
     "text": [
      "hello i am q\n",
      "i live inq\n",
      "hello i am q i live in q\n"
     ]
    }
   ],
   "source": [
    "def intro():\n",
    "    a = input(\"hello i am \")\n",
    "    b = input(\"i live in\")\n",
    "    print(\"hello i am\",a  +  \" i live in\",b)\n",
    "intro()    \n",
    "   \n",
    "   "
   ]
  },
  {
   "cell_type": "code",
   "execution_count": 6,
   "metadata": {},
   "outputs": [
    {
     "ename": "SyntaxError",
     "evalue": "invalid syntax (<ipython-input-6-4e8dd9a5333c>, line 4)",
     "output_type": "error",
     "traceback": [
      "\u001b[1;36m  File \u001b[1;32m\"<ipython-input-6-4e8dd9a5333c>\"\u001b[1;36m, line \u001b[1;32m4\u001b[0m\n\u001b[1;33m    print(\"phone number\" p, + \"name\" q)\u001b[0m\n\u001b[1;37m                         ^\u001b[0m\n\u001b[1;31mSyntaxError\u001b[0m\u001b[1;31m:\u001b[0m invalid syntax\n"
     ]
    }
   ],
   "source": [
    "def cal(p,q):\n",
    "    p = input(\"phone number\")\n",
    "    q = input(\"name\")\n",
    "    print(\"phone number\" p, + \"name\" q)\n",
    "cal(p,q)    "
   ]
  },
  {
   "cell_type": "code",
   "execution_count": null,
   "metadata": {},
   "outputs": [],
   "source": [
    "\n",
    "\n"
   ]
  },
  {
   "cell_type": "code",
   "execution_count": null,
   "metadata": {},
   "outputs": [],
   "source": []
  },
  {
   "cell_type": "code",
   "execution_count": null,
   "metadata": {},
   "outputs": [],
   "source": []
  }
 ],
 "metadata": {
  "kernelspec": {
   "display_name": "Python 3",
   "language": "python",
   "name": "python3"
  },
  "language_info": {
   "codemirror_mode": {
    "name": "ipython",
    "version": 3
   },
   "file_extension": ".py",
   "mimetype": "text/x-python",
   "name": "python",
   "nbconvert_exporter": "python",
   "pygments_lexer": "ipython3",
   "version": "3.7.4"
  }
 },
 "nbformat": 4,
 "nbformat_minor": 2
}
