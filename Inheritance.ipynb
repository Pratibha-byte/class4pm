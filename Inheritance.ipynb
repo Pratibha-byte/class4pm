{
 "cells": [
  {
   "cell_type": "code",
   "execution_count": 9,
   "metadata": {},
   "outputs": [
    {
     "name": "stdout",
     "output_type": "stream",
     "text": [
      "Ram Kathmandu\n",
      "name and address is Ram Kathmandu\n",
      "Ram\n"
     ]
    }
   ],
   "source": [
    "#inheritance\n",
    "class Profile:\n",
    "    def __init__(self,name,address):\n",
    "        self.name = name\n",
    "        self.address = address\n",
    "    def profile(self):\n",
    "        print(\"name and address is\",self.name,self.address)\n",
    "class Hr(Profile):\n",
    "    def info(self):\n",
    "        print(self.name,self.address)\n",
    "x = Hr(\"Ram\",\"Kathmandu\")\n",
    "x.info()\n",
    "x.profile()\n",
    "print(x.name)\n",
    "\n",
    "    "
   ]
  },
  {
   "cell_type": "code",
   "execution_count": 13,
   "metadata": {},
   "outputs": [
    {
     "name": "stdout",
     "output_type": "stream",
     "text": [
      "This is init function RAm 11\n",
      "Hello i am RAm.And I am 11 and I am from Kathmandu\n",
      "RAm 11\n"
     ]
    }
   ],
   "source": [
    "class A:\n",
    "    def __init__(self,name,age):\n",
    "        self.name =name\n",
    "        self.age = age\n",
    "        print(\"This is init function\",self.name,self.age)\n",
    "class B(A):\n",
    "    def text(self,add1):\n",
    "        print(f\"Hello i am {self.name}.And I am {self.age} and I am from {add1}\")\n",
    "        \n",
    "class C(B):\n",
    "    def last(self):\n",
    "        print(self.name,self.age)\n",
    "        \n",
    "        \n",
    "x = C(\"RAm\",11)\n",
    "x.text(\"Kathmandu\")\n",
    "x.last()"
   ]
  },
  {
   "cell_type": "code",
   "execution_count": 19,
   "metadata": {},
   "outputs": [
    {
     "ename": "AttributeError",
     "evalue": "type object 'Student' has no attribute '_Resident__init'",
     "output_type": "error",
     "traceback": [
      "\u001b[1;31m---------------------------------------------------------------------------\u001b[0m",
      "\u001b[1;31mAttributeError\u001b[0m                            Traceback (most recent call last)",
      "\u001b[1;32m<ipython-input-19-ae9003a499d6>\u001b[0m in \u001b[0;36m<module>\u001b[1;34m\u001b[0m\n\u001b[0;32m     25\u001b[0m         \u001b[1;31m#create an object of thesubclass\u001b[0m\u001b[1;33m\u001b[0m\u001b[1;33m\u001b[0m\u001b[1;33m\u001b[0m\u001b[0m\n\u001b[0;32m     26\u001b[0m \u001b[1;33m\u001b[0m\u001b[0m\n\u001b[1;32m---> 27\u001b[1;33m \u001b[0mresident1\u001b[0m \u001b[1;33m=\u001b[0m \u001b[0mResident\u001b[0m\u001b[1;33m(\u001b[0m\u001b[1;34m\"Rama\"\u001b[0m\u001b[1;33m,\u001b[0m\u001b[1;36m22\u001b[0m\u001b[1;33m,\u001b[0m\u001b[1;36m1\u001b[0m\u001b[1;33m)\u001b[0m\u001b[1;33m\u001b[0m\u001b[1;33m\u001b[0m\u001b[0m\n\u001b[0m\u001b[0;32m     28\u001b[0m \u001b[0mresident1\u001b[0m\u001b[1;33m.\u001b[0m\u001b[0mshowName\u001b[0m\u001b[1;33m(\u001b[0m\u001b[1;33m)\u001b[0m\u001b[1;33m\u001b[0m\u001b[1;33m\u001b[0m\u001b[0m\n\u001b[0;32m     29\u001b[0m \u001b[0mprint\u001b[0m\u001b[1;33m(\u001b[0m\u001b[0mresident1\u001b[0m\u001b[1;33m.\u001b[0m\u001b[0mgetID\u001b[0m\u001b[1;33m(\u001b[0m\u001b[1;33m)\u001b[0m\u001b[1;33m)\u001b[0m\u001b[1;33m\u001b[0m\u001b[1;33m\u001b[0m\u001b[0m\n",
      "\u001b[1;32m<ipython-input-19-ae9003a499d6>\u001b[0m in \u001b[0;36m__init__\u001b[1;34m(self, name, age, ids)\u001b[0m\n\u001b[0;32m     20\u001b[0m     \u001b[1;32mdef\u001b[0m \u001b[0m__init__\u001b[0m\u001b[1;33m(\u001b[0m\u001b[0mself\u001b[0m\u001b[1;33m,\u001b[0m\u001b[0mname\u001b[0m\u001b[1;33m,\u001b[0m\u001b[0mage\u001b[0m\u001b[1;33m,\u001b[0m\u001b[0mids\u001b[0m\u001b[1;33m)\u001b[0m\u001b[1;33m:\u001b[0m\u001b[1;33m\u001b[0m\u001b[1;33m\u001b[0m\u001b[0m\n\u001b[0;32m     21\u001b[0m         \u001b[0mPerson\u001b[0m\u001b[1;33m.\u001b[0m\u001b[0m__init__\u001b[0m\u001b[1;33m(\u001b[0m\u001b[0mself\u001b[0m\u001b[1;33m,\u001b[0m\u001b[0mname\u001b[0m\u001b[1;33m,\u001b[0m\u001b[0mage\u001b[0m\u001b[1;33m)\u001b[0m\u001b[1;31m#person bhanne class ko  constuctor lai initialize gareko or profile bhanne class bata inherit gareko\u001b[0m\u001b[1;33m\u001b[0m\u001b[1;33m\u001b[0m\u001b[0m\n\u001b[1;32m---> 22\u001b[1;33m         \u001b[0mStudent\u001b[0m\u001b[1;33m.\u001b[0m\u001b[0m__init\u001b[0m\u001b[1;33m(\u001b[0m\u001b[0mself\u001b[0m\u001b[1;33m,\u001b[0m\u001b[0mids\u001b[0m\u001b[1;33m)\u001b[0m\u001b[1;31m# student class ko init function lai tanera yeha lerayera rakheko\u001b[0m\u001b[1;33m\u001b[0m\u001b[1;33m\u001b[0m\u001b[0m\n\u001b[0m\u001b[0;32m     23\u001b[0m         \u001b[0mprint\u001b[0m\u001b[1;33m(\u001b[0m\u001b[0mself\u001b[0m\u001b[1;33m.\u001b[0m\u001b[0mname\u001b[0m\u001b[1;33m,\u001b[0m\u001b[0mself\u001b[0m\u001b[1;33m.\u001b[0m\u001b[0mage\u001b[0m\u001b[1;33m,\u001b[0m\u001b[0mself\u001b[0m\u001b[1;33m.\u001b[0m\u001b[0mids\u001b[0m\u001b[1;33m)\u001b[0m\u001b[1;33m\u001b[0m\u001b[1;33m\u001b[0m\u001b[0m\n\u001b[0;32m     24\u001b[0m \u001b[1;33m\u001b[0m\u001b[0m\n",
      "\u001b[1;31mAttributeError\u001b[0m: type object 'Student' has no attribute '_Resident__init'"
     ]
    }
   ],
   "source": [
    "class Person:\n",
    "    #defining constuctor\n",
    "    def __init__(self,personName,personAge):\n",
    "        self.name = personName\n",
    "        self.age = personAge\n",
    "        #defining class  methods\n",
    "    def showName(self):\n",
    "        print(self.name)\n",
    "        \n",
    "    def showAge(self):\n",
    "        print(self.age)\n",
    "        \n",
    "class Student:\n",
    "    def __init__(self,studentId):\n",
    "        self.ids = studentId\n",
    "    def getId(self):\n",
    "        return self.ids\n",
    "#bahira bata value call garnu paryo bhane matra use hunxa bhaira bata value call garna sajilo ho bhaneta hamle rakheko ho return\n",
    "class Resident(Person,Student):#\n",
    "    def __init__(self,name,age,ids):\n",
    "        Person.__init__(self,name,age)#person bhanne class ko  constuctor lai initialize gareko or profile bhanne class bata inherit gareko\n",
    "        Student.__init(self,ids)# student class ko init function lai tanera yeha lerayera rakheko\n",
    "        print(self.name,self.age,self.ids)\n",
    "        \n",
    "        #create an object of thesubclass\n",
    "        \n",
    "resident1 = Resident(\"Rama\",22,1)\n",
    "resident1.showName()\n",
    "print(resident1.getID())\n",
    "\n",
    "        \n",
    "        \n",
    "        \n",
    "        \n",
    "        \n",
    "    "
   ]
  },
  {
   "cell_type": "code",
   "execution_count": 1,
   "metadata": {},
   "outputs": [
    {
     "ename": "TypeError",
     "evalue": "__init__() missing 1 required positional argument: 'address'",
     "output_type": "error",
     "traceback": [
      "\u001b[1;31m---------------------------------------------------------------------------\u001b[0m",
      "\u001b[1;31mTypeError\u001b[0m                                 Traceback (most recent call last)",
      "\u001b[1;32m<ipython-input-1-75e7da60fc17>\u001b[0m in \u001b[0;36m<module>\u001b[1;34m\u001b[0m\n\u001b[0;32m     17\u001b[0m \u001b[1;33m\u001b[0m\u001b[0m\n\u001b[0;32m     18\u001b[0m \u001b[1;33m\u001b[0m\u001b[0m\n\u001b[1;32m---> 19\u001b[1;33m \u001b[0mx\u001b[0m \u001b[1;33m=\u001b[0m \u001b[0mHr\u001b[0m\u001b[1;33m(\u001b[0m\u001b[1;34m\"Ram\"\u001b[0m\u001b[1;33m,\u001b[0m\u001b[1;34m\"Kathmandu\"\u001b[0m\u001b[1;33m)\u001b[0m\u001b[1;33m\u001b[0m\u001b[1;33m\u001b[0m\u001b[0m\n\u001b[0m\u001b[0;32m     20\u001b[0m \u001b[0mx\u001b[0m\u001b[1;33m.\u001b[0m\u001b[0minfo\u001b[0m\u001b[1;33m(\u001b[0m\u001b[1;33m)\u001b[0m\u001b[1;33m\u001b[0m\u001b[1;33m\u001b[0m\u001b[0m\n\u001b[0;32m     21\u001b[0m \u001b[0mx\u001b[0m\u001b[1;33m.\u001b[0m\u001b[0mprofile\u001b[0m\u001b[1;33m(\u001b[0m\u001b[1;33m)\u001b[0m\u001b[1;33m\u001b[0m\u001b[1;33m\u001b[0m\u001b[0m\n",
      "\u001b[1;31mTypeError\u001b[0m: __init__() missing 1 required positional argument: 'address'"
     ]
    }
   ],
   "source": [
    "#arko class ko methods haru lai inherit garne ho bhane chai super bhanne function use hunxa ..super().methodname..super function usr garne ani value lai chai return garnuparxa\n",
    "class Profile:\n",
    "    def __init__(self,name,age):\n",
    "        self.name = name\n",
    "        self.age = age\n",
    "    def show (self):\n",
    "        return \"Address = Patan\"\n",
    "    \n",
    "    def showage(self):\n",
    "        return self.age\n",
    "        \n",
    "class Hr(Profile):\n",
    "    def __init__(self,name,age,address):\n",
    "        Person.__init__(self,name,age)\n",
    "        self.address = address\n",
    "   \n",
    "        \n",
    "        \n",
    "x = Hr(\"Ram\",\"Kathmandu\")\n",
    "x.info()\n",
    "x.profile()\n",
    "print(x.name)\n"
   ]
  },
  {
   "cell_type": "code",
   "execution_count": null,
   "metadata": {},
   "outputs": [],
   "source": []
  }
 ],
 "metadata": {
  "kernelspec": {
   "display_name": "Python 3",
   "language": "python",
   "name": "python3"
  },
  "language_info": {
   "codemirror_mode": {
    "name": "ipython",
    "version": 3
   },
   "file_extension": ".py",
   "mimetype": "text/x-python",
   "name": "python",
   "nbconvert_exporter": "python",
   "pygments_lexer": "ipython3",
   "version": "3.7.4"
  }
 },
 "nbformat": 4,
 "nbformat_minor": 2
}
