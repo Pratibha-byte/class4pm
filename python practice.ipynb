{
 "cells": [
  {
   "cell_type": "code",
   "execution_count": 1,
   "metadata": {},
   "outputs": [
    {
     "data": {
      "text/plain": [
       "'Hello World'"
      ]
     },
     "execution_count": 1,
     "metadata": {},
     "output_type": "execute_result"
    }
   ],
   "source": [
    "a = \"Hello World\"\n",
    "a"
   ]
  },
  {
   "cell_type": "code",
   "execution_count": 2,
   "metadata": {},
   "outputs": [
    {
     "name": "stdout",
     "output_type": "stream",
     "text": [
      "Hello World\n"
     ]
    }
   ],
   "source": [
    "a = \"Hello World\"\n",
    "print(a)"
   ]
  },
  {
   "cell_type": "code",
   "execution_count": 3,
   "metadata": {},
   "outputs": [
    {
     "data": {
      "text/plain": [
       "5"
      ]
     },
     "execution_count": 3,
     "metadata": {},
     "output_type": "execute_result"
    }
   ],
   "source": [
    "a = 2\n",
    "b = 3\n",
    "a+b"
   ]
  },
  {
   "cell_type": "code",
   "execution_count": 4,
   "metadata": {},
   "outputs": [
    {
     "name": "stdout",
     "output_type": "stream",
     "text": [
      "5\n"
     ]
    }
   ],
   "source": [
    "a = 2\n",
    "b = 3\n",
    "print(a+b)"
   ]
  },
  {
   "cell_type": "code",
   "execution_count": 5,
   "metadata": {},
   "outputs": [
    {
     "name": "stdout",
     "output_type": "stream",
     "text": [
      "{1, 2, 3, 4}\n"
     ]
    }
   ],
   "source": [
    "a = {1,2,3,4}\n",
    "print(a)"
   ]
  },
  {
   "cell_type": "code",
   "execution_count": 6,
   "metadata": {},
   "outputs": [
    {
     "name": "stdout",
     "output_type": "stream",
     "text": [
      "<class 'set'>\n"
     ]
    }
   ],
   "source": [
    "print(type(a))"
   ]
  },
  {
   "cell_type": "code",
   "execution_count": 7,
   "metadata": {},
   "outputs": [
    {
     "name": "stdout",
     "output_type": "stream",
     "text": [
      "<class 'tuple'>\n"
     ]
    }
   ],
   "source": [
    "a = (1,2,3,4)\n",
    "print(type(a))"
   ]
  },
  {
   "cell_type": "code",
   "execution_count": 8,
   "metadata": {},
   "outputs": [
    {
     "data": {
      "text/plain": [
       "144"
      ]
     },
     "execution_count": 8,
     "metadata": {},
     "output_type": "execute_result"
    }
   ],
   "source": [
    "a = 12\n",
    "b = 12\n",
    "a*b"
   ]
  },
  {
   "cell_type": "code",
   "execution_count": 9,
   "metadata": {},
   "outputs": [
    {
     "data": {
      "text/plain": [
       "8916100448256"
      ]
     },
     "execution_count": 9,
     "metadata": {},
     "output_type": "execute_result"
    }
   ],
   "source": [
    "a**b"
   ]
  },
  {
   "cell_type": "code",
   "execution_count": 10,
   "metadata": {},
   "outputs": [
    {
     "name": "stdout",
     "output_type": "stream",
     "text": [
      "22\n"
     ]
    }
   ],
   "source": [
    "l = 11\n",
    "b = 11\n",
    "print(l+b)"
   ]
  },
  {
   "cell_type": "code",
   "execution_count": 11,
   "metadata": {},
   "outputs": [
    {
     "name": "stdout",
     "output_type": "stream",
     "text": [
      "Hello World\n"
     ]
    }
   ],
   "source": [
    "#function\n",
    "\n",
    "def cal():\n",
    "    print(\"Hello World\")\n",
    "cal()\n",
    "\n"
   ]
  },
  {
   "cell_type": "code",
   "execution_count": 12,
   "metadata": {},
   "outputs": [
    {
     "name": "stdout",
     "output_type": "stream",
     "text": [
      "Enter the value of l = \n"
     ]
    },
    {
     "ename": "ValueError",
     "evalue": "invalid literal for int() with base 10: ''",
     "output_type": "error",
     "traceback": [
      "\u001b[1;31m---------------------------------------------------------------------------\u001b[0m",
      "\u001b[1;31mValueError\u001b[0m                                Traceback (most recent call last)",
      "\u001b[1;32m<ipython-input-12-c338643e18f2>\u001b[0m in \u001b[0;36m<module>\u001b[1;34m\u001b[0m\n\u001b[0;32m      4\u001b[0m \u001b[1;33m\u001b[0m\u001b[0m\n\u001b[0;32m      5\u001b[0m     \u001b[0mprint\u001b[0m\u001b[1;33m(\u001b[0m\u001b[1;34m\"The area is = \"\u001b[0m\u001b[1;33m,\u001b[0m\u001b[0ml\u001b[0m\u001b[1;33m*\u001b[0m\u001b[0mb\u001b[0m\u001b[1;33m)\u001b[0m\u001b[1;33m\u001b[0m\u001b[1;33m\u001b[0m\u001b[0m\n\u001b[1;32m----> 6\u001b[1;33m \u001b[0mArea\u001b[0m\u001b[1;33m(\u001b[0m\u001b[1;33m)\u001b[0m\u001b[1;33m\u001b[0m\u001b[1;33m\u001b[0m\u001b[0m\n\u001b[0m",
      "\u001b[1;32m<ipython-input-12-c338643e18f2>\u001b[0m in \u001b[0;36mArea\u001b[1;34m()\u001b[0m\n\u001b[0;32m      1\u001b[0m \u001b[1;32mdef\u001b[0m \u001b[0mArea\u001b[0m\u001b[1;33m(\u001b[0m\u001b[1;33m)\u001b[0m\u001b[1;33m:\u001b[0m\u001b[1;33m\u001b[0m\u001b[1;33m\u001b[0m\u001b[0m\n\u001b[1;32m----> 2\u001b[1;33m     \u001b[0ml\u001b[0m \u001b[1;33m=\u001b[0m \u001b[0mint\u001b[0m\u001b[1;33m(\u001b[0m\u001b[0minput\u001b[0m\u001b[1;33m(\u001b[0m\u001b[1;34m\"Enter the value of l = \"\u001b[0m\u001b[1;33m)\u001b[0m\u001b[1;33m)\u001b[0m\u001b[1;33m\u001b[0m\u001b[1;33m\u001b[0m\u001b[0m\n\u001b[0m\u001b[0;32m      3\u001b[0m     \u001b[0mb\u001b[0m \u001b[1;33m=\u001b[0m \u001b[0mint\u001b[0m\u001b[1;33m(\u001b[0m\u001b[0minput\u001b[0m\u001b[1;33m(\u001b[0m\u001b[1;34m\"Enter the value of b = \"\u001b[0m\u001b[1;33m)\u001b[0m\u001b[1;33m)\u001b[0m\u001b[1;33m\u001b[0m\u001b[1;33m\u001b[0m\u001b[0m\n\u001b[0;32m      4\u001b[0m \u001b[1;33m\u001b[0m\u001b[0m\n\u001b[0;32m      5\u001b[0m     \u001b[0mprint\u001b[0m\u001b[1;33m(\u001b[0m\u001b[1;34m\"The area is = \"\u001b[0m\u001b[1;33m,\u001b[0m\u001b[0ml\u001b[0m\u001b[1;33m*\u001b[0m\u001b[0mb\u001b[0m\u001b[1;33m)\u001b[0m\u001b[1;33m\u001b[0m\u001b[1;33m\u001b[0m\u001b[0m\n",
      "\u001b[1;31mValueError\u001b[0m: invalid literal for int() with base 10: ''"
     ]
    }
   ],
   "source": [
    "def Area():\n",
    "    l = int(input(\"Enter the value of l = \"))\n",
    "    b = int(input(\"Enter the value of b = \"))\n",
    "    \n",
    "    print(\"The area is = \",l*b)\n",
    "Area()"
   ]
  },
  {
   "cell_type": "code",
   "execution_count": 14,
   "metadata": {},
   "outputs": [
    {
     "name": "stdout",
     "output_type": "stream",
     "text": [
      "Enter the value of l = 10\n",
      "Enter the value of b = 11\n",
      "Enter the value of h = 13\n",
      "The area is =  110\n",
      "The volume is =  1430\n"
     ]
    }
   ],
   "source": [
    "\n",
    "\n",
    "l = int(input(\"Enter the value of l = \"))\n",
    "b = int(input(\"Enter the value of b = \"))\n",
    "h = int(input(\"Enter the value of h = \"))\n",
    " \n",
    "def Area():\n",
    "   \n",
    "\n",
    "    \n",
    "    print(\"The area is = \",l*b)\n",
    "def Volume():\n",
    "    print(\"The volume is = \",l*b*h)\n",
    "    \n",
    "Area()\n",
    "Volume()"
   ]
  },
  {
   "cell_type": "code",
   "execution_count": 15,
   "metadata": {},
   "outputs": [
    {
     "name": "stdout",
     "output_type": "stream",
     "text": [
      "Enter the value of l = 11\n",
      "Enter the value of b = 2\n",
      "Enter the value of h = 3\n",
      "The area is =  22\n",
      "The volume is =  1430\n"
     ]
    }
   ],
   "source": [
    "\n",
    "\n",
    " \n",
    "def Area():\n",
    "    l = int(input(\"Enter the value of l = \"))\n",
    "    b = int(input(\"Enter the value of b = \"))\n",
    "    h = int(input(\"Enter the value of h = \"))\n",
    "   \n",
    "\n",
    "    \n",
    "    print(\"The area is = \",l*b)\n",
    "def Volume():\n",
    "    \n",
    "    print(\"The volume is = \",l*b*h)\n",
    "    \n",
    "Area()\n",
    "Volume()"
   ]
  },
  {
   "cell_type": "code",
   "execution_count": 3,
   "metadata": {},
   "outputs": [
    {
     "name": "stdout",
     "output_type": "stream",
     "text": [
      "Enter the value of p = 200000\n",
      "Enter the value of t = 2\n",
      "Enter the value of r = 24\n",
      "The simple intrest is =  96000.0\n"
     ]
    }
   ],
   "source": [
    "def simpleintrest():\n",
    "    p = int(input(\"Enter the value of p = \"))\n",
    "    t = int(input(\"Enter the value of t = \"))\n",
    "    r = int(input(\"Enter the value of r = \"))\n",
    "    si = p*t*r/100\n",
    "    \n",
    "    print(\"The simple intrest is = \",si)\n",
    "    \n",
    "simpleintrest()"
   ]
  },
  {
   "cell_type": "code",
   "execution_count": 17,
   "metadata": {},
   "outputs": [
    {
     "name": "stdout",
     "output_type": "stream",
     "text": [
      "Enter the name = pratibha\n",
      "Enter the age = 11\n",
      "Enter the address = kk\n"
     ]
    }
   ],
   "source": [
    "def info():\n",
    "    name = input(\"Enter the name = \")\n",
    "    age = int(input(\"Enter the age = \"))\n",
    "    address = input(\"Enter the address = \")\n",
    "    \n",
    "info()"
   ]
  },
  {
   "cell_type": "code",
   "execution_count": 18,
   "metadata": {},
   "outputs": [
    {
     "name": "stdout",
     "output_type": "stream",
     "text": [
      "hello i am pratibha\n",
      "i live inktm\n",
      "hello i am pratibha i live in ktm\n"
     ]
    }
   ],
   "source": [
    "def intro():\n",
    "    a = input(\"hello i am \")\n",
    "    b = input(\"i live in\")\n",
    "    print(\"hello i am\",a  +  \" i live in\",b)\n",
    "intro()    \n",
    "   "
   ]
  },
  {
   "cell_type": "code",
   "execution_count": 19,
   "metadata": {},
   "outputs": [
    {
     "name": "stdout",
     "output_type": "stream",
     "text": [
      "Enter the name = pp\n",
      "ENter the age = 11\n",
      "Enter the name  ppENter the age  11\n"
     ]
    }
   ],
   "source": [
    "def info():\n",
    "    name = input(\"Enter the name = \")\n",
    "    age = int(input(\"ENter the age = \"))\n",
    "    print(\"Enter the name \",name + \"ENter the age \",age)\n",
    "info()"
   ]
  },
  {
   "cell_type": "code",
   "execution_count": 20,
   "metadata": {},
   "outputs": [
    {
     "name": "stdout",
     "output_type": "stream",
     "text": [
      "Enter the name = pratibha\n",
      "ENter the age = 11\n",
      "My name is pratibha i am   11\n"
     ]
    }
   ],
   "source": [
    "def info():\n",
    "    name = input(\"Enter the name = \")\n",
    "    age = int(input(\"ENter the age = \"))\n",
    "    print(\"My name is\",name +  \" i am  \",age)\n",
    "info()"
   ]
  },
  {
   "cell_type": "code",
   "execution_count": 21,
   "metadata": {},
   "outputs": [
    {
     "name": "stdout",
     "output_type": "stream",
     "text": [
      "Enter the name = hsdgsh\n",
      "ENter the age = 1\n",
      "Enter the address = kdjgf\n",
      "My name is hsdgsh i am   1 I am from kdjgf\n"
     ]
    }
   ],
   "source": [
    "def info():\n",
    "    name = input(\"Enter the name = \")\n",
    "    age = int(input(\"ENter the age = \"))\n",
    "    address = input(\"Enter the address = \")\n",
    "    print(\"My name is\",name +  \" i am  \",age,\"I am from\",address)\n",
    "info()"
   ]
  },
  {
   "cell_type": "code",
   "execution_count": 22,
   "metadata": {},
   "outputs": [
    {
     "name": "stdout",
     "output_type": "stream",
     "text": [
      "Enter the l = 11\n",
      "ENter the b = 22\n",
      "The area is =  242\n"
     ]
    }
   ],
   "source": [
    "def Area(l,b):\n",
    "    l = int(input(\"Enter the l = \"))\n",
    "    b = int(input(\"ENter the b = \"))\n",
    "    print(\"The area is = \",l*b)\n",
    "Area(l,b)"
   ]
  },
  {
   "cell_type": "code",
   "execution_count": null,
   "metadata": {},
   "outputs": [
    {
     "name": "stdout",
     "output_type": "stream",
     "text": [
      "Enter y for more calculations y\n",
      "ENter a = 11\n",
      "Enter b = 22\n",
      "ENter o(+,-,*,/)+\n",
      "33\n"
     ]
    }
   ],
   "source": [
    "def cal():\n",
    "    a = int(input(\"ENter a = \"))\n",
    "    b = int(input(\"Enter b = \"))\n",
    "    o = input(\"ENter o(+,-,*,/)\")\n",
    "    if o == '+':\n",
    "        print(a+b)\n",
    "    elif o =='-':\n",
    "        print(a-b)\n",
    "    elif o =='*':\n",
    "        print(a*b)\n",
    "    elif o =='/':\n",
    "        print(a/b)\n",
    "        \n",
    "    else:\n",
    "        print(\"Invalid operator\")\n",
    "        \n",
    "        \n",
    "x = input(\"Enter y for more calculations \")\n",
    "if x =='y':\n",
    "    cal()\n",
    "cal()\n",
    "    \n",
    "        \n",
    "  "
   ]
  },
  {
   "cell_type": "code",
   "execution_count": null,
   "metadata": {},
   "outputs": [],
   "source": [
    "def cal():\n",
    "    a = int(input(\"ENter a = \"))\n",
    "    b = int(input(\"Enter b = \"))\n",
    "    o = input(\"ENter o(+,-,*,/)\")\n",
    "    if o == '+':\n",
    "        print(a+b)\n",
    "    elif o =='-':\n",
    "        print(a-b)\n",
    "    elif o =='*':\n",
    "        print(a*b)\n",
    "    elif o =='/':\n",
    "        print(a/b)\n",
    "        \n",
    "    else:\n",
    "        print(\"Invalid operator\")\n",
    "        \n",
    "        \n",
    "x = input(\"Enter y for more calculations \")\n",
    "if x =='y':\n",
    "    cal()\n",
    "cal()\n",
    "    \n",
    "        "
   ]
  },
  {
   "cell_type": "code",
   "execution_count": null,
   "metadata": {},
   "outputs": [],
   "source": [
    "def cal():\n",
    "    a = int(input(\"ENter a = \"))\n",
    "    b = int(input(\"Enter b = \"))\n",
    "    o = input(\"ENter o(+,-,*,/)\")\n",
    "    if o == '+':\n",
    "        print(a+b)\n",
    "    elif o =='-':\n",
    "        print(a-b)\n",
    "    elif o =='*':\n",
    "        print(a*b)\n",
    "    elif o =='/':\n",
    "        print(a/b)\n",
    "        \n",
    "    else:\n",
    "        print(\"Invalid operator\")\n",
    "        "
   ]
  },
  {
   "cell_type": "code",
   "execution_count": null,
   "metadata": {},
   "outputs": [],
   "source": [
    "def cal():\n",
    "    a = int(input(\"Enter the value of a = \"))\n",
    "    b = int(input(\"Enter the value of b = \"))\n",
    "    \n",
    "    o = input(\"Enter o(+,-,*,/)\")\n",
    "    \n",
    "    if o == '+':\n",
    "        print(a+b)\n",
    "    elif o=='-':\n",
    "        print(a-b)\n",
    "    elif o =='*':\n",
    "        print(a*b)\n",
    "    elif o =='/':\n",
    "        print(a/b)\n",
    "    else:\n",
    "        print(\"Invalid operator\")\n",
    "cal()\n",
    "    "
   ]
  },
  {
   "cell_type": "code",
   "execution_count": null,
   "metadata": {},
   "outputs": [],
   "source": [
    "def add(a,b):\n",
    "    return(a+b)\n",
    "def sub(a,b):\n",
    "    return(a-b)\n",
    "def mul(a,b):\n",
    "    return(a*b)\n",
    "def div(a,b):\n",
    "    return(a/b)\n",
    "\n",
    "def cal():\n",
    "    a = int(input(\"Enter the value of a = \"))\n",
    "    b = int(input(\"Enter the value of b = \"))\n",
    "    c = input(\"Enter c(+,-,*,/)\")\n",
    "    \n",
    "    if c =='+':\n",
    "        print(a+b)\n",
    "    elif c =='-':\n",
    "        print(a-b)\n",
    "    elif c =='*':\n",
    "        print(a*b)\n",
    "    elif c =='/':\n",
    "        print(a/b)\n",
    "    else:\n",
    "        print(\"Invalid operator\")\n",
    "cal()\n",
    "    \n",
    "\n",
    "\n"
   ]
  },
  {
   "cell_type": "code",
   "execution_count": null,
   "metadata": {},
   "outputs": [],
   "source": [
    "import math as m\n",
    "m.pi"
   ]
  },
  {
   "cell_type": "code",
   "execution_count": null,
   "metadata": {},
   "outputs": [],
   "source": [
    "import math as m\n",
    "r = int(input(\"Enter the value of r = \"))\n",
    "\n",
    "a = m.pi*(m.pow(r,2))\n",
    "\n",
    "print(\"THe area is = \",a)\n"
   ]
  },
  {
   "cell_type": "code",
   "execution_count": null,
   "metadata": {},
   "outputs": [],
   "source": [
    "import math as m\n",
    "a = m.pow(2,2)\n",
    "a"
   ]
  },
  {
   "cell_type": "code",
   "execution_count": null,
   "metadata": {},
   "outputs": [],
   "source": [
    "import math as m\n",
    "a = m.pow(2,3)\n",
    "a"
   ]
  },
  {
   "cell_type": "code",
   "execution_count": null,
   "metadata": {},
   "outputs": [],
   "source": [
    "import math as m\n",
    "a = m.pow(8,9)\n",
    "a"
   ]
  },
  {
   "cell_type": "code",
   "execution_count": null,
   "metadata": {},
   "outputs": [],
   "source": [
    "m.factorial(2)"
   ]
  },
  {
   "cell_type": "code",
   "execution_count": null,
   "metadata": {},
   "outputs": [],
   "source": [
    "m.factorial(33)"
   ]
  },
  {
   "cell_type": "code",
   "execution_count": null,
   "metadata": {},
   "outputs": [],
   "source": [
    "m.factorial(5)"
   ]
  },
  {
   "cell_type": "code",
   "execution_count": null,
   "metadata": {},
   "outputs": [],
   "source": [
    "import math as m\n",
    "m.pi"
   ]
  },
  {
   "cell_type": "code",
   "execution_count": 2,
   "metadata": {},
   "outputs": [
    {
     "data": {
      "text/plain": [
       "32.0"
      ]
     },
     "execution_count": 2,
     "metadata": {},
     "output_type": "execute_result"
    }
   ],
   "source": [
    "import math as m\n",
    "m.pow(2,5)"
   ]
  },
  {
   "cell_type": "code",
   "execution_count": 3,
   "metadata": {},
   "outputs": [
    {
     "data": {
      "text/plain": [
       "1.0"
      ]
     },
     "execution_count": 3,
     "metadata": {},
     "output_type": "execute_result"
    }
   ],
   "source": [
    "import  math as m\n",
    "x = m.sin(m.pi/2)\n",
    "y = m.cos(m.pi/2)\n",
    "m.pow(x,2)+m.pow(y,2)"
   ]
  },
  {
   "cell_type": "code",
   "execution_count": 4,
   "metadata": {},
   "outputs": [
    {
     "data": {
      "text/plain": [
       "1.0"
      ]
     },
     "execution_count": 4,
     "metadata": {},
     "output_type": "execute_result"
    }
   ],
   "source": [
    "import math as m\n",
    "x = m.sin(m.pi/2)\n",
    "m.pow(x,2)"
   ]
  },
  {
   "cell_type": "code",
   "execution_count": 6,
   "metadata": {},
   "outputs": [
    {
     "data": {
      "text/plain": [
       "3.749399456654644e-33"
      ]
     },
     "execution_count": 6,
     "metadata": {},
     "output_type": "execute_result"
    }
   ],
   "source": [
    "import math as m\n",
    "y = m.cos(m.pi/2)\n",
    "m.pow(y,2)\n",
    "\n",
    "\n",
    "\n"
   ]
  },
  {
   "cell_type": "code",
   "execution_count": 7,
   "metadata": {},
   "outputs": [
    {
     "data": {
      "text/plain": [
       "1.0"
      ]
     },
     "execution_count": 7,
     "metadata": {},
     "output_type": "execute_result"
    }
   ],
   "source": [
    "import  math as m\n",
    "x = m.sin(m.pi/2)\n",
    "y = m.cos(m.pi/2)\n",
    "m.pow(x,2)+m.pow(y,2)"
   ]
  },
  {
   "cell_type": "code",
   "execution_count": 8,
   "metadata": {},
   "outputs": [
    {
     "name": "stdout",
     "output_type": "stream",
     "text": [
      "Hello World\n",
      "Hello World\n",
      "Hello World\n",
      "Hello World\n",
      "Hello World\n"
     ]
    }
   ],
   "source": [
    "for i in range(5):\n",
    "    print(\"Hello World\")"
   ]
  },
  {
   "cell_type": "code",
   "execution_count": 9,
   "metadata": {},
   "outputs": [
    {
     "name": "stdout",
     "output_type": "stream",
     "text": [
      "0 Helllo World\n",
      "1 Helllo World\n",
      "2 Helllo World\n",
      "3 Helllo World\n",
      "4 Helllo World\n"
     ]
    }
   ],
   "source": [
    "for i in range(5):\n",
    "    print(i,\"Helllo World\")"
   ]
  },
  {
   "cell_type": "code",
   "execution_count": 16,
   "metadata": {},
   "outputs": [
    {
     "name": "stdout",
     "output_type": "stream",
     "text": [
      "Hello world\n",
      "Hello world\n",
      "Hello world\n",
      "Hello world\n",
      "Hello world\n",
      "Hello world\n",
      "\n"
     ]
    }
   ],
   "source": [
    "a = \"Hello world\\n\"\n",
    "print(a*6)"
   ]
  },
  {
   "cell_type": "code",
   "execution_count": 15,
   "metadata": {},
   "outputs": [
    {
     "name": "stdout",
     "output_type": "stream",
     "text": [
      "Hello World\n",
      "Hello World\n",
      "Hello World\n",
      "Hello World\n",
      "Hello World\n",
      "\n"
     ]
    }
   ],
   "source": [
    "a = \"Hello World\\n\"\n",
    "print(a*5)"
   ]
  },
  {
   "cell_type": "code",
   "execution_count": 19,
   "metadata": {},
   "outputs": [
    {
     "data": {
      "text/plain": [
       "'Hello worldHello worldHello worldHello worldHello worldHello world'"
      ]
     },
     "execution_count": 19,
     "metadata": {},
     "output_type": "execute_result"
    }
   ],
   "source": [
    "a = \"Hello world\"\n",
    "a * 6"
   ]
  },
  {
   "cell_type": "code",
   "execution_count": null,
   "metadata": {},
   "outputs": [],
   "source": [
    "i = ''\n",
    "n = int(input(\"Enter the value of n = \"))\n",
    "for i in range(n):\n",
    "    name = input(\"Enter the name = \")\n",
    "    address = (input(\"Enter the address = \"))\n",
    "    \n",
    "    a = name +address\n",
    "    i = i+\" \"+a\n",
    "print(i)\n",
    "    \n",
    "    \n",
    "    \n",
    "    "
   ]
  },
  {
   "cell_type": "code",
   "execution_count": null,
   "metadata": {},
   "outputs": [],
   "source": [
    "u = \"\"\n",
    "n = int(input(\"Enter the value of n = \"))\n",
    "for i in range(n):\n",
    "    x = input(\"Enter name = \")\n",
    "    u = u+\" \"+x\n",
    "print(u)    "
   ]
  },
  {
   "cell_type": "code",
   "execution_count": null,
   "metadata": {},
   "outputs": [],
   "source": [
    "n = int(input(\"Enter the value of n = \"))\n",
    "u = \" \"\n",
    "for i in range(n):\n",
    "    name = input(\"Enter the name = \")\n",
    "    address = input(\"Enter the address = \")\n",
    "    age = int(input(\"Enter the age = \"))\n",
    "    \n",
    "    u = u + \"name\"+\"address\"+\"age\"\n",
    "print(u)"
   ]
  },
  {
   "cell_type": "code",
   "execution_count": 3,
   "metadata": {},
   "outputs": [
    {
     "ename": "FileExistsError",
     "evalue": "[Errno 17] File exists: 'bb.txt'",
     "output_type": "error",
     "traceback": [
      "\u001b[1;31m---------------------------------------------------------------------------\u001b[0m",
      "\u001b[1;31mFileExistsError\u001b[0m                           Traceback (most recent call last)",
      "\u001b[1;32m<ipython-input-3-931805980c89>\u001b[0m in \u001b[0;36m<module>\u001b[1;34m\u001b[0m\n\u001b[1;32m----> 1\u001b[1;33m \u001b[0ma\u001b[0m \u001b[1;33m=\u001b[0m \u001b[0mopen\u001b[0m\u001b[1;33m(\u001b[0m\u001b[1;34m\"bb.txt\"\u001b[0m\u001b[1;33m,\u001b[0m\u001b[1;34m\"x\"\u001b[0m\u001b[1;33m)\u001b[0m\u001b[1;33m\u001b[0m\u001b[1;33m\u001b[0m\u001b[0m\n\u001b[0m\u001b[0;32m      2\u001b[0m \u001b[0ma\u001b[0m\u001b[1;33m.\u001b[0m\u001b[0mclose\u001b[0m\u001b[1;33m(\u001b[0m\u001b[1;33m)\u001b[0m\u001b[1;33m\u001b[0m\u001b[1;33m\u001b[0m\u001b[0m\n",
      "\u001b[1;31mFileExistsError\u001b[0m: [Errno 17] File exists: 'bb.txt'"
     ]
    }
   ],
   "source": [
    "a = open(\"bb.txt\",\"x\")\n",
    "a.close()"
   ]
  },
  {
   "cell_type": "code",
   "execution_count": 2,
   "metadata": {},
   "outputs": [],
   "source": [
    "b = open(\"file111.txt\",\"x\")\n",
    "b.close()"
   ]
  },
  {
   "cell_type": "code",
   "execution_count": 4,
   "metadata": {},
   "outputs": [],
   "source": [
    "a = open(\"bb.txt\",\"w\")\n",
    "a.write(\"My name is Pratibha Nepal\")\n",
    "a.close()"
   ]
  },
  {
   "cell_type": "code",
   "execution_count": 10,
   "metadata": {},
   "outputs": [
    {
     "name": "stdout",
     "output_type": "stream",
     "text": [
      "My name is Pratibha Nepal\n",
      "6\n",
      "bb.tx\n"
     ]
    }
   ],
   "source": [
    "a = open(\"bb.txt\",\"r\")\n",
    "print(a.readline())\n",
    "print(len(\"bb.txt\"))\n",
    "a.close()\n"
   ]
  },
  {
   "cell_type": "code",
   "execution_count": 18,
   "metadata": {},
   "outputs": [
    {
     "name": "stdout",
     "output_type": "stream",
     "text": [
      "6\n",
      "Even\n"
     ]
    }
   ],
   "source": [
    "\n",
    "\n",
    "        \n",
    "        \n",
    "        \n",
    "a = open(\"bb.txt\",\"r\")        \n",
    "for i in range(1):\n",
    "\n",
    "    \n",
    "    print(len(\"bb.txt\"))\n",
    "    \n",
    "    if len(\"bb.txt >=2\"):\n",
    "        print(\"Even\")\n",
    "    else:\n",
    "        print(\"Error\")\n",
    "a.close()\n"
   ]
  },
  {
   "cell_type": "code",
   "execution_count": 5,
   "metadata": {},
   "outputs": [
    {
     "name": "stdout",
     "output_type": "stream",
     "text": [
      "Hello\n"
     ]
    }
   ],
   "source": [
    "a = \"Hello World\"\n",
    "print(a[0:5])\n"
   ]
  },
  {
   "cell_type": "code",
   "execution_count": 2,
   "metadata": {},
   "outputs": [
    {
     "name": "stdout",
     "output_type": "stream",
     "text": [
      "d\n"
     ]
    }
   ],
   "source": [
    "a = \"Hello World\"\n",
    "print(a[-1])"
   ]
  },
  {
   "cell_type": "code",
   "execution_count": 3,
   "metadata": {},
   "outputs": [
    {
     "name": "stdout",
     "output_type": "stream",
     "text": [
      "l\n"
     ]
    }
   ],
   "source": [
    "a = \"Hello World\"\n",
    "print(a[-2])"
   ]
  },
  {
   "cell_type": "code",
   "execution_count": 9,
   "metadata": {},
   "outputs": [
    {
     "name": "stdout",
     "output_type": "stream",
     "text": [
      "ENter the value of n = 2\n",
      "Enter the name = Pratibha\n",
      "Enter address = KApna\n",
      "Pratibha KApna\n",
      "Enter the name = jadg\n",
      "Enter address = yiduf\n",
      "jadg yiduf\n"
     ]
    }
   ],
   "source": [
    "n = int(input(\"ENter the value of n = \"))\n",
    "u = \" \"\n",
    "def info():\n",
    "    \n",
    "    \n",
    "\n",
    "    for i in range(n):\n",
    "        \n",
    "        name = input(\"Enter the name = \")\n",
    "        address = input(\"Enter address = \")\n",
    "        u = f\"{name} {address}\"\n",
    "        print(u)\n",
    "info()\n",
    "\n",
    "    \n",
    "    \n",
    "    \n",
    "    \n",
    "    \n",
    "    "
   ]
  },
  {
   "cell_type": "code",
   "execution_count": 11,
   "metadata": {},
   "outputs": [
    {
     "name": "stdout",
     "output_type": "stream",
     "text": [
      "0\n",
      "1\n",
      "2\n",
      "3\n",
      "4\n"
     ]
    }
   ],
   "source": [
    "for i in range(5):\n",
    "    print(i)"
   ]
  },
  {
   "cell_type": "code",
   "execution_count": 15,
   "metadata": {},
   "outputs": [
    {
     "name": "stdout",
     "output_type": "stream",
     "text": [
      "1\n",
      "2\n",
      "3\n",
      "4\n",
      "5\n",
      "6\n",
      "7\n",
      "8\n",
      "9\n"
     ]
    }
   ],
   "source": [
    "for i in range(1,10):\n",
    "    print(i)"
   ]
  },
  {
   "cell_type": "code",
   "execution_count": 17,
   "metadata": {},
   "outputs": [
    {
     "ename": "TypeError",
     "evalue": "'type' object is not iterable",
     "output_type": "error",
     "traceback": [
      "\u001b[1;31m---------------------------------------------------------------------------\u001b[0m",
      "\u001b[1;31mTypeError\u001b[0m                                 Traceback (most recent call last)",
      "\u001b[1;32m<ipython-input-17-6a48529de5df>\u001b[0m in \u001b[0;36m<module>\u001b[1;34m\u001b[0m\n\u001b[1;32m----> 1\u001b[1;33m \u001b[1;32mfor\u001b[0m \u001b[0mi\u001b[0m \u001b[1;32min\u001b[0m \u001b[0mrange\u001b[0m\u001b[1;33m:\u001b[0m\u001b[1;33m\u001b[0m\u001b[1;33m\u001b[0m\u001b[0m\n\u001b[0m\u001b[0;32m      2\u001b[0m     \u001b[0ma\u001b[0m \u001b[1;33m=\u001b[0m \u001b[1;34m\"Hello World\"\u001b[0m\u001b[1;33m\u001b[0m\u001b[1;33m\u001b[0m\u001b[0m\n\u001b[0;32m      3\u001b[0m     \u001b[0mprint\u001b[0m\u001b[1;33m(\u001b[0m\u001b[0mi\u001b[0m\u001b[1;33m)\u001b[0m\u001b[1;33m\u001b[0m\u001b[1;33m\u001b[0m\u001b[0m\n",
      "\u001b[1;31mTypeError\u001b[0m: 'type' object is not iterable"
     ]
    }
   ],
   "source": [
    "for i in range:\n",
    "    a = \"Hello World\"\n",
    "    print(i)"
   ]
  },
  {
   "cell_type": "code",
   "execution_count": 19,
   "metadata": {},
   "outputs": [
    {
     "ename": "SyntaxError",
     "evalue": "invalid syntax (<ipython-input-19-0db310b5b049>, line 8)",
     "output_type": "error",
     "traceback": [
      "\u001b[1;36m  File \u001b[1;32m\"<ipython-input-19-0db310b5b049>\"\u001b[1;36m, line \u001b[1;32m8\u001b[0m\n\u001b[1;33m    a = f\"({name},{address},{age}\")\u001b[0m\n\u001b[1;37m                                  ^\u001b[0m\n\u001b[1;31mSyntaxError\u001b[0m\u001b[1;31m:\u001b[0m invalid syntax\n"
     ]
    }
   ],
   "source": [
    "a = ()\n",
    "n = int(input(\"Enter the no of elements = \"))\n",
    "for i in range(n):\n",
    "    name = input(\"Enter name = \")\n",
    "    address = input(\"Enter the address = \")\n",
    "    age = int(input(\"ENter the value of age = \"))\n",
    "    \n",
    "    a = f\"{name},{address},{age}\"\n",
    "    print(a)"
   ]
  },
  {
   "cell_type": "code",
   "execution_count": 20,
   "metadata": {},
   "outputs": [
    {
     "name": "stdout",
     "output_type": "stream",
     "text": [
      "Enter the no of elements = 2\n",
      "Enter name = jdg\n",
      "Enter the address = smdb\n",
      "ENter the value of age = 2\n",
      "jdg,smdb,2\n",
      "Enter name = ad,hsbf\n",
      "Enter the address = jd\n",
      "ENter the value of age = 11\n",
      "ad,hsbf,jd,11\n"
     ]
    }
   ],
   "source": [
    "a = []\n",
    "n = int(input(\"Enter the no of elements = \"))\n",
    "for i in range(n):\n",
    "    name = input(\"Enter name = \")\n",
    "    address = input(\"Enter the address = \")\n",
    "    age = int(input(\"ENter the value of age = \"))\n",
    "    \n",
    "    a = f\"{name},{address},{age}\"\n",
    "    print(a)"
   ]
  },
  {
   "cell_type": "code",
   "execution_count": 22,
   "metadata": {},
   "outputs": [
    {
     "name": "stdout",
     "output_type": "stream",
     "text": [
      "ENter n = 1\n",
      "Enter name = shg\n",
      "Enter address = fh\n",
      "['shg+fh']\n"
     ]
    }
   ],
   "source": [
    "a = [ ]\n",
    "n = int(input(\"ENter n = \"))\n",
    "for i in range(n):\n",
    "    name = input(\"Enter name = \")\n",
    "    address = input(\"Enter address = \")\n",
    "    \n",
    "    a = a + [f\"{name},{address}\"]\n",
    "    print(a)"
   ]
  },
  {
   "cell_type": "code",
   "execution_count": 23,
   "metadata": {},
   "outputs": [
    {
     "name": "stdout",
     "output_type": "stream",
     "text": [
      "['apple', 'ball']\n"
     ]
    }
   ],
   "source": [
    "a = [\"apple\"]\n",
    "a.append(\"ball\")\n",
    "print(a)"
   ]
  },
  {
   "cell_type": "code",
   "execution_count": 24,
   "metadata": {},
   "outputs": [
    {
     "data": {
      "text/plain": [
       "['apple', 'ball']"
      ]
     },
     "execution_count": 24,
     "metadata": {},
     "output_type": "execute_result"
    }
   ],
   "source": [
    "a = [\"apple\"]\n",
    "a.append(\"ball\")\n",
    "a"
   ]
  },
  {
   "cell_type": "code",
   "execution_count": 25,
   "metadata": {},
   "outputs": [
    {
     "ename": "AttributeError",
     "evalue": "'list' object has no attribute 'replace'",
     "output_type": "error",
     "traceback": [
      "\u001b[1;31m---------------------------------------------------------------------------\u001b[0m",
      "\u001b[1;31mAttributeError\u001b[0m                            Traceback (most recent call last)",
      "\u001b[1;32m<ipython-input-25-7446ce5e293e>\u001b[0m in \u001b[0;36m<module>\u001b[1;34m\u001b[0m\n\u001b[0;32m      1\u001b[0m \u001b[0ma\u001b[0m \u001b[1;33m=\u001b[0m \u001b[1;33m[\u001b[0m\u001b[1;34m\"apple\"\u001b[0m\u001b[1;33m]\u001b[0m\u001b[1;33m\u001b[0m\u001b[1;33m\u001b[0m\u001b[0m\n\u001b[1;32m----> 2\u001b[1;33m \u001b[0ma\u001b[0m\u001b[1;33m.\u001b[0m\u001b[0mreplace\u001b[0m\u001b[1;33m(\u001b[0m\u001b[1;34m\"ball,apple\"\u001b[0m\u001b[1;33m)\u001b[0m\u001b[1;33m\u001b[0m\u001b[1;33m\u001b[0m\u001b[0m\n\u001b[0m",
      "\u001b[1;31mAttributeError\u001b[0m: 'list' object has no attribute 'replace'"
     ]
    }
   ],
   "source": []
  },
  {
   "cell_type": "code",
   "execution_count": 26,
   "metadata": {},
   "outputs": [
    {
     "name": "stdout",
     "output_type": "stream",
     "text": [
      "ENter n = 2\n",
      "Enter name = asg\n",
      "Enter address = fjdf\n",
      "['asg', 'fjdf']\n",
      "Enter name = jdgdmncb\n",
      "Enter address = sjdsgh\n",
      "['asg', 'fjdf', 'jdgdmncb', 'sjdsgh']\n"
     ]
    }
   ],
   "source": [
    "a = [ ]\n",
    "n = int(input(\"ENter n = \"))\n",
    "for i in range(n):\n",
    "    name = input(\"Enter name = \")\n",
    "    address = input(\"Enter address = \")\n",
    "    a.append(name)\n",
    "    a.append(address)\n",
    "    print(a)\n",
    "    \n"
   ]
  },
  {
   "cell_type": "code",
   "execution_count": 6,
   "metadata": {},
   "outputs": [
    {
     "name": "stdout",
     "output_type": "stream",
     "text": [
      "Enter n = 2\n",
      "Enter name = shdv\n",
      "Enter class = 1\n",
      "Enter the marks of c = 22\n",
      "Enter tye marks of oop = 33\n",
      "Enter the marks of ir = 44\n",
      "[['shdv', 1, 22, 33, 44]]\n",
      "Enter name = wjhdg\n",
      "Enter class = 2\n",
      "Enter the marks of c = 111\n",
      "Enter tye marks of oop = 22\n",
      "Enter the marks of ir = 33\n",
      "[['shdv', 1, 22, 33, 44], ['wjhdg', 2, 111, 22, 33]]\n"
     ]
    }
   ],
   "source": [
    "info = []\n",
    "n = int(input(\"Enter n = \"))\n",
    "for i in range(n):\n",
    "    name = input(\"Enter name = \")\n",
    "    grade = int(input(\"Enter class = \"))\n",
    "    c = int(input(\"Enter the marks of c = \"))\n",
    "    oop = int(input(\"Enter tye marks of oop = \"))\n",
    "    ir = int(input(\"Enter the marks of ir = \"))\n",
    "    \n",
    "    info.append([name,grade,c,oop,ir])\n",
    "    print(info)"
   ]
  },
  {
   "cell_type": "code",
   "execution_count": 1,
   "metadata": {},
   "outputs": [
    {
     "name": "stdout",
     "output_type": "stream",
     "text": [
      "Enter n = 2\n",
      "Enter name = Jsg\n",
      "Enter class = 1\n",
      "Enter the marks of c = 22\n",
      "Enter tye marks of oop = 222\n",
      "Enter the marks of ir = 222\n",
      "[['Jsg', 1, 22, 222, 222, 466]]\n",
      "Enter name = hzjx\n",
      "Enter class = 2\n",
      "Enter the marks of c = 33\n",
      "Enter tye marks of oop = 44\n",
      "Enter the marks of ir = 55\n",
      "[['Jsg', 1, 22, 222, 222, 466], ['hzjx', 2, 33, 44, 55, 132]]\n"
     ]
    }
   ],
   "source": [
    "info = []\n",
    "n = int(input(\"Enter n = \"))\n",
    "for i in range(n):\n",
    "    name = input(\"Enter name = \")\n",
    "    grade = int(input(\"Enter class = \"))\n",
    "    c = int(input(\"Enter the marks of c = \"))\n",
    "    oop = int(input(\"Enter tye marks of oop = \"))\n",
    "    ir = int(input(\"Enter the marks of ir = \"))\n",
    "    total = sum([c,oop,ir])\n",
    "    \n",
    "    info.append([name,grade,c,oop,ir,total])\n",
    "    print(info)"
   ]
  },
  {
   "cell_type": "code",
   "execution_count": 3,
   "metadata": {},
   "outputs": [
    {
     "name": "stdout",
     "output_type": "stream",
     "text": [
      "Enter b = 1\n",
      "[1]\n"
     ]
    }
   ],
   "source": [
    "a = []\n",
    "\n",
    "b = int(input(\"Enter b = \"))\n",
    "a.append(b)\n",
    "print(a)\n",
    "    "
   ]
  },
  {
   "cell_type": "code",
   "execution_count": 5,
   "metadata": {},
   "outputs": [
    {
     "name": "stdout",
     "output_type": "stream",
     "text": [
      "Enter n = 5\n",
      "Enter b = 1\n",
      "[1]\n",
      "Enter b = 2\n",
      "[1, 2]\n",
      "Enter b = 3\n",
      "[1, 2, 3]\n",
      "Enter b = 4\n",
      "[1, 2, 3, 4]\n",
      "Enter b = 5\n",
      "[1, 2, 3, 4, 5]\n"
     ]
    }
   ],
   "source": [
    "a = []\n",
    "n = int(input(\"Enter n = \"))\n",
    "for i in range(n):\n",
    "\n",
    "    b = int(input(\"Enter b = \"))\n",
    "    a.append(b)\n",
    "    print(a)"
   ]
  },
  {
   "cell_type": "code",
   "execution_count": 10,
   "metadata": {},
   "outputs": [
    {
     "data": {
      "text/plain": [
       "['dd', 'cc']"
      ]
     },
     "execution_count": 10,
     "metadata": {},
     "output_type": "execute_result"
    }
   ],
   "source": [
    "a = []\n",
    "a.append(\"dd\")\n",
    "a.append(\"cc\")\n",
    "a"
   ]
  },
  {
   "cell_type": "code",
   "execution_count": 8,
   "metadata": {},
   "outputs": [
    {
     "ename": "AttributeError",
     "evalue": "'list' object has no attribute 'replace'",
     "output_type": "error",
     "traceback": [
      "\u001b[1;31m---------------------------------------------------------------------------\u001b[0m",
      "\u001b[1;31mAttributeError\u001b[0m                            Traceback (most recent call last)",
      "\u001b[1;32m<ipython-input-8-02f11d9920c4>\u001b[0m in \u001b[0;36m<module>\u001b[1;34m\u001b[0m\n\u001b[0;32m      1\u001b[0m \u001b[0ma\u001b[0m \u001b[1;33m=\u001b[0m \u001b[1;33m[\u001b[0m\u001b[1;36m1\u001b[0m\u001b[1;33m,\u001b[0m\u001b[1;36m2\u001b[0m\u001b[1;33m,\u001b[0m\u001b[1;36m3\u001b[0m\u001b[1;33m]\u001b[0m\u001b[1;33m\u001b[0m\u001b[1;33m\u001b[0m\u001b[0m\n\u001b[1;32m----> 2\u001b[1;33m \u001b[0ma\u001b[0m\u001b[1;33m.\u001b[0m\u001b[0mreplace\u001b[0m\u001b[1;33m[\u001b[0m\u001b[1;36m1\u001b[0m\u001b[1;33m:\u001b[0m\u001b[1;36m4\u001b[0m\u001b[1;33m]\u001b[0m\u001b[1;33m\u001b[0m\u001b[1;33m\u001b[0m\u001b[0m\n\u001b[0m\u001b[0;32m      3\u001b[0m \u001b[0ma\u001b[0m\u001b[1;33m\u001b[0m\u001b[1;33m\u001b[0m\u001b[0m\n",
      "\u001b[1;31mAttributeError\u001b[0m: 'list' object has no attribute 'replace'"
     ]
    }
   ],
   "source": [
    "a = [1,2,3]\n",
    "a.replace[1:4]\n",
    "a"
   ]
  },
  {
   "cell_type": "code",
   "execution_count": 9,
   "metadata": {},
   "outputs": [
    {
     "name": "stdout",
     "output_type": "stream",
     "text": [
      "enter n = 5\n",
      "Enter b = 1\n",
      "[1]\n",
      "Enter b = 2\n",
      "[1, 2]\n",
      "Enter b = 3\n",
      "[1, 2, 3]\n",
      "Enter b = 4\n",
      "[1, 2, 3, 4]\n",
      "Enter b = 6\n",
      "[1, 2, 3, 4, 6]\n"
     ]
    }
   ],
   "source": [
    "a = []\n",
    "n = int(input(\"enter n = \"))\n",
    "for i in range(n):\n",
    "    b = int(input(\"Enter b = \"))\n",
    "    \n",
    "    a = a +[b]\n",
    "    \n",
    "    print(a)"
   ]
  },
  {
   "cell_type": "code",
   "execution_count": 15,
   "metadata": {},
   "outputs": [
    {
     "name": "stdout",
     "output_type": "stream",
     "text": [
      "enter n = 5\n",
      "Enter b = 33\n",
      "Enter b = 22\n",
      "Enter b = 33\n",
      "Enter b = 55\n",
      "Enter b = 66\n",
      "The sum is =  209\n",
      "The average value is =  41.8\n",
      "The maximum value is =  66\n",
      "The manimum value is =  22\n"
     ]
    }
   ],
   "source": [
    "a = []\n",
    "n = int(input(\"enter n = \"))\n",
    "for i in range(n):\n",
    "    b = int(input(\"Enter b = \"))\n",
    "    \n",
    "    a = a +[b]\n",
    "print(\"The sum is = \",sum(a))\n",
    "print(\"The average value is = \",sum(a)/n)\n",
    "print(\"The maximum value is = \",max(a))\n",
    "print(\"The manimum value is = \",min(a))\n",
    "\n",
    " \n",
    "\n",
    "\n",
    "\n",
    "    \n",
    "    \n"
   ]
  },
  {
   "cell_type": "code",
   "execution_count": 14,
   "metadata": {},
   "outputs": [
    {
     "name": "stdout",
     "output_type": "stream",
     "text": [
      "enter no of elements = 5\n",
      "enter value =11\n",
      "enter value =22\n",
      "enter value =3\n",
      "enter value =4\n",
      "enter value =5\n",
      "The sum is =  45\n",
      "The average value is =  9.0\n",
      "The maximum value is =  22\n",
      "The manimum value is =  3\n",
      "The sorted value is =  [3, 4, 5, 11, 22]\n"
     ]
    }
   ],
   "source": [
    "a = []\n",
    "n = int(input(\"enter no of elements = \"))\n",
    "for i in range(n):\n",
    "    b = int(input(\"enter value =\"))\n",
    "    a = a+[b]\n",
    "print(\"The sum is = \",sum(a))\n",
    "print(\"The average value is = \",sum(a)/n)\n",
    "print(\"The maximum value is = \",max(a))\n",
    "print(\"The manimum value is = \",min(a))\n",
    "\n",
    "a.sort()\n",
    "print(\"The sorted value is = \",a)\n"
   ]
  },
  {
   "cell_type": "code",
   "execution_count": 17,
   "metadata": {},
   "outputs": [
    {
     "name": "stdout",
     "output_type": "stream",
     "text": [
      "Yes 1\n"
     ]
    }
   ],
   "source": [
    "a = [\"Apple\",\"Ball\",\"Cat\"]\n",
    "if \"Apple\" in a:\n",
    "    print(\"Yes\",a.count(\"Apple\"))\n",
    "    \n"
   ]
  },
  {
   "cell_type": "code",
   "execution_count": 19,
   "metadata": {},
   "outputs": [
    {
     "name": "stdout",
     "output_type": "stream",
     "text": [
      "No\n"
     ]
    }
   ],
   "source": [
    "a = [\"Apple\",\"Ball\",\"Cat\"]\n",
    "if \"d\" in a:\n",
    "    print(\"Yes\",a.count(\"d\"))\n",
    "else:\n",
    "    print(\"No\")\n",
    "    "
   ]
  },
  {
   "cell_type": "code",
   "execution_count": 21,
   "metadata": {},
   "outputs": [
    {
     "data": {
      "text/plain": [
       "[1, 2, 3, 4, 1, 2, 5, 3, 4, 5, 6, 7]"
      ]
     },
     "execution_count": 21,
     "metadata": {},
     "output_type": "execute_result"
    }
   ],
   "source": [
    "\n",
    "a = [1,2,3,4,1,2,5,3,4,5,6,7]\n",
    "a\n"
   ]
  },
  {
   "cell_type": "code",
   "execution_count": 25,
   "metadata": {},
   "outputs": [
    {
     "data": {
      "text/plain": [
       "3"
      ]
     },
     "execution_count": 25,
     "metadata": {},
     "output_type": "execute_result"
    }
   ],
   "source": [
    "\n",
    "a = [1,2,3,4,1,2,5,3,4,5,6,7,5]\n",
    "a.count(5)"
   ]
  },
  {
   "cell_type": "code",
   "execution_count": 26,
   "metadata": {},
   "outputs": [
    {
     "data": {
      "text/plain": [
       "list"
      ]
     },
     "execution_count": 26,
     "metadata": {},
     "output_type": "execute_result"
    }
   ],
   "source": [
    "type(a)"
   ]
  },
  {
   "cell_type": "code",
   "execution_count": 28,
   "metadata": {},
   "outputs": [
    {
     "data": {
      "text/plain": [
       "[1, 2, 3, 4, 1, 2, 5, 3, 4, 5, 6, 7, 5, 22, 22]"
      ]
     },
     "execution_count": 28,
     "metadata": {},
     "output_type": "execute_result"
    }
   ],
   "source": [
    "a.append(22)\n",
    "a"
   ]
  },
  {
   "cell_type": "code",
   "execution_count": 29,
   "metadata": {},
   "outputs": [
    {
     "data": {
      "text/plain": [
       "[1, 33, 2, 3, 4, 1, 2, 5, 3, 4, 5, 6, 7, 5, 22, 22]"
      ]
     },
     "execution_count": 29,
     "metadata": {},
     "output_type": "execute_result"
    }
   ],
   "source": [
    "a.insert(1,33)\n",
    "a"
   ]
  },
  {
   "cell_type": "code",
   "execution_count": 30,
   "metadata": {},
   "outputs": [
    {
     "ename": "AttributeError",
     "evalue": "'list' object has no attribute 'replace'",
     "output_type": "error",
     "traceback": [
      "\u001b[1;31m---------------------------------------------------------------------------\u001b[0m",
      "\u001b[1;31mAttributeError\u001b[0m                            Traceback (most recent call last)",
      "\u001b[1;32m<ipython-input-30-52283f965d20>\u001b[0m in \u001b[0;36m<module>\u001b[1;34m\u001b[0m\n\u001b[1;32m----> 1\u001b[1;33m \u001b[0ma\u001b[0m\u001b[1;33m.\u001b[0m\u001b[0mreplace\u001b[0m\u001b[1;33m(\u001b[0m\u001b[1;36m2\u001b[0m\u001b[1;33m,\u001b[0m\u001b[1;36m0\u001b[0m\u001b[1;33m)\u001b[0m\u001b[1;33m\u001b[0m\u001b[1;33m\u001b[0m\u001b[0m\n\u001b[0m\u001b[0;32m      2\u001b[0m \u001b[0ma\u001b[0m\u001b[1;33m\u001b[0m\u001b[1;33m\u001b[0m\u001b[0m\n",
      "\u001b[1;31mAttributeError\u001b[0m: 'list' object has no attribute 'replace'"
     ]
    }
   ],
   "source": [
    "a.replace(2,0)\n",
    "a"
   ]
  },
  {
   "cell_type": "code",
   "execution_count": 2,
   "metadata": {},
   "outputs": [
    {
     "name": "stdout",
     "output_type": "stream",
     "text": [
      "enter n = 1\n",
      "Enter name = shdg\n",
      "Enter address = djfg\n",
      "Enter marks of c = 11\n",
      "Enter marks of ir = 222\n",
      "Enter marks of oop = 44\n",
      "[['shdg', 'djfg', 11, 222, 44, 277, 92.33333333333333]]\n"
     ]
    }
   ],
   "source": [
    "info = []\n",
    "def Cal():\n",
    "    n = int(input(\"enter n = \"))\n",
    "    for i in range(n):\n",
    "        name = input(\"Enter name = \")\n",
    "        address = input(\"Enter address = \")\n",
    "        c = int(input(\"Enter marks of c = \"))\n",
    "        ir = int(input(\"Enter marks of ir = \"))\n",
    "        oop = int(input(\"Enter marks of oop = \"))\n",
    "        total = sum([c,ir,oop])\n",
    "        percentage = total/3\n",
    "        info.append([name,address,c,ir,oop,total,percentage])\n",
    "        \n",
    "        \n",
    "        print(info)\n",
    "Cal()"
   ]
  },
  {
   "cell_type": "code",
   "execution_count": 4,
   "metadata": {},
   "outputs": [
    {
     "name": "stdout",
     "output_type": "stream",
     "text": [
      "Enter p = 1000\n",
      "Enter t = 2\n",
      "Enter r = 20\n",
      "The simpleintrest is =  4000.0\n"
     ]
    }
   ],
   "source": [
    "def  Cal():\n",
    "    p =int(input(\"Enter p = \"))\n",
    "    t = int(input(\"Enter t = \"))\n",
    "    r = int(input(\"Enter r = \"))\n",
    "    si = p*r*r/100\n",
    "    \n",
    "    print(\"The simpleintrest is = \",si)\n",
    "Cal()"
   ]
  },
  {
   "cell_type": "code",
   "execution_count": 5,
   "metadata": {},
   "outputs": [
    {
     "name": "stdout",
     "output_type": "stream",
     "text": [
      "Enter a = 10\n",
      "Enter b = 10\n",
      "The area is =  100\n"
     ]
    }
   ],
   "source": [
    "def Area():\n",
    "    a = int(input(\"Enter a = \"))\n",
    "    b = int(input(\"Enter b = \"))\n",
    "    print(\"The area is = \",a*b)\n",
    "Area()    "
   ]
  },
  {
   "cell_type": "code",
   "execution_count": 9,
   "metadata": {},
   "outputs": [
    {
     "data": {
      "text/plain": [
       "(1, 2, 3, 4)"
      ]
     },
     "execution_count": 9,
     "metadata": {},
     "output_type": "execute_result"
    }
   ],
   "source": [
    "a = (1,2,3,4)\n",
    "a"
   ]
  },
  {
   "cell_type": "code",
   "execution_count": 10,
   "metadata": {},
   "outputs": [
    {
     "data": {
      "text/plain": [
       "tuple"
      ]
     },
     "execution_count": 10,
     "metadata": {},
     "output_type": "execute_result"
    }
   ],
   "source": [
    "type(a)"
   ]
  },
  {
   "cell_type": "code",
   "execution_count": 11,
   "metadata": {},
   "outputs": [
    {
     "data": {
      "text/plain": [
       "(1, 2, 3, 4, 1, 4, 5, 6)"
      ]
     },
     "execution_count": 11,
     "metadata": {},
     "output_type": "execute_result"
    }
   ],
   "source": [
    "a = (1,2,3,4)\n",
    "b = (1,4,5,6)\n",
    "a+b"
   ]
  },
  {
   "cell_type": "code",
   "execution_count": 12,
   "metadata": {},
   "outputs": [
    {
     "ename": "TypeError",
     "evalue": "can't multiply sequence by non-int of type 'tuple'",
     "output_type": "error",
     "traceback": [
      "\u001b[1;31m---------------------------------------------------------------------------\u001b[0m",
      "\u001b[1;31mTypeError\u001b[0m                                 Traceback (most recent call last)",
      "\u001b[1;32m<ipython-input-12-89c199fae9ed>\u001b[0m in \u001b[0;36m<module>\u001b[1;34m\u001b[0m\n\u001b[0;32m      1\u001b[0m \u001b[0ma\u001b[0m \u001b[1;33m=\u001b[0m\u001b[1;33m(\u001b[0m\u001b[1;36m12\u001b[0m\u001b[1;33m,\u001b[0m\u001b[1;36m1\u001b[0m\u001b[1;33m)\u001b[0m\u001b[1;33m\u001b[0m\u001b[1;33m\u001b[0m\u001b[0m\n\u001b[0;32m      2\u001b[0m \u001b[0mb\u001b[0m \u001b[1;33m=\u001b[0m \u001b[1;33m(\u001b[0m\u001b[1;36m12\u001b[0m\u001b[1;33m,\u001b[0m\u001b[1;36m2\u001b[0m\u001b[1;33m)\u001b[0m\u001b[1;33m\u001b[0m\u001b[1;33m\u001b[0m\u001b[0m\n\u001b[1;32m----> 3\u001b[1;33m \u001b[0ma\u001b[0m\u001b[1;33m*\u001b[0m\u001b[0mb\u001b[0m\u001b[1;33m\u001b[0m\u001b[1;33m\u001b[0m\u001b[0m\n\u001b[0m",
      "\u001b[1;31mTypeError\u001b[0m: can't multiply sequence by non-int of type 'tuple'"
     ]
    }
   ],
   "source": [
    "a =(12,1)\n",
    "b = (12,2)\n",
    "a*b"
   ]
  },
  {
   "cell_type": "code",
   "execution_count": 13,
   "metadata": {},
   "outputs": [
    {
     "name": "stdout",
     "output_type": "stream",
     "text": [
      "Yes 1\n"
     ]
    }
   ],
   "source": [
    "a = (\"Apple\",\"ball\",\"cat\")\n",
    "if \"Apple\"in a:\n",
    "    print(\"Yes\",a.count(\"Apple\"))\n",
    "else:\n",
    "    print(\"No\")"
   ]
  },
  {
   "cell_type": "code",
   "execution_count": 19,
   "metadata": {},
   "outputs": [
    {
     "name": "stdout",
     "output_type": "stream",
     "text": [
      "24\n"
     ]
    }
   ],
   "source": [
    "def cal(x):\n",
    "    l,b,h = x\n",
    "    print(l*b*h)\n",
    "x = (2,3,4)\n",
    "cal(x)\n",
    "    "
   ]
  },
  {
   "cell_type": "code",
   "execution_count": 20,
   "metadata": {},
   "outputs": [
    {
     "name": "stdout",
     "output_type": "stream",
     "text": [
      "24\n"
     ]
    }
   ],
   "source": [
    "def cal(x):\n",
    "    l,b,h = x\n",
    "    print(l*b*h)\n",
    "x = (2,3,4)\n",
    "cal(x)"
   ]
  },
  {
   "cell_type": "code",
   "execution_count": 21,
   "metadata": {},
   "outputs": [
    {
     "data": {
      "text/plain": [
       "3"
      ]
     },
     "execution_count": 21,
     "metadata": {},
     "output_type": "execute_result"
    }
   ],
   "source": [
    "a = ((1,2,3),(2,3,4),(111,2,5))\n",
    "len(a)\n"
   ]
  },
  {
   "cell_type": "code",
   "execution_count": 22,
   "metadata": {},
   "outputs": [
    {
     "data": {
      "text/plain": [
       "tuple"
      ]
     },
     "execution_count": 22,
     "metadata": {},
     "output_type": "execute_result"
    }
   ],
   "source": [
    "type(a)"
   ]
  },
  {
   "cell_type": "code",
   "execution_count": 26,
   "metadata": {},
   "outputs": [
    {
     "data": {
      "text/plain": [
       "((8, 9, 0), (1, 2, 3), (4, 5, 7))"
      ]
     },
     "execution_count": 26,
     "metadata": {},
     "output_type": "execute_result"
    }
   ],
   "source": [
    "a = (8,9,0)\n",
    "b = (1,2,3)\n",
    "c = (4,5,7)\n",
    "(a,)+(b,)+(c,)"
   ]
  },
  {
   "cell_type": "code",
   "execution_count": 30,
   "metadata": {},
   "outputs": [
    {
     "name": "stdout",
     "output_type": "stream",
     "text": [
      "enter name = jhf\n",
      "enter address = kdh\n",
      "enter age = 1\n",
      "(('jhf', 'kdh', 1),)\n"
     ]
    }
   ],
   "source": [
    "a = ()\n",
    "name = input(\"enter name = \")\n",
    "address = input(\"enter address = \")\n",
    "age = int(input(\"enter age = \"))\n",
    "c = (name,address,age)\n",
    "a = (c,)+a\n",
    "print(a)"
   ]
  },
  {
   "cell_type": "code",
   "execution_count": 32,
   "metadata": {},
   "outputs": [
    {
     "data": {
      "text/plain": [
       "[1, 2, 3, 4]"
      ]
     },
     "execution_count": 32,
     "metadata": {},
     "output_type": "execute_result"
    }
   ],
   "source": [
    "a = (1,2,3,4)\n",
    "list(a)"
   ]
  },
  {
   "cell_type": "code",
   "execution_count": 33,
   "metadata": {},
   "outputs": [
    {
     "name": "stdout",
     "output_type": "stream",
     "text": [
      "enter name = Pratibha\n",
      "enter address = ktm\n",
      "enter age = 11\n",
      "(['Pratibha', 'ktm', 11],)\n"
     ]
    }
   ],
   "source": [
    "\n",
    "a = ()\n",
    "name = input(\"enter name = \")\n",
    "address = input(\"enter address = \")\n",
    "age = int(input(\"enter age = \"))\n",
    "c = [name,address,age]\n",
    "a = (c,)+a\n",
    "print(a)"
   ]
  },
  {
   "cell_type": "code",
   "execution_count": 41,
   "metadata": {},
   "outputs": [
    {
     "name": "stdout",
     "output_type": "stream",
     "text": [
      "enter n = 2\n",
      "Enter name = Pratibha\n",
      "Enter class = 11\n",
      "Enter physics = 22\n",
      "Enter oop = 33\n",
      "Enter ir = 44\n",
      "Enter name = Pratik\n",
      "Enter class = 13\n",
      "Enter physics = 33\n",
      "Enter oop = 44\n",
      "Enter ir = 555\n",
      "[['Pratibha', 11, 22, 33, 44, 99, 33.0], ['Pratik', 13, 33, 44, 555, 632, 210.66666666666666]]\n"
     ]
    }
   ],
   "source": [
    "result = []\n",
    "n = int(input(\"enter n = \"))\n",
    "for i in range(n):\n",
    "    name = input(\"Enter name = \")\n",
    "    grade = int(input(\"Enter class = \"))\n",
    "    physics = int(input(\"Enter physics = \"))\n",
    "    oop = int(input(\"Enter oop = \"))\n",
    "    ir = int(input(\"Enter ir = \"))\n",
    "    total = sum([physics,oop,ir])\n",
    "    percentage = total/3\n",
    "    result.append([name,grade,physics,oop,ir,total,percentage])\n",
    "print(result)"
   ]
  },
  {
   "cell_type": "code",
   "execution_count": 43,
   "metadata": {},
   "outputs": [
    {
     "name": "stdout",
     "output_type": "stream",
     "text": [
      "enter n = 1\n",
      "Enter name = gfd\n",
      "Enter class = 1\n",
      "Enter physics = 22\n",
      "Enter oop = 33\n",
      "Enter ir = 44\n"
     ]
    },
    {
     "data": {
      "text/plain": [
       "(['gfd', 1, 22, 33, 44, 99, 33.0],)"
      ]
     },
     "execution_count": 43,
     "metadata": {},
     "output_type": "execute_result"
    }
   ],
   "source": [
    "result = []\n",
    "n = int(input(\"enter n = \"))\n",
    "for i in range(n):\n",
    "    name = input(\"Enter name = \")\n",
    "    grade = int(input(\"Enter class = \"))\n",
    "    physics = int(input(\"Enter physics = \"))\n",
    "    oop = int(input(\"Enter oop = \"))\n",
    "    ir = int(input(\"Enter ir = \"))\n",
    "    total = sum([physics,oop,ir])\n",
    "    percentage = total/3\n",
    "    result.append([name,grade,physics,oop,ir,total,percentage])\n",
    "\n",
    "tuple(result)"
   ]
  },
  {
   "cell_type": "code",
   "execution_count": 44,
   "metadata": {},
   "outputs": [
    {
     "data": {
      "text/plain": [
       "'Hello World'"
      ]
     },
     "execution_count": 44,
     "metadata": {},
     "output_type": "execute_result"
    }
   ],
   "source": [
    "a = \"Hello World\"\n",
    "a"
   ]
  },
  {
   "cell_type": "code",
   "execution_count": 49,
   "metadata": {},
   "outputs": [
    {
     "data": {
      "text/plain": [
       "'Hello World'"
      ]
     },
     "execution_count": 49,
     "metadata": {},
     "output_type": "execute_result"
    }
   ],
   "source": [
    "a = \"Hello\"\n",
    "b = \" World\"\n",
    "a + b"
   ]
  },
  {
   "cell_type": "code",
   "execution_count": 50,
   "metadata": {},
   "outputs": [
    {
     "data": {
      "text/plain": [
       "str"
      ]
     },
     "execution_count": 50,
     "metadata": {},
     "output_type": "execute_result"
    }
   ],
   "source": [
    "type(a)"
   ]
  },
  {
   "cell_type": "code",
   "execution_count": 52,
   "metadata": {},
   "outputs": [
    {
     "name": "stdout",
     "output_type": "stream",
     "text": [
      "Enter name = jkgf\n",
      "enter age = 2\n",
      "enter address = djgh\n",
      "Enter name = reuy\n",
      "enter age = 22\n",
      "enter address = jmgf\n",
      " nameageaddress\n"
     ]
    }
   ],
   "source": [
    "a = \" \"\n",
    "for i in range(2):\n",
    "    name = input(\"Enter name = \")\n",
    "    age = int(input(\"enter age = \"))\n",
    "    address = input(\"enter address = \")\n",
    "    a= a+\"name\"+\"age\"+\"address\"\n",
    "print(b)"
   ]
  },
  {
   "cell_type": "code",
   "execution_count": 55,
   "metadata": {},
   "outputs": [
    {
     "name": "stdout",
     "output_type": "stream",
     "text": [
      "Enter name = ksjgf\n",
      "enter age = 1\n",
      "enter address = dkgh\n",
      "Enter name = itu\n",
      "enter age = 2\n",
      "enter address = kdjfh\n",
      " ksjgf,1,dkghitu,2,kdjfh\n"
     ]
    }
   ],
   "source": [
    "a = \" \"\n",
    "for i in range(2):\n",
    "    name = input(\"Enter name = \")\n",
    "    age = int(input(\"enter age = \"))\n",
    "    address = input(\"enter address = \")\n",
    "    a= a+f\"{name},{age},{address}\"\n",
    "print(a)"
   ]
  },
  {
   "cell_type": "code",
   "execution_count": 59,
   "metadata": {},
   "outputs": [
    {
     "data": {
      "text/plain": [
       "'aa,b,c,d,e'"
      ]
     },
     "execution_count": 59,
     "metadata": {},
     "output_type": "execute_result"
    }
   ],
   "source": [
    "a = \"a,b,c,d,e\"\n",
    "a.replace('a','aa')\n"
   ]
  },
  {
   "cell_type": "code",
   "execution_count": 60,
   "metadata": {},
   "outputs": [
    {
     "data": {
      "text/plain": [
       "['Hello', 'World']"
      ]
     },
     "execution_count": 60,
     "metadata": {},
     "output_type": "execute_result"
    }
   ],
   "source": [
    "a = \"Hello World\"\n",
    "a.split()"
   ]
  },
  {
   "cell_type": "code",
   "execution_count": 65,
   "metadata": {},
   "outputs": [
    {
     "data": {
      "text/plain": [
       "' Hello  World Hello  World Hello  World'"
      ]
     },
     "execution_count": 65,
     "metadata": {},
     "output_type": "execute_result"
    }
   ],
   "source": [
    "a = \" Hello  World\"\n",
    "a*3"
   ]
  },
  {
   "cell_type": "code",
   "execution_count": 68,
   "metadata": {},
   "outputs": [
    {
     "data": {
      "text/plain": [
       "[' He', '', 'o  Wor', 'd']"
      ]
     },
     "execution_count": 68,
     "metadata": {},
     "output_type": "execute_result"
    }
   ],
   "source": [
    "a.split(\"l\")"
   ]
  },
  {
   "cell_type": "code",
   "execution_count": 3,
   "metadata": {},
   "outputs": [
    {
     "name": "stdout",
     "output_type": "stream",
     "text": [
      "Enter name = sjhdg\n",
      "Enter address = lfkh\n",
      "Enter age = 1\n",
      " sjhdg,lfkh,1\n"
     ]
    }
   ],
   "source": [
    "a = \" \"\n",
    "name = input(\"Enter name = \")\n",
    "address = input(\"Enter address = \")\n",
    "age = int(input(\"Enter age = \"))\n",
    "a = a+f\"{name},{address},{age}\"\n",
    "print(a)"
   ]
  },
  {
   "cell_type": "code",
   "execution_count": 4,
   "metadata": {},
   "outputs": [
    {
     "data": {
      "text/plain": [
       "{'c': 'Cat', 'a': 'Apple', 'b': 'Ball'}"
      ]
     },
     "execution_count": 4,
     "metadata": {},
     "output_type": "execute_result"
    }
   ],
   "source": [
    "\n",
    "\n",
    "a = {'a':'Apple','b':'Ball'}\n",
    "b = {'c':'Cat'}\n",
    "b.update(a)\n",
    "b"
   ]
  },
  {
   "cell_type": "code",
   "execution_count": 6,
   "metadata": {},
   "outputs": [
    {
     "data": {
      "text/plain": [
       "{'2': 'Cat', '1': 'Apple', 3: 'Ball'}"
      ]
     },
     "execution_count": 6,
     "metadata": {},
     "output_type": "execute_result"
    }
   ],
   "source": [
    "\n",
    "\n",
    "a = {'1':'Apple','3':'Ball'}\n",
    "b = {'2':'Cat'}\n",
    "b.update(a)\n",
    "b"
   ]
  },
  {
   "cell_type": "code",
   "execution_count": 9,
   "metadata": {},
   "outputs": [
    {
     "data": {
      "text/plain": [
       "{1: {'name': 'Ram', 'age': '11'}, 2: {'name': 'Sita', 'age': '12'}}"
      ]
     },
     "execution_count": 9,
     "metadata": {},
     "output_type": "execute_result"
    }
   ],
   "source": [
    "a = {1:{'name':\"Ram\",'age':\"11\"},\n",
    "    2:{'name':\"Sita\",\"age\":'12'}}\n",
    "a"
   ]
  },
  {
   "cell_type": "code",
   "execution_count": 10,
   "metadata": {},
   "outputs": [
    {
     "data": {
      "text/plain": [
       "{1: {'name': 'Ram', 'age': '11'},\n",
       " 2: {'name': 'Sita', 'age': '12'},\n",
       " 4: {'name': 'Shyam', 'age': '22'}}"
      ]
     },
     "execution_count": 10,
     "metadata": {},
     "output_type": "execute_result"
    }
   ],
   "source": [
    "a[4]= {'name':\"Shyam\",'age':\"22\"}\n",
    "a"
   ]
  },
  {
   "cell_type": "code",
   "execution_count": 11,
   "metadata": {},
   "outputs": [
    {
     "data": {
      "text/plain": [
       "{1: {'add': 'Kathmandu'},\n",
       " 2: {'name': 'Sita', 'age': '12'},\n",
       " 4: {'name': 'Shyam', 'age': '22'}}"
      ]
     },
     "execution_count": 11,
     "metadata": {},
     "output_type": "execute_result"
    }
   ],
   "source": [
    "a[1]= {'add':\"Kathmandu\"}\n",
    "a"
   ]
  },
  {
   "cell_type": "code",
   "execution_count": 12,
   "metadata": {},
   "outputs": [
    {
     "data": {
      "text/plain": [
       "{1: {'add': 'Kathmandu', 'age': '22'},\n",
       " 2: {'name': 'Sita', 'age': '12'},\n",
       " 4: {'name': 'Shyam', 'age': '22'}}"
      ]
     },
     "execution_count": 12,
     "metadata": {},
     "output_type": "execute_result"
    }
   ],
   "source": [
    "a[1]['age']='22'\n",
    "a"
   ]
  },
  {
   "cell_type": "code",
   "execution_count": null,
   "metadata": {},
   "outputs": [
    {
     "name": "stdout",
     "output_type": "stream",
     "text": [
      "Enter n = 1\n"
     ]
    }
   ],
   "source": [
    "n = int(input(\"Enter n = \"))\n",
    "a = []\n",
    "for i in range(n):\n",
    "    name = input(\"Enter name = \")\n",
    "    address = input(\"Enter address = \")\n",
    "    age = int(input(\"Enter age = \"))\n",
    "    a =  f\"{name},{address},{age}\"\n",
    "print(a)\n"
   ]
  },
  {
   "cell_type": "code",
   "execution_count": 10,
   "metadata": {},
   "outputs": [],
   "source": [
    "a = open(\"pp1.txt\",'x')\n",
    "a.close()"
   ]
  },
  {
   "cell_type": "code",
   "execution_count": 1,
   "metadata": {},
   "outputs": [],
   "source": [
    "a = open(\"pp1.txt\",'w')\n",
    "a.write(\"This is my first python program\")\n",
    "a.close()"
   ]
  },
  {
   "cell_type": "code",
   "execution_count": 2,
   "metadata": {},
   "outputs": [
    {
     "name": "stdout",
     "output_type": "stream",
     "text": [
      "This is my first python program\n",
      "\n"
     ]
    }
   ],
   "source": [
    "a = open(\"pp1.txt\",\"r\")\n",
    "print(a.readline())\n",
    "i = 0\n",
    "while(i<0):\n",
    "    print()\n",
    "a.close()"
   ]
  },
  {
   "cell_type": "code",
   "execution_count": 2,
   "metadata": {},
   "outputs": [
    {
     "name": "stdout",
     "output_type": "stream",
     "text": [
      "odd character\n"
     ]
    },
    {
     "ename": "TypeError",
     "evalue": "object of type '_io.TextIOWrapper' has no len()",
     "output_type": "error",
     "traceback": [
      "\u001b[1;31m---------------------------------------------------------------------------\u001b[0m",
      "\u001b[1;31mTypeError\u001b[0m                                 Traceback (most recent call last)",
      "\u001b[1;32m<ipython-input-2-89ff84c13fe2>\u001b[0m in \u001b[0;36m<module>\u001b[1;34m\u001b[0m\n\u001b[0;32m      2\u001b[0m \u001b[0mi\u001b[0m \u001b[1;33m=\u001b[0m \u001b[1;36m0\u001b[0m\u001b[1;33m\u001b[0m\u001b[1;33m\u001b[0m\u001b[0m\n\u001b[0;32m      3\u001b[0m \u001b[0mprint\u001b[0m\u001b[1;33m(\u001b[0m\u001b[1;34m'odd character'\u001b[0m\u001b[1;33m)\u001b[0m\u001b[1;33m\u001b[0m\u001b[1;33m\u001b[0m\u001b[0m\n\u001b[1;32m----> 4\u001b[1;33m \u001b[1;32mwhile\u001b[0m\u001b[1;33m(\u001b[0m\u001b[0mi\u001b[0m\u001b[1;33m<\u001b[0m\u001b[0mlen\u001b[0m\u001b[1;33m(\u001b[0m\u001b[0ma\u001b[0m\u001b[1;33m)\u001b[0m\u001b[1;33m)\u001b[0m\u001b[1;33m:\u001b[0m\u001b[1;33m\u001b[0m\u001b[1;33m\u001b[0m\u001b[0m\n\u001b[0m\u001b[0;32m      5\u001b[0m     \u001b[0mprint\u001b[0m\u001b[1;33m(\u001b[0m\u001b[0ma\u001b[0m\u001b[1;33m[\u001b[0m\u001b[0mi\u001b[0m\u001b[1;33m]\u001b[0m\u001b[1;33m)\u001b[0m\u001b[1;33m\u001b[0m\u001b[1;33m\u001b[0m\u001b[0m\n\u001b[0;32m      6\u001b[0m     \u001b[0mi\u001b[0m \u001b[1;33m=\u001b[0m \u001b[0mi\u001b[0m\u001b[1;33m+\u001b[0m\u001b[1;36m2\u001b[0m\u001b[1;33m\u001b[0m\u001b[1;33m\u001b[0m\u001b[0m\n",
      "\u001b[1;31mTypeError\u001b[0m: object of type '_io.TextIOWrapper' has no len()"
     ]
    }
   ],
   "source": [
    "a = open(\"pp1.txt\",\"r\")\n",
    "i = 0\n",
    "print('odd character')\n",
    "while(i<len(a)):\n",
    "    print(a[i])\n",
    "    i = i+2\n",
    "a.close()"
   ]
  },
  {
   "cell_type": "code",
   "execution_count": 9,
   "metadata": {},
   "outputs": [
    {
     "name": "stdout",
     "output_type": "stream",
     "text": [
      "odd character\n"
     ]
    },
    {
     "ename": "TypeError",
     "evalue": "'<' not supported between instances of 'int' and '_io.TextIOWrapper'",
     "output_type": "error",
     "traceback": [
      "\u001b[1;31m---------------------------------------------------------------------------\u001b[0m",
      "\u001b[1;31mTypeError\u001b[0m                                 Traceback (most recent call last)",
      "\u001b[1;32m<ipython-input-9-ec1ec8eee162>\u001b[0m in \u001b[0;36m<module>\u001b[1;34m\u001b[0m\n\u001b[0;32m      2\u001b[0m \u001b[0mi\u001b[0m \u001b[1;33m=\u001b[0m \u001b[1;36m0\u001b[0m\u001b[1;33m\u001b[0m\u001b[1;33m\u001b[0m\u001b[0m\n\u001b[0;32m      3\u001b[0m \u001b[0mprint\u001b[0m\u001b[1;33m(\u001b[0m\u001b[1;34m'odd character'\u001b[0m\u001b[1;33m)\u001b[0m\u001b[1;33m\u001b[0m\u001b[1;33m\u001b[0m\u001b[0m\n\u001b[1;32m----> 4\u001b[1;33m \u001b[1;32mwhile\u001b[0m\u001b[1;33m(\u001b[0m\u001b[0mi\u001b[0m\u001b[1;33m<\u001b[0m\u001b[0ma\u001b[0m\u001b[1;33m)\u001b[0m\u001b[1;33m:\u001b[0m\u001b[1;33m\u001b[0m\u001b[1;33m\u001b[0m\u001b[0m\n\u001b[0m\u001b[0;32m      5\u001b[0m     \u001b[0mprint\u001b[0m\u001b[1;33m(\u001b[0m\u001b[0ma\u001b[0m\u001b[1;33m[\u001b[0m\u001b[0mi\u001b[0m\u001b[1;33m]\u001b[0m\u001b[1;33m)\u001b[0m\u001b[1;33m\u001b[0m\u001b[1;33m\u001b[0m\u001b[0m\n\u001b[0;32m      6\u001b[0m     \u001b[0mi\u001b[0m \u001b[1;33m=\u001b[0m \u001b[0mi\u001b[0m\u001b[1;33m+\u001b[0m\u001b[1;36m2\u001b[0m\u001b[1;33m\u001b[0m\u001b[1;33m\u001b[0m\u001b[0m\n",
      "\u001b[1;31mTypeError\u001b[0m: '<' not supported between instances of 'int' and '_io.TextIOWrapper'"
     ]
    }
   ],
   "source": [
    "a = open(\"pp1.txt\",\"r\")\n",
    "i = 0\n",
    "print('odd character')\n",
    "while(i<a):\n",
    "    print(a[i])\n",
    "    i = i+2\n",
    "a.close()\n"
   ]
  },
  {
   "cell_type": "code",
   "execution_count": 14,
   "metadata": {},
   "outputs": [
    {
     "name": "stdout",
     "output_type": "stream",
     "text": [
      " \n",
      "l\n",
      "a\n",
      "e\n",
      "i\n",
      "s\n",
      "r\n",
      " \n",
      "h\n",
      "r\n",
      "c\n",
      "e\n",
      "s\n"
     ]
    }
   ],
   "source": [
    "i =\" Please insert characters \"\n",
    "#Index through the entire string\n",
    "for index in range(len(i)):\n",
    "    #Check if odd \n",
    "    if(index % 2 == 0):\n",
    "        #print even characters\n",
    "        print(i[index])"
   ]
  },
  {
   "cell_type": "code",
   "execution_count": null,
   "metadata": {},
   "outputs": [],
   "source": [
    "f1 = open('pp1.txt')\n",
    "f2 = open('Output.txt', 'w')\n",
    "f2.write(abcd)\n",
    "\n",
    "Lines=f1.readlines()\n",
    "searchquery = 'am\\n'\n",
    "i=0\n",
    "\n",
    "while i < 500:\n",
    "    if Lines[i] == searchquery:\n",
    "        f2.write(Lines[i])\n",
    "        f2.write(Lines[i+1])\n",
    "        f2.write(Lines[i+2])\n",
    "        i = i+1\n",
    "else:\n",
    "    i = i+1\n",
    "f1.close()\n",
    "f2.close()"
   ]
  },
  {
   "cell_type": "code",
   "execution_count": null,
   "metadata": {},
   "outputs": [],
   "source": []
  }
 ],
 "metadata": {
  "kernelspec": {
   "display_name": "Python 3",
   "language": "python",
   "name": "python3"
  },
  "language_info": {
   "codemirror_mode": {
    "name": "ipython",
    "version": 3
   },
   "file_extension": ".py",
   "mimetype": "text/x-python",
   "name": "python",
   "nbconvert_exporter": "python",
   "pygments_lexer": "ipython3",
   "version": "3.7.4"
  }
 },
 "nbformat": 4,
 "nbformat_minor": 2
}
