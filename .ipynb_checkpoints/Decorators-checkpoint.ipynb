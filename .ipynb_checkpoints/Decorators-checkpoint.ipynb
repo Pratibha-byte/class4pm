{
 "cells": [
  {
   "cell_type": "code",
   "execution_count": 2,
   "metadata": {},
   "outputs": [
    {
     "name": "stdout",
     "output_type": "stream",
     "text": [
      "Hello World\n"
     ]
    }
   ],
   "source": [
    "#A decorator takes in a function, adds some functionality and returns it. Decorators will help to build framework\n",
    "# Function inside function\n",
    "\n",
    "def outer_function():\n",
    "    value = \"Hello World\"\n",
    "    def inner_function():\n",
    "        print(value)\n",
    "    return inner_function()\n",
    "\n",
    "outer_function()\n",
    "\n"
   ]
  },
  {
   "cell_type": "code",
   "execution_count": 3,
   "metadata": {},
   "outputs": [
    {
     "name": "stdout",
     "output_type": "stream",
     "text": [
      "This is inside outer function\n",
      "This is inside inner function\n",
      "Hello World\n"
     ]
    }
   ],
   "source": [
    "def outer_function():\n",
    "    value = \"Hello World\"\n",
    "    print(\"This is inside outer function\")\n",
    "    def inner_function():\n",
    "        print(\"This is inside inner function\")\n",
    "        print(value)\n",
    "    return inner_function()\n",
    "\n",
    "outer_function()\n"
   ]
  },
  {
   "cell_type": "code",
   "execution_count": 4,
   "metadata": {},
   "outputs": [
    {
     "name": "stdout",
     "output_type": "stream",
     "text": [
      "This is inside outer function\n",
      "This is inside inner function\n"
     ]
    },
    {
     "data": {
      "text/plain": [
       "'Hello World'"
      ]
     },
     "execution_count": 4,
     "metadata": {},
     "output_type": "execute_result"
    }
   ],
   "source": [
    "def outer_function():\n",
    "    value = \"Hello World\"\n",
    "    print(\"This is inside outer function\")\n",
    "    def inner_function():\n",
    "        print(\"This is inside inner function\")\n",
    "        return value\n",
    "    return inner_function()\n",
    "\n",
    "outer_function()\n"
   ]
  },
  {
   "cell_type": "code",
   "execution_count": 5,
   "metadata": {},
   "outputs": [
    {
     "name": "stdout",
     "output_type": "stream",
     "text": [
      "This is inside outer function\n",
      "This is inside inner function\n",
      "Hello World\n"
     ]
    }
   ],
   "source": [
    "def outer_function():\n",
    "    value = \"Hello World\"\n",
    "    print(\"This is inside outer function\")\n",
    "    def inner_function():\n",
    "        print(\"This is inside inner function\")\n",
    "        return value\n",
    "    return inner_function()\n",
    "\n",
    "print(outer_function())\n"
   ]
  },
  {
   "cell_type": "code",
   "execution_count": 9,
   "metadata": {},
   "outputs": [
    {
     "name": "stdout",
     "output_type": "stream",
     "text": [
      "Hello world\n"
     ]
    }
   ],
   "source": [
    "# function inside function with decorators\n",
    "# @outer_function paxu ko kura lai chai function as an agruument main function ma pathauxa. @ indicates decorator\n",
    "def outer_function(fun):\n",
    "    def inner_function():\n",
    "        x = fun()# function call gareko which is send as an argument and result chia x ma store hunxa\n",
    "    return inner_function()\n",
    "@outer_function # @ bhaneko decorator i.e decorator main function .decorator le nai main fuction lai call garxa.function as na argument and calss as an argument pathaunu parda hamle decorator use garxam\n",
    "def hello():\n",
    "    print(\"Hello world\")\n",
    "    "
   ]
  },
  {
   "cell_type": "code",
   "execution_count": 10,
   "metadata": {},
   "outputs": [
    {
     "data": {
      "text/plain": [
       "'hello'"
      ]
     },
     "execution_count": 10,
     "metadata": {},
     "output_type": "execute_result"
    }
   ],
   "source": [
    "def strings(function):\n",
    "    def wrapper():\n",
    "        fun = function()\n",
    "        x = fun.lower()\n",
    "        return x\n",
    "    return wrapper # wrapper bhanne fun lai call garxa ani tala info ma gayera return garxa.\n",
    "@strings\n",
    "def info(): # return type bhayeko karan le garda hamle info bahnne function bnayera call gareko\n",
    "    return 'Hello'\n",
    "info()"
   ]
  },
  {
   "cell_type": "code",
   "execution_count": 14,
   "metadata": {},
   "outputs": [
    {
     "data": {
      "text/plain": [
       "['hello', 'pratibha']"
      ]
     },
     "execution_count": 14,
     "metadata": {},
     "output_type": "execute_result"
    }
   ],
   "source": [
    "def strings(function):\n",
    "    def wrapper():\n",
    "        fun = function()\n",
    "        x = fun.lower()\n",
    "        return x\n",
    "    return wrapper\n",
    "def split_string(function):\n",
    "    def wrappe():\n",
    "        func = function()\n",
    "        splitted_string = func.split()\n",
    "        return splitted_string\n",
    "    return wrappe\n",
    "@split_string\n",
    "@strings# first ma string execute hunxa\n",
    "def info(): \n",
    "    return 'Hello Pratibha'\n",
    "info()\n"
   ]
  },
  {
   "cell_type": "code",
   "execution_count": 16,
   "metadata": {},
   "outputs": [
    {
     "name": "stdout",
     "output_type": "stream",
     "text": [
      "2021-01-26\n"
     ]
    }
   ],
   "source": [
    "#Date and Time\n",
    "import time\n",
    "from datetime import date\n",
    "today= date.today()\n",
    "print(today)\n"
   ]
  },
  {
   "cell_type": "code",
   "execution_count": 17,
   "metadata": {},
   "outputs": [
    {
     "name": "stdout",
     "output_type": "stream",
     "text": [
      "2021-01-26 17:06:08.440671\n"
     ]
    }
   ],
   "source": [
    "import datetime\n",
    "datetime_object = datetime.datetime.now()\n",
    "print(datetime_object)"
   ]
  },
  {
   "cell_type": "code",
   "execution_count": 20,
   "metadata": {},
   "outputs": [
    {
     "name": "stdout",
     "output_type": "stream",
     "text": [
      "2021-01-26 17:06:08.440671\n",
      "Hello World\n",
      "Hello World\n",
      "Hello World\n",
      "Hello World\n",
      "Hello World\n",
      "Hello World\n",
      "Hello World\n",
      "Hello World\n",
      "Hello World\n",
      "Hello World\n",
      "Hello World\n",
      "Hello World\n",
      "Hello World\n",
      "Hello World\n",
      "Hello World\n",
      "Hello World\n",
      "Hello World\n",
      "Hello World\n",
      "Hello World\n",
      "Hello World\n",
      "2021-01-26 17:13:15.919202\n",
      "0:00:00.000963\n"
     ]
    }
   ],
   "source": [
    "import datetime\n",
    "datetime_object1 = datetime.datetime.now()\n",
    "print(datetime_object)\n",
    "\n",
    "for i in range(20):\n",
    "    print(\"Hello World\")\n",
    "\n",
    "datetime_object2 = datetime.datetime.now()\n",
    "print(datetime_object2)\n",
    "print(datetime_object2-datetime_object1)\n",
    "\n",
    "\n",
    "    "
   ]
  },
  {
   "cell_type": "code",
   "execution_count": 22,
   "metadata": {},
   "outputs": [
    {
     "data": {
      "text/plain": [
       "<re.Match object; span=(18, 26), match='Pratibha'>"
      ]
     },
     "execution_count": 22,
     "metadata": {},
     "output_type": "execute_result"
    }
   ],
   "source": [
    "#regular expression\n",
    "a = \"Hello Hello Hello Pratibha\"\n",
    "import re\n",
    "m = re.search('Pratibha',a) #span (18,26) means Pratibha starts from index 18\n",
    "m"
   ]
  },
  {
   "cell_type": "code",
   "execution_count": 23,
   "metadata": {},
   "outputs": [
    {
     "data": {
      "text/plain": [
       "['C:\\\\Users\\\\prativa\\\\Desktop\\\\broadway',\n",
       " 'C:\\\\Users\\\\prativa\\\\Anaconda3\\\\python37.zip',\n",
       " 'C:\\\\Users\\\\prativa\\\\Anaconda3\\\\DLLs',\n",
       " 'C:\\\\Users\\\\prativa\\\\Anaconda3\\\\lib',\n",
       " 'C:\\\\Users\\\\prativa\\\\Anaconda3',\n",
       " '',\n",
       " 'C:\\\\Users\\\\prativa\\\\AppData\\\\Roaming\\\\Python\\\\Python37\\\\site-packages',\n",
       " 'C:\\\\Users\\\\prativa\\\\Anaconda3\\\\lib\\\\site-packages',\n",
       " 'C:\\\\Users\\\\prativa\\\\Anaconda3\\\\lib\\\\site-packages\\\\win32',\n",
       " 'C:\\\\Users\\\\prativa\\\\Anaconda3\\\\lib\\\\site-packages\\\\win32\\\\lib',\n",
       " 'C:\\\\Users\\\\prativa\\\\Anaconda3\\\\lib\\\\site-packages\\\\Pythonwin',\n",
       " 'C:\\\\Users\\\\prativa\\\\Anaconda3\\\\lib\\\\site-packages\\\\IPython\\\\extensions',\n",
       " 'C:\\\\Users\\\\prativa\\\\.ipython']"
      ]
     },
     "execution_count": 23,
     "metadata": {},
     "output_type": "execute_result"
    }
   ],
   "source": [
    "#sys to check there is python install in virtual environment \n",
    "import sys\n",
    "sys.path"
   ]
  },
  {
   "cell_type": "code",
   "execution_count": null,
   "metadata": {},
   "outputs": [],
   "source": []
  }
 ],
 "metadata": {
  "kernelspec": {
   "display_name": "Python 3",
   "language": "python",
   "name": "python3"
  },
  "language_info": {
   "codemirror_mode": {
    "name": "ipython",
    "version": 3
   },
   "file_extension": ".py",
   "mimetype": "text/x-python",
   "name": "python",
   "nbconvert_exporter": "python",
   "pygments_lexer": "ipython3",
   "version": "3.7.4"
  }
 },
 "nbformat": 4,
 "nbformat_minor": 2
}
