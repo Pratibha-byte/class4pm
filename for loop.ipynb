{
 "cells": [
  {
   "cell_type": "code",
   "execution_count": 1,
   "metadata": {},
   "outputs": [],
   "source": [
    "#range bhanne fun hunxa  for loop ma hamle yesma kaam garxam."
   ]
  },
  {
   "cell_type": "code",
   "execution_count": 2,
   "metadata": {},
   "outputs": [],
   "source": [
    "#range()\n",
    "#for i in range(10)\n",
    "#for i in range(1,10)\n",
    "#for i in range(1,10,2)\n"
   ]
  },
  {
   "cell_type": "code",
   "execution_count": 2,
   "metadata": {},
   "outputs": [
    {
     "name": "stdout",
     "output_type": "stream",
     "text": [
      "0 Hello World\n",
      "1 Hello World\n",
      "2 Hello World\n",
      "3 Hello World\n",
      "4 Hello World\n"
     ]
    }
   ],
   "source": [
    "for i in range(5):\n",
    "    print(i,\"Hello World\")"
   ]
  },
  {
   "cell_type": "markdown",
   "metadata": {},
   "source": [
    "#### for i in range(1,5):\n",
    "    print(i,\"Hello World\")"
   ]
  },
  {
   "cell_type": "code",
   "execution_count": 8,
   "metadata": {},
   "outputs": [
    {
     "name": "stdout",
     "output_type": "stream",
     "text": [
      "1 Hello World\n",
      "3 Hello World\n"
     ]
    }
   ],
   "source": [
    "for i in range(1,5,2):\n",
    "    print(i,\"Hello World\")"
   ]
  },
  {
   "cell_type": "code",
   "execution_count": 10,
   "metadata": {},
   "outputs": [
    {
     "name": "stdout",
     "output_type": "stream",
     "text": [
      "Enter any number=6\n",
      "6\n",
      "12\n",
      "18\n",
      "24\n",
      "30\n",
      "36\n",
      "42\n",
      "48\n",
      "54\n",
      "60\n"
     ]
    }
   ],
   "source": [
    "n = int(input(\"Enter any number=\"))\n",
    "for i in range(1,11):\n",
    "    print(n*i)\n",
    "    "
   ]
  },
  {
   "cell_type": "code",
   "execution_count": 3,
   "metadata": {},
   "outputs": [
    {
     "name": "stdout",
     "output_type": "stream",
     "text": [
      "Enter any number = 12\n",
      "12 * 1 = 12\n",
      "12 * 2 = 24\n",
      "12 * 3 = 36\n",
      "12 * 4 = 48\n",
      "12 * 5 = 60\n",
      "12 * 6 = 72\n",
      "12 * 7 = 84\n",
      "12 * 8 = 96\n",
      "12 * 9 = 108\n",
      "12 * 10 = 120\n"
     ]
    }
   ],
   "source": [
    "n = int(input(\"Enter any number = \"))\n",
    "for i in range(1,11):\n",
    "    print(n,\"*\",i,\"=\",n*i)"
   ]
  },
  {
   "cell_type": "code",
   "execution_count": 1,
   "metadata": {},
   "outputs": [
    {
     "name": "stdout",
     "output_type": "stream",
     "text": [
      "Enter any value of n = 6\n",
      "Enter any value of y= 3\n",
      "Enter any value of y= 4\n",
      "Enter any value of y= 5\n",
      "Enter any value of y= 6\n",
      "Enter any value of y= 7\n",
      "Enter any value of y= 4\n",
      "The total value is =  29\n",
      "The average value is =  4.833333333333333\n"
     ]
    }
   ],
   "source": [
    "x = 0\n",
    "n = int(input(\"Enter any value of n = \"))\n",
    "for i in range (n):\n",
    "    y = int(input(\"Enter any value of y= \"))\n",
    "    x= x+y\n",
    "print(\"The total value is = \",x)\n",
    "print(\"The average value is = \",x/n)"
   ]
  },
  {
   "cell_type": "code",
   "execution_count": 4,
   "metadata": {},
   "outputs": [
    {
     "name": "stdout",
     "output_type": "stream",
     "text": [
      "Enter any value of n = 5\n",
      "1\n",
      "2\n",
      "6\n",
      "24\n",
      "120\n"
     ]
    }
   ],
   "source": [
    "x = 1\n",
    "n = int(input(\"Enter any value of n = \"))\n",
    "for i in range (1,n+1):\n",
    " \n",
    "    x= x*i\n",
    "    print(x)\n"
   ]
  },
  {
   "cell_type": "code",
   "execution_count": null,
   "metadata": {},
   "outputs": [
    {
     "name": "stdout",
     "output_type": "stream",
     "text": [
      "Enter any value of n = 10\n",
      "Enter  a = 12\n",
      "Enter  b = 12\n",
      "24\n"
     ]
    }
   ],
   "source": [
    "def add(a,b):\n",
    "    print(a+b)\n",
    "n = int(input(\"Enter any value of n = \"))\n",
    "for i in range(n):\n",
    "    a = int(input(\"Enter  a = \"))\n",
    "    b = int(input(\"Enter  b = \"))\n",
    "    add(a,b)\n",
    "    \n"
   ]
  },
  {
   "cell_type": "code",
   "execution_count": 2,
   "metadata": {},
   "outputs": [
    {
     "name": "stdout",
     "output_type": "stream",
     "text": [
      "1 Hello World\n",
      "2 Hello World\n",
      "3 Hello World\n",
      "4 Hello World\n"
     ]
    }
   ],
   "source": [
    "for i in range (1,5):\n",
    "    print(i,\"Hello World\")\n",
    "    "
   ]
  },
  {
   "cell_type": "code",
   "execution_count": 4,
   "metadata": {},
   "outputs": [
    {
     "name": "stdout",
     "output_type": "stream",
     "text": [
      "Enter the value of n = 12\n",
      "1 * 12 = 12\n",
      "2 * 12 = 24\n",
      "3 * 12 = 36\n",
      "4 * 12 = 48\n",
      "5 * 12 = 60\n",
      "6 * 12 = 72\n",
      "7 * 12 = 84\n",
      "8 * 12 = 96\n",
      "9 * 12 = 108\n",
      "10 * 12 = 120\n"
     ]
    }
   ],
   "source": [
    "n = int(input(\"Enter the value of n = \"))\n",
    "for i in range (1,11):\n",
    "    print(i,\"*\",n,\"=\",n*i)\n",
    "    \n"
   ]
  },
  {
   "cell_type": "code",
   "execution_count": 9,
   "metadata": {},
   "outputs": [
    {
     "name": "stdout",
     "output_type": "stream",
     "text": [
      "1\n",
      "2\n",
      "3\n",
      "4\n",
      "5\n",
      "6\n",
      "7\n",
      "8\n",
      "9\n",
      "10\n",
      "11\n",
      "12\n"
     ]
    }
   ],
   "source": [
    "for i in range(1,13):\n",
    "    print(i)"
   ]
  },
  {
   "cell_type": "code",
   "execution_count": 4,
   "metadata": {},
   "outputs": [
    {
     "name": "stdout",
     "output_type": "stream",
     "text": [
      "1\n",
      "5\n",
      "2\n"
     ]
    }
   ],
   "source": [
    "for i in (1,5,2):\n",
    "    print(i)\n"
   ]
  },
  {
   "cell_type": "code",
   "execution_count": 6,
   "metadata": {},
   "outputs": [
    {
     "name": "stdout",
     "output_type": "stream",
     "text": [
      "1\n",
      "3\n",
      "5\n",
      "7\n"
     ]
    }
   ],
   "source": [
    "for i in range(1,9,2):\n",
    "    print(i)"
   ]
  },
  {
   "cell_type": "code",
   "execution_count": 7,
   "metadata": {},
   "outputs": [
    {
     "data": {
      "text/plain": [
       "range(0, 5)"
      ]
     },
     "execution_count": 7,
     "metadata": {},
     "output_type": "execute_result"
    }
   ],
   "source": [
    "range(5)"
   ]
  },
  {
   "cell_type": "code",
   "execution_count": 8,
   "metadata": {},
   "outputs": [
    {
     "data": {
      "text/plain": [
       "range(1, 4)"
      ]
     },
     "execution_count": 8,
     "metadata": {},
     "output_type": "execute_result"
    }
   ],
   "source": [
    "range(1,4)"
   ]
  },
  {
   "cell_type": "code",
   "execution_count": 10,
   "metadata": {},
   "outputs": [
    {
     "data": {
      "text/plain": [
       "range(1, 4, 6)"
      ]
     },
     "execution_count": 10,
     "metadata": {},
     "output_type": "execute_result"
    }
   ],
   "source": [
    "range(1,4,6)"
   ]
  },
  {
   "cell_type": "code",
   "execution_count": 16,
   "metadata": {},
   "outputs": [
    {
     "name": "stdout",
     "output_type": "stream",
     "text": [
      "Hello World \n",
      "Hello World \n",
      "Hello World \n",
      "Hello World \n",
      "\n"
     ]
    }
   ],
   "source": [
    "a = \"Hello World \\n\"\n",
    "print(a*4)"
   ]
  },
  {
   "cell_type": "code",
   "execution_count": 23,
   "metadata": {},
   "outputs": [
    {
     "name": "stdout",
     "output_type": "stream",
     "text": [
      "enter the value of n = 2\n",
      "enter the value of a = 12\n",
      "enter the value of a = 12\n",
      "Sum 24\n"
     ]
    }
   ],
   "source": [
    "sum = 0\n",
    "n = int(input(\"enter the value of n = \"))\n",
    "for i in range(n):\n",
    "    a = int(input(\"enter the value of a = \"))\n",
    "    sum = sum+a\n",
    "print(\"Sum\", sum)\n"
   ]
  },
  {
   "cell_type": "code",
   "execution_count": 25,
   "metadata": {},
   "outputs": [
    {
     "name": "stdout",
     "output_type": "stream",
     "text": [
      "enter the value of n = 2\n",
      "enter the value of a = 12\n",
      "enter the value of a = 12\n",
      "Sum = 24\n"
     ]
    }
   ],
   "source": [
    "sum = 0\n",
    "n = int(input(\"enter the value of n = \"))\n",
    "for i in range(n):\n",
    "    a = int(input(\"enter the value of a = \"))\n",
    "    sum = sum+a\n",
    "print(\"Sum\", \"=\",sum)\n"
   ]
  },
  {
   "cell_type": "code",
   "execution_count": 31,
   "metadata": {},
   "outputs": [
    {
     "name": "stdout",
     "output_type": "stream",
     "text": [
      "Enter the value of n = 3\n",
      "Enter the value of s = 12\n",
      "Enter the value of s = 12\n",
      "Enter the value of s = 12\n",
      "Sum= 24\n"
     ]
    }
   ],
   "source": [
    "b = 0\n",
    "n = int (input(\"Enter the value of n = \"))\n",
    "for i in range(n):\n",
    "    s = int(input(\"Enter the value of s = \"))\n",
    "    a = sum+b\n",
    "print( \"Sum\" \"=\" ,a)\n"
   ]
  },
  {
   "cell_type": "code",
   "execution_count": 43,
   "metadata": {},
   "outputs": [
    {
     "name": "stdout",
     "output_type": "stream",
     "text": [
      "Enter the value of n = 12\n",
      "0  * 12 = 0\n",
      "1  * 12 = 12\n",
      "2  * 12 = 24\n",
      "3  * 12 = 36\n",
      "4  * 12 = 48\n",
      "5  * 12 = 60\n",
      "6  * 12 = 72\n",
      "7  * 12 = 84\n",
      "8  * 12 = 96\n",
      "9  * 12 = 108\n"
     ]
    }
   ],
   "source": [
    "n = int(input(\"Enter the value of n = \"))\n",
    "for i in range(0,10):\n",
    "    print(i ,\" *\", n, \"=\", i*n)\n"
   ]
  },
  {
   "cell_type": "code",
   "execution_count": 48,
   "metadata": {},
   "outputs": [
    {
     "name": "stdout",
     "output_type": "stream",
     "text": [
      "H\n",
      "e\n",
      "l\n",
      "l\n",
      "o\n",
      " \n",
      "W\n",
      "o\n",
      "r\n",
      "l\n",
      "d\n"
     ]
    }
   ],
   "source": [
    "a = \"Hello World\"\n",
    "for i in a:\n",
    "    print(i)\n",
    "   "
   ]
  },
  {
   "cell_type": "code",
   "execution_count": 61,
   "metadata": {},
   "outputs": [
    {
     "name": "stdout",
     "output_type": "stream",
     "text": [
      "Enter value of n = 24\n",
      "620448401733239439360000\n"
     ]
    }
   ],
   "source": [
    "#Factorial\n",
    "# 1*2*3*4*5\n",
    "y = 1\n",
    "n = int(input(\"Enter value of n = \"))\n",
    "for i in range(1,n+1):\n",
    "    y = y*i\n",
    "print(y)"
   ]
  },
  {
   "cell_type": "code",
   "execution_count": null,
   "metadata": {},
   "outputs": [],
   "source": [
    "a = ('Apple','Ball','Banana','Cat')\n",
    "for i in  a:\n",
    "    print(i)"
   ]
  }
 ],
 "metadata": {
  "kernelspec": {
   "display_name": "Python 3",
   "language": "python",
   "name": "python3"
  },
  "language_info": {
   "codemirror_mode": {
    "name": "ipython",
    "version": 3
   },
   "file_extension": ".py",
   "mimetype": "text/x-python",
   "name": "python",
   "nbconvert_exporter": "python",
   "pygments_lexer": "ipython3",
   "version": "3.7.4"
  }
 },
 "nbformat": 4,
 "nbformat_minor": 2
}
