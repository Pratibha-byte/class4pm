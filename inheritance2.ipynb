{
 "cells": [
  {
   "cell_type": "code",
   "execution_count": 1,
   "metadata": {},
   "outputs": [],
   "source": [
    "#public members are accessible from outside the class\n",
    "#protectedd members of a class  are accessible within  the class and are also available to its subclass\n",
    "# private members are denied access from the envirnonment\n"
   ]
  },
  {
   "cell_type": "code",
   "execution_count": 12,
   "metadata": {},
   "outputs": [
    {
     "name": "stdout",
     "output_type": "stream",
     "text": [
      "Hello my name is Ram.I am 22 years old.I am from Nepal\n",
      "Ram\n",
      "Nepal\n",
      "22\n"
     ]
    }
   ],
   "source": [
    "#private\n",
    "#private ko lagi duita underscore hunxa\n",
    "#protected ko lagi euta underscore hunxa bhane public ko lahi underscore hudaina\n",
    "class Info:\n",
    "    def __init__(self, name,age, add):\n",
    "        self.__name = name#double underscore for private\n",
    "        self._age = age\n",
    "        self.add = add\n",
    "        \n",
    "    def infos(this):\n",
    "        print(f\"Hello my name is {this.__name}.I am {this._age} years old.I am from {this.add}\")\n",
    "\n",
    "obj = Info(\"Ram\",22, \"Nepal\")\n",
    "obj.infos()\n",
    "\n",
    "print(obj._Info__name)#\n",
    "print(obj.add)\n",
    "print(obj._age)"
   ]
  },
  {
   "cell_type": "code",
   "execution_count": 16,
   "metadata": {},
   "outputs": [
    {
     "name": "stdout",
     "output_type": "stream",
     "text": [
      "The volume is =  30\n"
     ]
    }
   ],
   "source": [
    "class Area:\n",
    "    def __init__(self,l,b):\n",
    "        self._l = l\n",
    "        self.__b = b\n",
    "    def area(self):\n",
    "        return self._l*self.__b\n",
    "class Height:\n",
    "    def __init__(self,h):\n",
    "        self.h = h\n",
    "    def height(self):\n",
    "        return self.h\n",
    "    \n",
    "    \n",
    "    \n",
    "    \n",
    "a = Area(3,5)\n",
    "h = Height(2)\n",
    "d = h.height()\n",
    "c = a.area()\n",
    "volume = c*d\n",
    "print(\"The volume is = \",volume)\n",
    "    \n",
    "        "
   ]
  },
  {
   "cell_type": "code",
   "execution_count": 17,
   "metadata": {},
   "outputs": [
    {
     "name": "stdout",
     "output_type": "stream",
     "text": [
      "Hello i am Ram.and i am 11.I am from Kathmandu\n",
      "Ram 11\n"
     ]
    }
   ],
   "source": [
    "#when there is multiple class\n",
    "class Profile:\n",
    "    def __init__(self,name,age):\n",
    "        self._name = name\n",
    "        self.__age = age\n",
    "    def show(self):\n",
    "        print(self._name,self.__age)\n",
    "class Hr(Profile):\n",
    "    def __init__(self,name,age,address):\n",
    "        Profile.__init__(self,name,age)\n",
    "        self.address = address\n",
    "    def text(self):\n",
    "        print(f\"Hello i am {self._name}.and i am {self._Profile__age}.I am from {self.address}\")\n",
    "        \n",
    "x = Hr('Ram',11,\"Kathmandu\")\n",
    "x.text()\n",
    "x.show()"
   ]
  },
  {
   "cell_type": "code",
   "execution_count": 18,
   "metadata": {},
   "outputs": [
    {
     "name": "stdout",
     "output_type": "stream",
     "text": [
      "Hello i am Ram.and i am 11.I am from Kathmandu\n"
     ]
    },
    {
     "data": {
      "text/plain": [
       "11"
      ]
     },
     "execution_count": 18,
     "metadata": {},
     "output_type": "execute_result"
    }
   ],
   "source": [
    "class Profile:\n",
    "    def __init__(self,name,age):\n",
    "        self._name = name\n",
    "        self.__age = age\n",
    "    def show(self):\n",
    "        return self.__age\n",
    "        \n",
    "        \n",
    "class Hr(Profile):\n",
    "    def __init__(self,name,age,address):\n",
    "        Profile.__init__(self,name,age)\n",
    "        self.address = address\n",
    "    def text(self):\n",
    "        print(f\"Hello i am {self._name}.and i am {super().show()}.I am from {self.address}\")\n",
    "        \n",
    "x = Hr('Ram',11,\"Kathmandu\")\n",
    "x.text()\n",
    "x.show()"
   ]
  },
  {
   "cell_type": "code",
   "execution_count": null,
   "metadata": {},
   "outputs": [],
   "source": []
  }
 ],
 "metadata": {
  "kernelspec": {
   "display_name": "Python 3",
   "language": "python",
   "name": "python3"
  },
  "language_info": {
   "codemirror_mode": {
    "name": "ipython",
    "version": 3
   },
   "file_extension": ".py",
   "mimetype": "text/x-python",
   "name": "python",
   "nbconvert_exporter": "python",
   "pygments_lexer": "ipython3",
   "version": "3.7.4"
  }
 },
 "nbformat": 4,
 "nbformat_minor": 2
}
