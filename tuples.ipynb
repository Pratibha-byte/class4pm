{
 "cells": [
  {
   "cell_type": "code",
   "execution_count": 2,
   "metadata": {},
   "outputs": [
    {
     "name": "stdout",
     "output_type": "stream",
     "text": [
      "(1, 2, 3, 4)\n",
      "<class 'tuple'>\n"
     ]
    }
   ],
   "source": [
    "#tuple\n",
    "#concate possible\n",
    "#append  and delete not possible\n",
    "#fixed data are kept in tuples\n",
    "#remove garna dlt garna update garna mildain\n",
    "#tuple immutable ho\n",
    "a = (1,2,3,4)\n",
    "print(a)\n",
    "print(type(a))\n",
    "\n",
    "    "
   ]
  },
  {
   "cell_type": "code",
   "execution_count": 2,
   "metadata": {},
   "outputs": [
    {
     "ename": "SyntaxError",
     "evalue": "invalid syntax (<ipython-input-2-5fffa5d38ee8>, line 2)",
     "output_type": "error",
     "traceback": [
      "\u001b[1;36m  File \u001b[1;32m\"<ipython-input-2-5fffa5d38ee8>\"\u001b[1;36m, line \u001b[1;32m2\u001b[0m\n\u001b[1;33m    for i in range a:\u001b[0m\n\u001b[1;37m                   ^\u001b[0m\n\u001b[1;31mSyntaxError\u001b[0m\u001b[1;31m:\u001b[0m invalid syntax\n"
     ]
    }
   ],
   "source": [
    "a = ('Apple','Ball','Cat')\n",
    "for i in range a:\n",
    "    print(i)"
   ]
  },
  {
   "cell_type": "code",
   "execution_count": 4,
   "metadata": {},
   "outputs": [
    {
     "name": "stdout",
     "output_type": "stream",
     "text": [
      "Yes 1\n"
     ]
    }
   ],
   "source": [
    "a = ('Apple','Ball','Cat')\n",
    "if 'Apple' in a:\n",
    "    print('Yes',a.count('Apple'))"
   ]
  },
  {
   "cell_type": "code",
   "execution_count": 5,
   "metadata": {},
   "outputs": [
    {
     "data": {
      "text/plain": [
       "(1, 2, 3, 4, 1, 2, 3, 4)"
      ]
     },
     "execution_count": 5,
     "metadata": {},
     "output_type": "execute_result"
    }
   ],
   "source": [
    "a = (1,2,3,4)\n",
    "a*2"
   ]
  },
  {
   "cell_type": "code",
   "execution_count": 6,
   "metadata": {},
   "outputs": [
    {
     "name": "stdout",
     "output_type": "stream",
     "text": [
      "24\n"
     ]
    }
   ],
   "source": [
    "def cal(x):\n",
    "    l,b,h = x\n",
    "    print(l*b*h)\n",
    "x = (2,3,4)\n",
    "cal(x)"
   ]
  },
  {
   "cell_type": "code",
   "execution_count": 7,
   "metadata": {},
   "outputs": [
    {
     "data": {
      "text/plain": [
       "tuple"
      ]
     },
     "execution_count": 7,
     "metadata": {},
     "output_type": "execute_result"
    }
   ],
   "source": [
    "#tuple inside tuple\n",
    "a = ((1,2,3),(4,5,6),(7,8,9))\n",
    "type(a)"
   ]
  },
  {
   "cell_type": "code",
   "execution_count": 8,
   "metadata": {},
   "outputs": [
    {
     "name": "stdout",
     "output_type": "stream",
     "text": [
      "3\n"
     ]
    }
   ],
   "source": [
    "a = ((1,2,3),(4,5,6),(7,8,9))\n",
    "type(a)\n",
    "print(len(a))"
   ]
  },
  {
   "cell_type": "code",
   "execution_count": 9,
   "metadata": {},
   "outputs": [
    {
     "data": {
      "text/plain": [
       "((1, 2, 3), (4, 4, 6))"
      ]
     },
     "execution_count": 9,
     "metadata": {},
     "output_type": "execute_result"
    }
   ],
   "source": [
    "#tuple lai tuple bhitra rakhna ko lagi comma use garne \n",
    "a = ()\n",
    "b = (1,2,3)\n",
    "c = (4,4,6)\n",
    "a+(b,)+(c,)"
   ]
  },
  {
   "cell_type": "code",
   "execution_count": 10,
   "metadata": {},
   "outputs": [
    {
     "name": "stdout",
     "output_type": "stream",
     "text": [
      "Enter b = 1\n",
      "Enter b = 2\n",
      "Enter b = 3\n",
      "Enter b = 4\n",
      "Enter b = 5\n",
      "((5,), (4,), (3,), (2,), (1,))\n"
     ]
    }
   ],
   "source": [
    "a = ()\n",
    "for i in range(5):\n",
    "    b = int(input(\"Enter b = \"))\n",
    "    c = (b,)\n",
    "    a = (c,)+a\n",
    "print(a)"
   ]
  },
  {
   "cell_type": "code",
   "execution_count": 12,
   "metadata": {},
   "outputs": [
    {
     "name": "stdout",
     "output_type": "stream",
     "text": [
      "Enter name = jhsfa\n",
      "Enter age = 12\n",
      "Enter address = jsdgs\n",
      "Enter name = sdnmb\n",
      "Enter age = 11\n",
      "Enter address = hsnmnbm\n",
      "Enter name = gg\n",
      "Enter age = 1\n",
      "Enter address = hjk\n",
      "Enter name = hjdkfdh\n",
      "Enter age = 111\n",
      "Enter address = djsgds\n",
      "Enter name = utjgjr\n",
      "Enter age = 11\n",
      "Enter address = fkjfjjj\n",
      "(('utjgjr', '11', 'fkjfjjj'), ('hjdkfdh', '111', 'djsgds'), ('gg', '1', 'hjk'), ('sdnmb', '11', 'hsnmnbm'), ('jhsfa', '12', 'jsdgs'))\n"
     ]
    }
   ],
   "source": [
    "a = ()\n",
    "for i in range(5):\n",
    "    name =input (\"Enter name = \")\n",
    "    age =input (\"Enter age = \")\n",
    "    address =input (\"Enter address = \")\n",
    "    c = (name,age,address)\n",
    "    a = (c,)+a\n",
    "print(a)\n",
    "    "
   ]
  },
  {
   "cell_type": "code",
   "execution_count": 12,
   "metadata": {},
   "outputs": [
    {
     "name": "stdout",
     "output_type": "stream",
     "text": [
      "Enter the no of elements = 1\n",
      "()\n"
     ]
    }
   ],
   "source": [
    "a = ()\n",
    "for i in range(n):\n",
    "    n =int(input(\"Enter the no of elements = \"))\n",
    "print(a)\n",
    "    "
   ]
  },
  {
   "cell_type": "code",
   "execution_count": 15,
   "metadata": {},
   "outputs": [
    {
     "name": "stdout",
     "output_type": "stream",
     "text": [
      "Enter name = jggds\n",
      "Enter age = 11\n",
      "Enter address = fjkkg\n",
      "Enter name = hkkj\n",
      "Enter age = 12\n",
      "Enter address = jkhh\n",
      "(['hkkj', '12', 'jkhh'], ['jggds', '11', 'fjkkg'])\n"
     ]
    }
   ],
   "source": [
    "#tuple bhitra list pani huna sakxa\n",
    "a = ()\n",
    "for i in range(2):\n",
    "    name =input (\"Enter name = \")\n",
    "    age =input (\"Enter age = \")\n",
    "    address =input (\"Enter address = \")\n",
    "    c = [name,age,address]\n",
    "    a = (c,)+a\n",
    "print(a)\n",
    "    "
   ]
  },
  {
   "cell_type": "code",
   "execution_count": 16,
   "metadata": {},
   "outputs": [
    {
     "data": {
      "text/plain": [
       "(['utjgjr', '11', 'fkjfjjj', 'abcd'], ['hjdkfdh', '111', 'djsgds'])"
      ]
     },
     "execution_count": 16,
     "metadata": {},
     "output_type": "execute_result"
    }
   ],
   "source": [
    "\n",
    "x = (['utjgjr', '11', 'fkjfjjj'], ['hjdkfdh', '111', 'djsgds'])\n",
    "x[0].append('abcd')#list ko bhitra chai append gareko tuple ko bhitra append garna paaidaina\n",
    "x"
   ]
  },
  {
   "cell_type": "code",
   "execution_count": 17,
   "metadata": {},
   "outputs": [
    {
     "data": {
      "text/plain": [
       "[1, 2, 3]"
      ]
     },
     "execution_count": 17,
     "metadata": {},
     "output_type": "execute_result"
    }
   ],
   "source": [
    "#tuple lai list ma change garna sakinxa .list ma change garera feri tuple ma change garda dhher restictions haru aaudaina\n",
    "#string lai pani tuple ma cjange garna sakinxa\n",
    "a = (1,2,3)\n",
    "list(a)"
   ]
  },
  {
   "cell_type": "code",
   "execution_count": 22,
   "metadata": {},
   "outputs": [
    {
     "data": {
      "text/plain": [
       "[('utjgjr', '11', 'fkjfjjj'), ('hjdkfdh', '111', 'djsgds')]"
      ]
     },
     "execution_count": 22,
     "metadata": {},
     "output_type": "execute_result"
    }
   ],
   "source": [
    "x = (('utjgjr', '11', 'fkjfjjj'), ('hjdkfdh', '111', 'djsgds'))\n",
    "list(x)"
   ]
  },
  {
   "cell_type": "code",
   "execution_count": 18,
   "metadata": {},
   "outputs": [
    {
     "data": {
      "text/plain": [
       "(1, 2, 3, 4)"
      ]
     },
     "execution_count": 18,
     "metadata": {},
     "output_type": "execute_result"
    }
   ],
   "source": [
    "\n",
    "a = (1,2,3)\n",
    "a = list(a)\n",
    "a.append(4)\n",
    "tuple(a)"
   ]
  },
  {
   "cell_type": "code",
   "execution_count": 21,
   "metadata": {},
   "outputs": [
    {
     "name": "stdout",
     "output_type": "stream",
     "text": [
      "[['utjgjr', '11', 'fkjfjjj'], ['hjdkfdh', '111', 'djsgds']]\n"
     ]
    }
   ],
   "source": [
    "#changing tuple into  list inside list\n",
    "x = (('utjgjr', '11', 'fkjfjjj'), ('hjdkfdh', '111', 'djsgds'))\n",
    "z = []\n",
    "for i in range(len(x)):\n",
    "    y = list(x[i])\n",
    "    z.append(y)\n",
    "print(z)"
   ]
  },
  {
   "cell_type": "code",
   "execution_count": 6,
   "metadata": {},
   "outputs": [
    {
     "name": "stdout",
     "output_type": "stream",
     "text": [
      "Enter the no of students = 1\n",
      "Enter the name of student =  gg\n",
      "Enter the marks of ir = 12\n",
      "Enter the marks of c = 13\n"
     ]
    },
    {
     "data": {
      "text/plain": [
       "(['gg', 12, 13, 25],)"
      ]
     },
     "execution_count": 6,
     "metadata": {},
     "output_type": "execute_result"
    }
   ],
   "source": [
    "#result print\n",
    "result = []\n",
    "n = int(input(\"Enter the no of students = \"))\n",
    "for i  in range(n):\n",
    "    name = input(\"Enter the name of student =  \")\n",
    "    ir = int(input(\"Enter the marks of ir = \"))\n",
    "    c = int(input(\"Enter the marks of c = \"))\n",
    "    total = sum([ir,c])\n",
    "    result.append([name,ir,c,total])\n",
    "tuple(result)\n",
    "\n",
    "\n",
    "\n",
    "\n",
    "\n"
   ]
  },
  {
   "cell_type": "code",
   "execution_count": 11,
   "metadata": {},
   "outputs": [
    {
     "name": "stdout",
     "output_type": "stream",
     "text": [
      "Enter the no of student = 1\n",
      "Enter the name of student = hhg\n",
      "Enter the marks of ir =  33\n",
      "Enter the marks of c = 44\n"
     ]
    },
    {
     "data": {
      "text/plain": [
       "(['hhg', 33, 44, 77],)"
      ]
     },
     "execution_count": 11,
     "metadata": {},
     "output_type": "execute_result"
    }
   ],
   "source": [
    "a = ()\n",
    "n = int(input(\"Enter the no of student = \"))\n",
    "for i in range(n):\n",
    "    name = input(\"Enter the name of student = \")\n",
    "    ir = int(input(\"Enter the marks of ir =  \"))\n",
    "    c = int(input(\"Enter the marks of c = \"))\n",
    "    total = sum([ir,c])\n",
    "    a = list(a)\n",
    "    a.append([name,ir,c,total])\n",
    "tuple(a)"
   ]
  },
  {
   "cell_type": "code",
   "execution_count": 18,
   "metadata": {},
   "outputs": [
    {
     "name": "stdout",
     "output_type": "stream",
     "text": [
      "Enter the no of student = 1\n",
      "Enter the name of student = 33\n",
      "Enter the marks of c = 44\n",
      "ENter the marks of ir = 66\n",
      "Enter the marks of oop = 88\n",
      "('33', 44, 66, 88, 198)\n"
     ]
    }
   ],
   "source": [
    "a = ()\n",
    "n = int(input(\"Enter the no of student = \"))\n",
    "for i in range(n):\n",
    "    name = input(\"Enter the name of student = \")\n",
    "    c = int(input(\"Enter the marks of c = \"))\n",
    "    ir = int(input(\"ENter the marks of ir = \"))\n",
    "    oop = int(input(\"Enter the marks of oop = \"))\n",
    "    total = sum([c,ir,oop])\n",
    "    a = (name,c,ir,oop,total,)+a\n",
    "print(a)\n"
   ]
  },
  {
   "cell_type": "code",
   "execution_count": 16,
   "metadata": {},
   "outputs": [
    {
     "name": "stdout",
     "output_type": "stream",
     "text": [
      "Enter the no of students = 1\n",
      "Enter the name of student =  pp\n",
      "Enter the marks of ir = 22\n",
      "Enter the marks of c = 44\n",
      "('pp', 22, 44, 66)\n"
     ]
    }
   ],
   "source": [
    "result = ()\n",
    "n = int(input(\"Enter the no of students = \"))\n",
    "for i  in range(n):\n",
    "    name = input(\"Enter the name of student =  \")\n",
    "    ir = int(input(\"Enter the marks of ir = \"))\n",
    "    c = int(input(\"Enter the marks of c = \"))\n",
    "    total = sum([ir,c])\n",
    "    result = (name,ir,c,total,)+result\n",
    "print(result)"
   ]
  },
  {
   "cell_type": "code",
   "execution_count": null,
   "metadata": {},
   "outputs": [],
   "source": []
  }
 ],
 "metadata": {
  "kernelspec": {
   "display_name": "Python 3",
   "language": "python",
   "name": "python3"
  },
  "language_info": {
   "codemirror_mode": {
    "name": "ipython",
    "version": 3
   },
   "file_extension": ".py",
   "mimetype": "text/x-python",
   "name": "python",
   "nbconvert_exporter": "python",
   "pygments_lexer": "ipython3",
   "version": "3.7.4"
  }
 },
 "nbformat": 4,
 "nbformat_minor": 2
}
