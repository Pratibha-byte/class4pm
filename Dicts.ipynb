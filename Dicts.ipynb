{
 "cells": [
  {
   "cell_type": "code",
   "execution_count": 3,
   "metadata": {},
   "outputs": [
    {
     "data": {
      "text/plain": [
       "{'c': 'Cat', 'a': 'Apple', 'b': 'Ball'}"
      ]
     },
     "execution_count": 3,
     "metadata": {},
     "output_type": "execute_result"
    }
   ],
   "source": [
    "A dictionary is a collection which is unordered, changeable and indexed. In Python dictionaries are written with curly brackets, and they have keys and values.\n",
    "\n",
    "\n",
    "\n",
    "a = {'a':'Apple','b':'Ball'}\n",
    "b = {'c':'Cat'}\n",
    "b.update(a)\n",
    "b"
   ]
  },
  {
   "cell_type": "code",
   "execution_count": 11,
   "metadata": {},
   "outputs": [
    {
     "data": {
      "text/plain": [
       "{1: {'name': 'Ram', 'age': 34},\n",
       " 2: {'name': 'Sita', 'age': 34},\n",
       " 3: {'name': 'Hari', 'age': 34},\n",
       " 4: {'name': 'Shyam', 'age': 32}}"
      ]
     },
     "execution_count": 11,
     "metadata": {},
     "output_type": "execute_result"
    }
   ],
   "source": [
    "a = {1:{'name':'Ram','age':34},\n",
    "     2:{'name':'Sita','age':34},\n",
    "    3:{'name':'Hari','age':34}}\n",
    "a[4] = {'name':'Shyam','age':32}\n",
    "a\n"
   ]
  },
  {
   "cell_type": "code",
   "execution_count": 12,
   "metadata": {},
   "outputs": [
    {
     "data": {
      "text/plain": [
       "{1: {'name': 'Ram', 'age': 34, 'add': 'Nepal'},\n",
       " 2: {'name': 'Sita', 'age': 34},\n",
       " 3: {'name': 'Hari', 'age': 34}}"
      ]
     },
     "execution_count": 12,
     "metadata": {},
     "output_type": "execute_result"
    }
   ],
   "source": [
    "a = {1:{'name':'Ram','age':34},\n",
    "     2:{'name':'Sita','age':34},\n",
    "    3:{'name':'Hari','age':34}}\n",
    "a[1] ['add'] = 'Nepal'\n",
    "a\n"
   ]
  },
  {
   "cell_type": "code",
   "execution_count": 15,
   "metadata": {},
   "outputs": [
    {
     "name": "stdout",
     "output_type": "stream",
     "text": [
      "Entet the no of rows = 2\n",
      "Enter the name = ss\n",
      "Enter the age = 11\n",
      "Enter address = ee\n",
      "Enter the name = aa\n",
      "Enter the age = 111\n",
      "Enter address = ff\n",
      "{1: {'Name': 'ss', 'Add': 'ee', 'Age': 11}, 2: {'Name': 'aa', 'Add': 'ff', 'Age': 111}}\n"
     ]
    }
   ],
   "source": [
    "a = {}\n",
    "n = int(input(\"Entet the no of rows = \"))\n",
    "for i in range(1,n+1):\n",
    "    name = input(\"Enter the name = \")\n",
    "    age = int(input(\"Enter the age = \"))\n",
    "    add = input(\"Enter address = \")\n",
    "    a[i] = {'Name':name,'Add':add,'Age':age}\n",
    "print(a)\n"
   ]
  },
  {
   "cell_type": "code",
   "execution_count": 17,
   "metadata": {
    "scrolled": true
   },
   "outputs": [
    {
     "name": "stdout",
     "output_type": "stream",
     "text": [
      "{'brand': 'aa', 'model': 'bb', 'year': 1964}\n"
     ]
    }
   ],
   "source": [
    "thisdict =\t{\n",
    "  \"brand\": \"aa\",\n",
    "  \"model\": \"bb\",\n",
    "  \"year\": 1964\n",
    "}\n",
    "print(thisdict)\n"
   ]
  },
  {
   "cell_type": "code",
   "execution_count": 19,
   "metadata": {},
   "outputs": [
    {
     "name": "stdout",
     "output_type": "stream",
     "text": [
      "Entet the no of rows = 2\n",
      "Enter the name = aa\n",
      "Enter the marks of math = 11\n",
      "Enter the marks of c = 22\n",
      "Enter the marks of oop = 33\n",
      "Enter the marks of daa = 44\n",
      "Enter the marks of ir = 55\n",
      "Enter the name = aa\n",
      "Enter the marks of math = 11\n",
      "Enter the marks of c = 22\n",
      "Enter the marks of oop = 44\n",
      "Enter the marks of daa = 55\n",
      "Enter the marks of ir = 66\n",
      "{1: {'Name': 'aa', 'Math': 11, 'C': 22, 'OOP': 33, 'DAA': 44, 'IR': 55}, 2: {'Name': 'aa', 'Math': 11, 'C': 22, 'OOP': 44, 'DAA': 55, 'IR': 66}}\n"
     ]
    }
   ],
   "source": [
    "a = {}\n",
    "n = int(input(\"Entet the no of rows = \"))\n",
    "for i in range(1,n+1):\n",
    "    name = input(\"Enter the name = \")\n",
    "   \n",
    "    math = int(input(\"Enter the marks of math = \"))\n",
    "    c = int(input(\"Enter the marks of c = \"))\n",
    "    oop = int(input(\"Enter the marks of oop = \"))\n",
    "    daa = int(input(\"Enter the marks of daa = \"))\n",
    "    ir = int(input(\"Enter the marks of ir = \"))\n",
    "    \n",
    "    a[i] = {'Name':name,'Math':math,'C':c,'OOP':oop,'DAA':daa,'IR':ir}\n",
    "print(a)\n"
   ]
  },
  {
   "cell_type": "code",
   "execution_count": 20,
   "metadata": {},
   "outputs": [
    {
     "name": "stdout",
     "output_type": "stream",
     "text": [
      "Entet the no of rows = 2\n",
      "Enter the name = aa\n",
      "Enter the marks of math = 11\n",
      "Enter the marks of c = 22\n",
      "Enter the marks of oop = 44\n",
      "Enter the marks of daa = 55\n",
      "Enter the marks of ir = 66\n",
      "Enter the name = ss\n",
      "Enter the marks of math = 22\n",
      "Enter the marks of c = 44\n",
      "Enter the marks of oop = 55\n",
      "Enter the marks of daa = 66\n",
      "Enter the marks of ir = 88\n",
      "{1: {'Name': 'aa', 'Math': 11, 'C': 22, 'OOP': 44, 'DAA': 55, 'IR': 66, 'Total': 198}, 2: {'Name': 'ss', 'Math': 22, 'C': 44, 'OOP': 55, 'DAA': 66, 'IR': 88, 'Total': 275}}\n"
     ]
    }
   ],
   "source": [
    "a = {}\n",
    "n = int(input(\"Entet the no of rows = \"))\n",
    "for i in range(1,n+1):\n",
    "    name = input(\"Enter the name = \")\n",
    "   \n",
    "    math = int(input(\"Enter the marks of math = \"))\n",
    "    c = int(input(\"Enter the marks of c = \"))\n",
    "    oop = int(input(\"Enter the marks of oop = \"))\n",
    "    daa = int(input(\"Enter the marks of daa = \"))\n",
    "    ir = int(input(\"Enter the marks of ir = \"))\n",
    "    total = [math,c,oop,daa,ir]\n",
    "    \n",
    "    \n",
    "    a[i] = {'Name':name,'Math':math,'C':c,'OOP':oop,'DAA':daa,'IR':ir,'Total':sum(total)}\n",
    "print(a)\n"
   ]
  },
  {
   "cell_type": "code",
   "execution_count": 24,
   "metadata": {},
   "outputs": [
    {
     "name": "stdout",
     "output_type": "stream",
     "text": [
      "Entet the no of rows = 2\n",
      "Enter the name = aa\n",
      "Enter the marks of math = 1\n",
      "Enter the marks of c = 2\n",
      "Enter the marks of oop = 3\n",
      "Enter the marks of daa = 4\n",
      "Enter the marks of ir = 5\n"
     ]
    },
    {
     "ename": "AttributeError",
     "evalue": "'int' object has no attribute 'append'",
     "output_type": "error",
     "traceback": [
      "\u001b[1;31m---------------------------------------------------------------------------\u001b[0m",
      "\u001b[1;31mAttributeError\u001b[0m                            Traceback (most recent call last)",
      "\u001b[1;32m<ipython-input-24-ecbd46cbfe3b>\u001b[0m in \u001b[0;36m<module>\u001b[1;34m\u001b[0m\n\u001b[0;32m     22\u001b[0m     \u001b[0mna\u001b[0m\u001b[1;33m.\u001b[0m\u001b[0mappend\u001b[0m\u001b[1;33m(\u001b[0m\u001b[0mname\u001b[0m\u001b[1;33m)\u001b[0m\u001b[1;33m\u001b[0m\u001b[1;33m\u001b[0m\u001b[0m\n\u001b[0;32m     23\u001b[0m     \u001b[0mmat\u001b[0m\u001b[1;33m.\u001b[0m\u001b[0mappend\u001b[0m\u001b[1;33m(\u001b[0m\u001b[0mmath\u001b[0m\u001b[1;33m)\u001b[0m\u001b[1;33m\u001b[0m\u001b[1;33m\u001b[0m\u001b[0m\n\u001b[1;32m---> 24\u001b[1;33m     \u001b[0mc\u001b[0m\u001b[1;33m.\u001b[0m\u001b[0mappend\u001b[0m\u001b[1;33m(\u001b[0m\u001b[0mc\u001b[0m\u001b[1;33m)\u001b[0m\u001b[1;33m\u001b[0m\u001b[1;33m\u001b[0m\u001b[0m\n\u001b[0m\u001b[0;32m     25\u001b[0m     \u001b[0moop\u001b[0m\u001b[1;33m.\u001b[0m\u001b[0mappend\u001b[0m\u001b[1;33m(\u001b[0m\u001b[0moop\u001b[0m\u001b[1;33m)\u001b[0m\u001b[1;33m\u001b[0m\u001b[1;33m\u001b[0m\u001b[0m\n\u001b[0;32m     26\u001b[0m     \u001b[0mdaa\u001b[0m\u001b[1;33m.\u001b[0m\u001b[0mappend\u001b[0m\u001b[1;33m(\u001b[0m\u001b[0mdaa\u001b[0m\u001b[1;33m)\u001b[0m\u001b[1;33m\u001b[0m\u001b[1;33m\u001b[0m\u001b[0m\n",
      "\u001b[1;31mAttributeError\u001b[0m: 'int' object has no attribute 'append'"
     ]
    }
   ],
   "source": [
    "#dictiobary iside dictionary\n",
    "a = {}\n",
    "na = []\n",
    "mat = []\n",
    "c = []\n",
    "oop = []\n",
    "daa = []\n",
    "ir = []\n",
    "tota = []\n",
    "\n",
    "\n",
    "n = int(input(\"Entet the no of rows = \"))\n",
    "for i in range(1,n+1):\n",
    "    name = input(\"Enter the name = \")\n",
    "   \n",
    "    math = int(input(\"Enter the marks of math = \"))\n",
    "    c = int(input(\"Enter the marks of c = \"))\n",
    "    oop = int(input(\"Enter the marks of oop = \"))\n",
    "    daa = int(input(\"Enter the marks of daa = \"))\n",
    "    ir = int(input(\"Enter the marks of ir = \"))\n",
    "    total = [math,c,oop,daa,ir]\n",
    "    na.append(name)\n",
    "    mat.append(math)\n",
    "    c.append(c)\n",
    "    oop.append(oop)\n",
    "    daa.append(daa)\n",
    "    ir.append(ir)\n",
    "    totaal.append(total)\n",
    "    \n",
    "    \n",
    "\n",
    "print(a)\n"
   ]
  },
  {
   "cell_type": "code",
   "execution_count": 26,
   "metadata": {},
   "outputs": [
    {
     "name": "stdout",
     "output_type": "stream",
     "text": [
      "Enter the no of rows = 2\n",
      "Enter the name = aa\n",
      "Enter the marks of math = 22\n",
      "Enter the marks of c = 44\n",
      "Enter the marks of oop = 55\n",
      "Enter the marks of daa = 66\n",
      "Enter the marks of ir = 77\n",
      "Enter the name = ss\n",
      "Enter the marks of math = 33\n",
      "Enter the marks of c = 44\n",
      "Enter the marks of oop = 55\n",
      "Enter the marks of daa = 66\n",
      "Enter the marks of ir = 77\n",
      "{'Name': ['aa', 'ss'], 'Math': [22, 33], 'C': [44, 44], 'OOP': [55, 55], 'DAA': [66, 66], 'IR': [77, 77], 'Total': [[22, 44, 55, 66, 77], [33, 44, 55, 66, 77]]}\n"
     ]
    }
   ],
   "source": [
    "#list inside dict\n",
    "na = []\n",
    "mat = []\n",
    "c = []\n",
    "oop = []\n",
    "daa = []\n",
    "ir = []\n",
    "tota = []\n",
    "\n",
    "\n",
    "n = int(input(\"Enter the no of rows = \"))\n",
    "for i in range(1,n+1):\n",
    "    name = input(\"Enter the name = \")\n",
    "   \n",
    "    math = int(input(\"Enter the marks of math = \"))\n",
    "    cc = int(input(\"Enter the marks of c = \"))\n",
    "    oo = int(input(\"Enter the marks of oop = \"))\n",
    "    da = int(input(\"Enter the marks of daa = \"))\n",
    "    i = int(input(\"Enter the marks of ir = \"))\n",
    "    total = [math,cc,oo,da,i]\n",
    "    na.append(name)\n",
    "    mat.append(math)\n",
    "    c.append(cc)\n",
    "    oop.append(oo)\n",
    "    daa.append(da)\n",
    "    ir.append(i)\n",
    "    tota.append(total)\n",
    "a = {'Name':na,'Math':mat,'C':c,'OOP':oop,'DAA':daa,'IR':ir,'Total':tota}\n",
    "print(a)"
   ]
  },
  {
   "cell_type": "code",
   "execution_count": null,
   "metadata": {},
   "outputs": [],
   "source": []
  }
 ],
 "metadata": {
  "kernelspec": {
   "display_name": "Python 3",
   "language": "python",
   "name": "python3"
  },
  "language_info": {
   "codemirror_mode": {
    "name": "ipython",
    "version": 3
   },
   "file_extension": ".py",
   "mimetype": "text/x-python",
   "name": "python",
   "nbconvert_exporter": "python",
   "pygments_lexer": "ipython3",
   "version": "3.7.4"
  }
 },
 "nbformat": 4,
 "nbformat_minor": 2
}
