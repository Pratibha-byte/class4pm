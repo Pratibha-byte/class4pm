{
 "cells": [
  {
   "cell_type": "code",
   "execution_count": null,
   "metadata": {},
   "outputs": [],
   "source": [
    "# if else \n",
    "a = int(input(\"Enter a = \"))\n",
    "b = int(input(\"Enter b = \"))\n",
    "o = input(\"Enter o (+ - * /)\")\n",
    "if o=='+':\n",
    "    print(a+b)\n",
    "elif o=='-':\n",
    "    print(a-b)\n",
    "elif o=='*':\n",
    "    print(a*b)   \n",
    "elif o=='/':\n",
    "    print(a/b)\n",
    "else:\n",
    "    print(\"Invalid operator\")\n",
    "\n"
   ]
  },
  {
   "cell_type": "code",
   "execution_count": 4,
   "metadata": {},
   "outputs": [
    {
     "name": "stdout",
     "output_type": "stream",
     "text": [
      "Enter y for more calculations y\n",
      "Enter b = 12\n",
      "Enter o (+ - * /)/\n",
      "1.0\n",
      "Enter b = 122\n",
      "Enter o (+ - * /)*\n",
      "1464\n",
      "Invalid operator\n"
     ]
    }
   ],
   "source": [
    "#function with return type\n",
    "def cal():\n",
    "    b = int(input(\"Enter b = \"))\n",
    "    o = input(\"Enter o (+ - * /)\")\n",
    "    if o=='+':\n",
    "        print(a+b)\n",
    "    elif o=='-':\n",
    "        print(a-b)\n",
    "    elif o=='*':\n",
    "        print(a*b)   \n",
    "    elif o=='/':\n",
    "        print(a/b)\n",
    "    else:\n",
    "        print(\"Invalid operator\")\n",
    "x = input(\"Enter y for more calculations \")\n",
    "if x=='y':\n",
    "    cal()\n",
    "cal()    \n",
    "\n"
   ]
  },
  {
   "cell_type": "code",
   "execution_count": null,
   "metadata": {},
   "outputs": [],
   "source": []
  },
  {
   "cell_type": "code",
   "execution_count": null,
   "metadata": {},
   "outputs": [],
   "source": [
    "def add(a,b):\n",
    "    return a+b\n",
    "def sub(a,b):\n",
    "    return a-b\n",
    "def div(a,b):\n",
    "    return a/b\n",
    "def mul(a,b):\n",
    "    return a*b\n",
    "def cal():\n",
    "    b = int(input(\"Enter b = \"))\n",
    "    o = input(\"Enter o (+ - * /)\")\n",
    "    if o=='+':\n",
    "        print(add(a,b))\n",
    "    elif o=='-':\n",
    "        print(sub(a,b))\n",
    "    elif o=='*':\n",
    "        print(mul(a,b))  \n",
    "    elif o=='/':\n",
    "        \n",
    "        print(div(a,b))\n",
    "    else:\n",
    "        print(\"Invalid operator\")\n",
    "        x = input(\"Enter y for more calculations \")\n",
    "        if x=='y':\n",
    "            cal()\n",
    "cal()            \n",
    "   \n",
    "   "
   ]
  },
  {
   "cell_type": "code",
   "execution_count": null,
   "metadata": {},
   "outputs": [
    {
     "name": "stdout",
     "output_type": "stream",
     "text": [
      "Enter b = 11\n"
     ]
    }
   ],
   "source": [
    "def add(a,b):\n",
    "    return a+b\n",
    "def sub(a,b):\n",
    "    return a-b\n",
    "def div(a,b):\n",
    "    return a/b\n",
    "def mul(a,b):\n",
    "    return a*b\n",
    "def cal():\n",
    "    b = int(input(\"Enter b = \"))\n",
    "    o = input(\"Enter o (+ - * /)\")\n",
    "    if o=='+':\n",
    "        print(add(a,b))\n",
    "    elif o=='-':\n",
    "        print(sub(a,b))\n",
    "    elif o=='*':\n",
    "        print(mul(a,b))  \n",
    "    elif (o=='/') and (b!=0):#putting the condition\n",
    "        \n",
    "        print(div(a,b))\n",
    "    else:\n",
    "        print(\"Invalid operator\")\n",
    "        x = input(\"Enter y for more calculations \")\n",
    "        if x=='y':\n",
    "            cal()\n",
    "cal()            \n",
    "   \n",
    "   "
   ]
  },
  {
   "cell_type": "code",
   "execution_count": null,
   "metadata": {},
   "outputs": [],
   "source": [
    "\n",
    "\n",
    "\n",
    "\n",
    "\n",
    "\n",
    "\n",
    "\n",
    "#(a or b) and c\n",
    "#a or (b and c)\n",
    "#a and(b or c)and(d)\n",
    "#a&b\n",
    "#a|b\n"
   ]
  },
  {
   "cell_type": "code",
   "execution_count": null,
   "metadata": {},
   "outputs": [],
   "source": []
  }
 ],
 "metadata": {
  "kernelspec": {
   "display_name": "Python 3",
   "language": "python",
   "name": "python3"
  },
  "language_info": {
   "codemirror_mode": {
    "name": "ipython",
    "version": 3
   },
   "file_extension": ".py",
   "mimetype": "text/x-python",
   "name": "python",
   "nbconvert_exporter": "python",
   "pygments_lexer": "ipython3",
   "version": "3.7.4"
  }
 },
 "nbformat": 4,
 "nbformat_minor": 2
}
