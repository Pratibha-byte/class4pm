{
 "cells": [
  {
   "cell_type": "code",
   "execution_count": 1,
   "metadata": {},
   "outputs": [
    {
     "name": "stdout",
     "output_type": "stream",
     "text": [
      "The volume is =  1104\n"
     ]
    }
   ],
   "source": [
    "def volume(x):\n",
    "    l,b,h = x\n",
    "    print(\"The volume is = \",l*b*h)\n",
    "x = [12,23,4]\n",
    "volume(x)"
   ]
  },
  {
   "cell_type": "code",
   "execution_count": 5,
   "metadata": {},
   "outputs": [
    {
     "name": "stdout",
     "output_type": "stream",
     "text": [
      "The area is =  144\n"
     ]
    }
   ],
   "source": [
    "def area(a):\n",
    "    l,b = a\n",
    "    print(\"The area is = \",l*b)\n",
    "a = [12,12]\n",
    "area(a)\n",
    "    "
   ]
  },
  {
   "cell_type": "code",
   "execution_count": 7,
   "metadata": {},
   "outputs": [
    {
     "data": {
      "text/plain": [
       "['Ball', 'Cat', 'Dog', 'Fish']"
      ]
     },
     "execution_count": 7,
     "metadata": {},
     "output_type": "execute_result"
    }
   ],
   "source": [
    "#remove \n",
    "#delete\n",
    "a = ['Apple','Ball','Cat','Dog','Fish']\n",
    "del a[0]\n",
    "a"
   ]
  },
  {
   "cell_type": "code",
   "execution_count": 6,
   "metadata": {},
   "outputs": [
    {
     "data": {
      "text/plain": [
       "['Dog', 'Fish', 'Apple']"
      ]
     },
     "execution_count": 6,
     "metadata": {},
     "output_type": "execute_result"
    }
   ],
   "source": [
    "#delete\n",
    "a = ['Apple','Ball','Cat','Dog','Fish','Apple']\n",
    "del a[:3]\n",
    "a"
   ]
  },
  {
   "cell_type": "code",
   "execution_count": 10,
   "metadata": {},
   "outputs": [
    {
     "data": {
      "text/plain": [
       "['Ball', 'Cat', 'Dog', 'Fish', 'Apple']"
      ]
     },
     "execution_count": 10,
     "metadata": {},
     "output_type": "execute_result"
    }
   ],
   "source": [
    "a = ['Apple','Ball','Cat','Dog','Fish','Apple']\n",
    "a.remove('Apple')\n",
    "a"
   ]
  },
  {
   "cell_type": "code",
   "execution_count": 7,
   "metadata": {},
   "outputs": [
    {
     "data": {
      "text/plain": [
       "['Apple', 'Cat', 'Dog', 'Fish', 'Apple']"
      ]
     },
     "execution_count": 7,
     "metadata": {},
     "output_type": "execute_result"
    }
   ],
   "source": [
    "a = ['Apple','Ball','Cat','Dog','Fish','Apple']\n",
    "del a[1:2]\n",
    "a"
   ]
  },
  {
   "cell_type": "code",
   "execution_count": 16,
   "metadata": {},
   "outputs": [
    {
     "data": {
      "text/plain": [
       "['Ball', 'Cat', 'Dog', 'Fish', 'Apple']"
      ]
     },
     "execution_count": 16,
     "metadata": {},
     "output_type": "execute_result"
    }
   ],
   "source": [
    "a = ['Apple','Ball','Cat','Dog','Fish','Apple']\n",
    "del a[0:2:3]\n",
    "a"
   ]
  },
  {
   "cell_type": "code",
   "execution_count": 17,
   "metadata": {},
   "outputs": [
    {
     "name": "stdout",
     "output_type": "stream",
     "text": [
      "['Ball', 'Cat', 'Dog', 'Fish']\n"
     ]
    }
   ],
   "source": [
    "a = ['Apple','Ball','Cat','Dog','Fish','Apple']\n",
    "b = 'Apple'\n",
    "x = a.count('Apple')\n",
    "for i in range(x):\n",
    "    a.remove(b)\n",
    "print(a)"
   ]
  },
  {
   "cell_type": "code",
   "execution_count": 18,
   "metadata": {},
   "outputs": [
    {
     "name": "stdout",
     "output_type": "stream",
     "text": [
      "['Ball', 'Cat', 'Dog', 'Fish', 'Apple']\n"
     ]
    }
   ],
   "source": [
    "a = ['Apple','Ball','Cat','Dog','Fish','Apple']\n",
    "b = 'Apple'\n",
    "x = a.count('Apple')\n",
    "for i in range(x-1):\n",
    "    a.remove(b)\n",
    "print(a)"
   ]
  },
  {
   "cell_type": "code",
   "execution_count": null,
   "metadata": {},
   "outputs": [],
   "source": [
    "a = ['Apple','Ball','Cat','Dog','Fish','Apple']\n",
    "b =input(\"Enter any value for replace = \" )\n",
    "x = a.count('Apple')\n",
    "for i in range(x-1):\n",
    "    a.remove(b)\n",
    "print(a)\n",
    "\n"
   ]
  },
  {
   "cell_type": "code",
   "execution_count": null,
   "metadata": {},
   "outputs": [],
   "source": [
    "#index le ekpatak ma euta matra value return garxa \n",
    "a = ['Apple','Ball','cat','Apple','Dog','Fish','Apple']\n",
    "b = input(\"Enter what to replace = \")\n",
    "c = input(\"Enter replace string = \")\n",
    "x = a.count(b)\n",
    "for i in range(x):\n",
    "    index = a.index(b)\n",
    "    a[index] = c\n",
    "    print(a)"
   ]
  },
  {
   "cell_type": "code",
   "execution_count": 1,
   "metadata": {},
   "outputs": [
    {
     "data": {
      "text/plain": [
       "3"
      ]
     },
     "execution_count": 1,
     "metadata": {},
     "output_type": "execute_result"
    }
   ],
   "source": [
    "#list inside list\n",
    "a = [[],[],[]]\n",
    "len(a)"
   ]
  },
  {
   "cell_type": "code",
   "execution_count": 7,
   "metadata": {},
   "outputs": [
    {
     "name": "stdout",
     "output_type": "stream",
     "text": [
      "[1, 2, 3]\n",
      "1\n"
     ]
    }
   ],
   "source": [
    "a = [[1,2,3],\n",
    "    [4,5,6],\n",
    "    [7,8,9]]\n",
    "len(a)\n",
    "print(a[0])\n",
    "print(a[0][0])"
   ]
  },
  {
   "cell_type": "code",
   "execution_count": 9,
   "metadata": {},
   "outputs": [
    {
     "name": "stdout",
     "output_type": "stream",
     "text": [
      "enter n = 2\n",
      "enter name = asd\n",
      "enter address = hjfh\n",
      "enter age = 12\n",
      "enter name = sdfg\n",
      "enter address = asdfgthy\n",
      "enter age = 123\n",
      "[['asd', 'hjfh', 12], ['sdfg', 'asdfgthy', 123]]\n"
     ]
    }
   ],
   "source": [
    "info = []#empty list definne gareko\n",
    "n = int(input(\"enter n = \"))\n",
    "for i in range(n):\n",
    "    name = input(\"enter name = \")\n",
    "    address =input (\"enter address = \")\n",
    "    age =int(input(\"enter age = \"))\n",
    "    info.append([name,address,age])\n",
    "print(info)\n",
    "    "
   ]
  },
  {
   "cell_type": "code",
   "execution_count": 15,
   "metadata": {},
   "outputs": [
    {
     "name": "stdout",
     "output_type": "stream",
     "text": [
      "enter n = 2\n",
      "enter name = asd\n",
      "enter address = sdfg\n",
      "enter age = 12\n",
      "enter name = sdfghj\n",
      "enter address = werty\n",
      "enter age = 23\n",
      "[[0, 'asd', 'sdfg', 12], [1, 'sdfghj', 'werty', 23]]\n"
     ]
    }
   ],
   "source": [
    "info = []\n",
    "n = int(input(\"enter n = \"))\n",
    "for i in range(n):\n",
    "    name = input(\"enter name = \")\n",
    "    address =input (\"enter address = \")\n",
    "    age =int(input(\"enter age = \"))\n",
    "    info.append([i,name,address,age])#i+1 bhaneko chain indexing deko ho hamle and  i bata strat huda chai 0 bta start hunxa \n",
    "print(info)\n",
    "    "
   ]
  },
  {
   "cell_type": "code",
   "execution_count": null,
   "metadata": {},
   "outputs": [],
   "source": [
    "#value read garne \n",
    "x = int(input(\"enter roll = \"))\n",
    "print(info[x-1])"
   ]
  },
  {
   "cell_type": "code",
   "execution_count": 5,
   "metadata": {},
   "outputs": [
    {
     "name": "stdout",
     "output_type": "stream",
     "text": [
      "Enter the number of student2\n",
      "Enter the name of student = a\n",
      "Enter the marks of c = 12\n",
      "Enter the marks of oop = 23\n",
      "Enter the marks of compiler = 33\n",
      "ENter the marks of db = 35\n",
      "Enter the marks of ir = 23\n",
      "Enter the name of student = aa\n",
      "Enter the marks of c = 23\n",
      "Enter the marks of oop = 34\n",
      "Enter the marks of compiler = 56\n",
      "ENter the marks of db = 67\n",
      "Enter the marks of ir = 78\n",
      "[[0, 12, 23, 33, 35, 23, 126, 25.2], [1, 23, 34, 56, 67, 78, 258, 51.6]]\n"
     ]
    }
   ],
   "source": [
    "#result print\n",
    "result = [] \n",
    "n = int(input(\"Enter the number of student\"))\n",
    "for i in range(n):\n",
    "\n",
    "    name = input(\"Enter the name of student = \") \n",
    "    c = int(input(\"Enter the marks of c = \"))\n",
    "    oop = int(input(\"Enter the marks of oop = \"))\n",
    "    compiler = int(input(\"Enter the marks of compiler = \"))\n",
    "    db = int(input(\"ENter the marks of db = \"))\n",
    "    ir = int(input(\"Enter the marks of ir = \" ))\n",
    "    total = sum([c,oop,compiler,db,ir])\n",
    "\n",
    "    percentage = total/5\n",
    "    result.append([i,c,oop,compiler,db,ir,total,percentage])\n",
    "print(result)"
   ]
  },
  {
   "cell_type": "markdown",
   "metadata": {},
   "source": [
    "\n"
   ]
  }
 ],
 "metadata": {
  "kernelspec": {
   "display_name": "Python 3",
   "language": "python",
   "name": "python3"
  },
  "language_info": {
   "codemirror_mode": {
    "name": "ipython",
    "version": 3
   },
   "file_extension": ".py",
   "mimetype": "text/x-python",
   "name": "python",
   "nbconvert_exporter": "python",
   "pygments_lexer": "ipython3",
   "version": "3.7.4"
  }
 },
 "nbformat": 4,
 "nbformat_minor": 2
}
