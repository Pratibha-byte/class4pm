{
 "cells": [
  {
   "cell_type": "code",
   "execution_count": 1,
   "metadata": {},
   "outputs": [
    {
     "name": "stdout",
     "output_type": "stream",
     "text": [
      "['apple', 'ball', 'cat']\n"
     ]
    }
   ],
   "source": [
    "# list is the collection which is ordered and changeable .allows dublicate members.denoted by[].\n",
    "#tuple chai orderded nai ho but unchangeable.\n",
    "a = ['apple','ball','cat']\n",
    "print(a)"
   ]
  },
  {
   "cell_type": "code",
   "execution_count": 2,
   "metadata": {},
   "outputs": [
    {
     "name": "stdout",
     "output_type": "stream",
     "text": [
      "['apple', 'ball', 'cat']\n",
      "<class 'list'>\n"
     ]
    }
   ],
   "source": [
    "a = ['apple','ball','cat']\n",
    "print(a)\n",
    "print(type(a))"
   ]
  },
  {
   "cell_type": "code",
   "execution_count": 3,
   "metadata": {},
   "outputs": [
    {
     "data": {
      "text/plain": [
       "'apple'"
      ]
     },
     "execution_count": 3,
     "metadata": {},
     "output_type": "execute_result"
    }
   ],
   "source": [
    "a[0]"
   ]
  },
  {
   "cell_type": "code",
   "execution_count": 4,
   "metadata": {},
   "outputs": [
    {
     "name": "stdout",
     "output_type": "stream",
     "text": [
      "[1, 2, 3, 4, 5, 5, 3, 4, 2]\n"
     ]
    }
   ],
   "source": [
    "a = [1,2,3,4,5,5,3,4,2]#yesle chai duplicate member haru pani allow garxa like 5 ,3\n",
    "print(a)"
   ]
  },
  {
   "cell_type": "code",
   "execution_count": 6,
   "metadata": {},
   "outputs": [
    {
     "data": {
      "text/plain": [
       "[1, 2, 3, 4, 5, 6]"
      ]
     },
     "execution_count": 6,
     "metadata": {},
     "output_type": "execute_result"
    }
   ],
   "source": [
    "#concatinate\n",
    "a = [1,2,3]\n",
    "b = [4,5,6]\n",
    "a+b"
   ]
  },
  {
   "cell_type": "code",
   "execution_count": 10,
   "metadata": {},
   "outputs": [
    {
     "name": "stdout",
     "output_type": "stream",
     "text": [
      "[1, 2, 3, 4, 2, 3, 4, 5]\n"
     ]
    }
   ],
   "source": [
    "a = [1,2,3,4]\n",
    "b = [2,3,4,5]\n",
    "print(a+b)"
   ]
  },
  {
   "cell_type": "code",
   "execution_count": 11,
   "metadata": {},
   "outputs": [
    {
     "data": {
      "text/plain": [
       "9"
      ]
     },
     "execution_count": 11,
     "metadata": {},
     "output_type": "execute_result"
    }
   ],
   "source": [
    "# finding length of the string\n",
    "a = [1,2,3,4,5,5,3,4,2]\n",
    "len(a)"
   ]
  },
  {
   "cell_type": "code",
   "execution_count": 15,
   "metadata": {},
   "outputs": [
    {
     "name": "stdout",
     "output_type": "stream",
     "text": [
      "Enter any value = sdfgh\n"
     ]
    }
   ],
   "source": [
    "a = []\n",
    "b = input(\"Enter any value = \")\n",
    "a = a + [ b]\n"
   ]
  },
  {
   "cell_type": "code",
   "execution_count": 4,
   "metadata": {},
   "outputs": [
    {
     "ename": "ValueError",
     "evalue": "invalid literal for int() with base 10: 'enter any value = '",
     "output_type": "error",
     "traceback": [
      "\u001b[1;31m---------------------------------------------------------------------------\u001b[0m",
      "\u001b[1;31mValueError\u001b[0m                                Traceback (most recent call last)",
      "\u001b[1;32m<ipython-input-4-2ba0f7d8bb42>\u001b[0m in \u001b[0;36m<module>\u001b[1;34m\u001b[0m\n\u001b[0;32m      1\u001b[0m \u001b[0ma\u001b[0m \u001b[1;33m=\u001b[0m \u001b[1;33m[\u001b[0m\u001b[1;33m]\u001b[0m\u001b[1;33m\u001b[0m\u001b[1;33m\u001b[0m\u001b[0m\n\u001b[0;32m      2\u001b[0m \u001b[1;32mfor\u001b[0m \u001b[0mi\u001b[0m \u001b[1;32min\u001b[0m \u001b[0mrange\u001b[0m\u001b[1;33m(\u001b[0m\u001b[1;36m3\u001b[0m\u001b[1;33m)\u001b[0m\u001b[1;33m:\u001b[0m\u001b[1;33m\u001b[0m\u001b[1;33m\u001b[0m\u001b[0m\n\u001b[1;32m----> 3\u001b[1;33m     \u001b[0mb\u001b[0m \u001b[1;33m=\u001b[0m \u001b[0mint\u001b[0m\u001b[1;33m(\u001b[0m\u001b[1;34m\"enter any value = \"\u001b[0m\u001b[1;33m)\u001b[0m\u001b[1;33m\u001b[0m\u001b[1;33m\u001b[0m\u001b[0m\n\u001b[0m\u001b[0;32m      4\u001b[0m \u001b[0ma\u001b[0m\u001b[1;33m+\u001b[0m\u001b[0mb\u001b[0m\u001b[1;33m\u001b[0m\u001b[1;33m\u001b[0m\u001b[0m\n\u001b[0;32m      5\u001b[0m \u001b[1;33m\u001b[0m\u001b[0m\n",
      "\u001b[1;31mValueError\u001b[0m: invalid literal for int() with base 10: 'enter any value = '"
     ]
    }
   ],
   "source": [
    "a = []\n",
    "for i in range(3):\n",
    "    b = int(\"enter any value = \")\n",
    "a+b\n",
    "\n",
    "    \n",
    "    "
   ]
  },
  {
   "cell_type": "code",
   "execution_count": 17,
   "metadata": {},
   "outputs": [
    {
     "name": "stdout",
     "output_type": "stream",
     "text": [
      "Enter any value = asdf\n",
      "Enter any value = asdfg\n",
      "Enter any value = asdf\n",
      "['asdf', 'asdfg', 'asdf']\n"
     ]
    }
   ],
   "source": [
    "a = []\n",
    "for i in range(3):\n",
    "    b = input(\"Enter any value = \")\n",
    "    a = a + [ b]\n",
    "print(a)"
   ]
  },
  {
   "cell_type": "code",
   "execution_count": 20,
   "metadata": {},
   "outputs": [
    {
     "data": {
      "text/plain": [
       "['asdd', 'asd', 'sdf']"
      ]
     },
     "execution_count": 20,
     "metadata": {},
     "output_type": "execute_result"
    }
   ],
   "source": [
    "#value repalce\n",
    "a = ['asd','asd','sdf']\n",
    "a[0] = 'asdd'\n",
    "a"
   ]
  },
  {
   "cell_type": "code",
   "execution_count": 22,
   "metadata": {},
   "outputs": [
    {
     "name": "stdout",
     "output_type": "stream",
     "text": [
      "enter no of elements = 2\n",
      "enter any value =ASDF\\\n",
      "enter any value =ASD\n"
     ]
    }
   ],
   "source": [
    "a = []\n",
    "n = int(input(\"enter no of elements = \"))\n",
    "for i in range(n):\n",
    "    b = input(\"enter any value =\")\n",
    "    a = a+[b]"
   ]
  },
  {
   "cell_type": "code",
   "execution_count": 23,
   "metadata": {},
   "outputs": [
    {
     "name": "stdout",
     "output_type": "stream",
     "text": [
      "enter no of elements = 2\n",
      "enter any value =asd\n",
      "0 ['asd']\n",
      "enter any value =asd\n",
      "1 ['asd', 'asd']\n"
     ]
    }
   ],
   "source": [
    "a = []\n",
    "n = int(input(\"enter no of elements = \"))\n",
    "for i in range(n):\n",
    "    b = input(\"enter any value =\")\n",
    "    a = a+[b]\n",
    "    print(i,a)"
   ]
  },
  {
   "cell_type": "code",
   "execution_count": 28,
   "metadata": {},
   "outputs": [
    {
     "data": {
      "text/plain": [
       "15"
      ]
     },
     "execution_count": 28,
     "metadata": {},
     "output_type": "execute_result"
    }
   ],
   "source": [
    "sum([1,2,3,4,5])"
   ]
  },
  {
   "cell_type": "code",
   "execution_count": 30,
   "metadata": {},
   "outputs": [
    {
     "data": {
      "text/plain": [
       "24"
      ]
     },
     "execution_count": 30,
     "metadata": {},
     "output_type": "execute_result"
    }
   ],
   "source": [
    "a = [1,2,3,4]\n",
    "b = [2,3,4,5]\n",
    "sum(a+b)"
   ]
  },
  {
   "cell_type": "code",
   "execution_count": 31,
   "metadata": {},
   "outputs": [
    {
     "name": "stdout",
     "output_type": "stream",
     "text": [
      "enter no of elements = 3\n",
      "enter value =12\n",
      "enter value =12\n",
      "enter value =1\n",
      "The sum is =  25\n"
     ]
    }
   ],
   "source": [
    "a = []\n",
    "n = int(input(\"enter no of elements = \"))\n",
    "for i in range(n):\n",
    "    b = int(input(\"enter value =\"))\n",
    "    a = a+[b]\n",
    "print(\"The sum is = \",sum(a))"
   ]
  },
  {
   "cell_type": "code",
   "execution_count": 32,
   "metadata": {},
   "outputs": [
    {
     "name": "stdout",
     "output_type": "stream",
     "text": [
      "enter no of elements = 2\n",
      "enter value =12\n",
      "enter value =12\n",
      "24\n"
     ]
    }
   ],
   "source": [
    "a = []\n",
    "n = int(input(\"enter no of elements = \"))\n",
    "for i in range(n):\n",
    "    b = int(input(\"enter value =\"))\n",
    "    a = a+[b]\n",
    "print(sum(a))"
   ]
  },
  {
   "cell_type": "code",
   "execution_count": 33,
   "metadata": {},
   "outputs": [
    {
     "name": "stdout",
     "output_type": "stream",
     "text": [
      "enter no of elements = 3\n",
      "enter value =12\n",
      "enter value =11\n",
      "enter value =1\n",
      "The sum is =  24\n",
      "The average value is =  8.0\n",
      "The maximum value is =  12\n",
      "The maximum value is =  1\n"
     ]
    }
   ],
   "source": [
    "a = []\n",
    "n = int(input(\"enter no of elements = \"))\n",
    "for i in range(n):\n",
    "    b = int(input(\"enter value =\"))\n",
    "    a = a+[b]\n",
    "print(\"The sum is = \",sum(a))\n",
    "print(\"The average value is = \",sum(a)/n)\n",
    "print(\"The maximum value is = \",max(a))\n",
    "print(\"The manimum value is = \",min(a))\n",
    "\n",
    "\n",
    "\n",
    "\n",
    "\n",
    "\n",
    "    "
   ]
  },
  {
   "cell_type": "code",
   "execution_count": 34,
   "metadata": {},
   "outputs": [
    {
     "name": "stdout",
     "output_type": "stream",
     "text": [
      "enter no of elements = 3\n",
      "enter value =12\n",
      "enter value =1\n",
      "enter value =2\n",
      "The sum is =  15\n",
      "The average value is =  5.0\n",
      "The maximum value is =  12\n",
      "The manimum value is =  1\n",
      "The sorted value is =  [1, 2, 12]\n"
     ]
    }
   ],
   "source": [
    "a = []\n",
    "n = int(input(\"enter no of elements = \"))\n",
    "for i in range(n):\n",
    "    b = int(input(\"enter value =\"))\n",
    "    a = a+[b]\n",
    "print(\"The sum is = \",sum(a))\n",
    "print(\"The average value is = \",sum(a)/n)\n",
    "print(\"The maximum value is = \",max(a))\n",
    "print(\"The manimum value is = \",min(a))\n",
    "\n",
    "a.sort()\n",
    "print(\"The sorted value is = \",a)\n"
   ]
  },
  {
   "cell_type": "code",
   "execution_count": 35,
   "metadata": {},
   "outputs": [
    {
     "name": "stdout",
     "output_type": "stream",
     "text": [
      "enter no of elements = 2\n",
      "enter value =hjk\n",
      "enter value =asd\n",
      "The sorted value is =  ['hjk', 'asd']\n"
     ]
    }
   ],
   "source": [
    "a = []\n",
    "n = int(input(\"enter no of elements = \"))\n",
    "for i in range(n):\n",
    "    b = (input(\"enter value =\"))\n",
    "    a = a+[b]\n",
    "print(\"The sorted value is = \",a)\n"
   ]
  },
  {
   "cell_type": "code",
   "execution_count": 9,
   "metadata": {},
   "outputs": [
    {
     "name": "stdout",
     "output_type": "stream",
     "text": [
      "enter no of elements = 4\n",
      "enter value =23\n",
      "enter value =25\n",
      "enter value =2\n",
      "enter value =5\n",
      "The sorted value is =  ['2', '23', '25', '5']\n"
     ]
    }
   ],
   "source": [
    "a = []\n",
    "n = int(input(\"enter no of elements = \"))\n",
    "for i in range(n):\n",
    "    b = (input(\"enter value =\"))\n",
    "    a = a+[b]\n",
    "    a.sort() \n",
    "    b = a\n",
    "print(\"The sorted value is = \",b)\n"
   ]
  },
  {
   "cell_type": "code",
   "execution_count": 38,
   "metadata": {},
   "outputs": [
    {
     "name": "stdout",
     "output_type": "stream",
     "text": [
      "['..Zebra', '1.Cat', 'Apple', 'Ball']\n"
     ]
    }
   ],
   "source": [
    "# kunai pani eutai list ma special char numeric and alpahabetic value sangai xa bhane special char take the place first ani tesapxi numeric and alpahbetic value \n",
    "a = ['Apple' ,'Ball','1.Cat','..Zebra']\n",
    "a.sort()\n",
    "print(a)\n"
   ]
  },
  {
   "cell_type": "code",
   "execution_count": 39,
   "metadata": {},
   "outputs": [
    {
     "name": "stdout",
     "output_type": "stream",
     "text": [
      "Apple\n",
      "Ball\n",
      "1.Cat\n",
      "..Zebra\n"
     ]
    }
   ],
   "source": [
    "a = ['Apple' ,'Ball','1.Cat','..Zebra']\n",
    "for i in a:\n",
    "    print(i)"
   ]
  },
  {
   "cell_type": "code",
   "execution_count": 40,
   "metadata": {},
   "outputs": [
    {
     "name": "stdout",
     "output_type": "stream",
     "text": [
      "Yes 1\n"
     ]
    }
   ],
   "source": [
    "if 'Apple' in a:\n",
    "    print(\"Yes\",a.count('Apple'))"
   ]
  },
  {
   "cell_type": "code",
   "execution_count": 8,
   "metadata": {},
   "outputs": [
    {
     "name": "stdout",
     "output_type": "stream",
     "text": [
      "1\n",
      ".\n",
      "C\n",
      "a\n",
      "t\n"
     ]
    }
   ],
   "source": [
    "a = ['Apple' ,'Ball','1.Cat','..Zebra']\n",
    "for i in a[2]:\n",
    "    print(i)"
   ]
  },
  {
   "cell_type": "code",
   "execution_count": 42,
   "metadata": {},
   "outputs": [
    {
     "data": {
      "text/plain": [
       "'A'"
      ]
     },
     "execution_count": 42,
     "metadata": {},
     "output_type": "execute_result"
    }
   ],
   "source": [
    "a = ['Apple' ,'Ball','1.Cat','..Zebra']\n",
    "a[0][0]"
   ]
  },
  {
   "cell_type": "code",
   "execution_count": 44,
   "metadata": {},
   "outputs": [
    {
     "data": {
      "text/plain": [
       "['Apple', 'Cat']"
      ]
     },
     "execution_count": 44,
     "metadata": {},
     "output_type": "execute_result"
    }
   ],
   "source": [
    "#append  ....yesle chai add garxa.\n",
    "a = ['Apple']\n",
    "a.append('Cat')\n",
    "a"
   ]
  },
  {
   "cell_type": "code",
   "execution_count": 46,
   "metadata": {},
   "outputs": [
    {
     "data": {
      "text/plain": [
       "[1, 2, 'cat', 3, 5, 6, 7, 8]"
      ]
     },
     "execution_count": 46,
     "metadata": {},
     "output_type": "execute_result"
    }
   ],
   "source": [
    "#insert ma chai index diyera  naya naya value haru assign garna milxa jun sukai thhua ma pani.\n",
    "a = [1,2,3,5,6,7,8]\n",
    "a.insert(2,\"cat\")\n",
    "a"
   ]
  },
  {
   "cell_type": "code",
   "execution_count": 49,
   "metadata": {},
   "outputs": [
    {
     "name": "stdout",
     "output_type": "stream",
     "text": [
      "enter no of elements = 2\n",
      "enter the numbers =12\n",
      "enter the numbers =13\n",
      "[12, 13]\n"
     ]
    }
   ],
   "source": [
    "a = []\n",
    "n = int(input(\"enter no of elements = \"))\n",
    "for i in range(n):\n",
    "    b = int(input(\"enter the numbers =\"))\n",
    "    a.append(b)\n",
    "print(a)"
   ]
  },
  {
   "cell_type": "code",
   "execution_count": 5,
   "metadata": {},
   "outputs": [
    {
     "name": "stdout",
     "output_type": "stream",
     "text": [
      "enter no of elements = 2\n",
      "enter any value=asdf\n",
      "enter any value=asdf\n",
      "['asdf', 'asdf']\n"
     ]
    }
   ],
   "source": [
    "a = []\n",
    "n = int(input(\"enter no of elements = \"))\n",
    "for i in range(n):\n",
    "    b = input(\"enter any value=\")\n",
    "    a.append(b)\n",
    "print(a)"
   ]
  },
  {
   "cell_type": "code",
   "execution_count": 7,
   "metadata": {},
   "outputs": [
    {
     "name": "stdout",
     "output_type": "stream",
     "text": [
      "Enter no of elements = 3\n",
      "Enter the numbers = 1\n",
      "Enter the numbers = 2\n",
      "Enter the numbers = 4\n",
      "[1, 2, 4]\n"
     ]
    }
   ],
   "source": [
    "a = []\n",
    "n = int(input(\"Enter no of elements = \"))\n",
    "for i in range(n):\n",
    "    b = int(input(\"Enter the numbers = \"))\n",
    "    a.append(b)\n",
    "print(a)"
   ]
  },
  {
   "cell_type": "code",
   "execution_count": 1,
   "metadata": {},
   "outputs": [
    {
     "name": "stdout",
     "output_type": "stream",
     "text": [
      "['apple', 'ball']\n"
     ]
    }
   ],
   "source": [
    "a = [\"apple\",'ball']\n",
    "print(a)"
   ]
  },
  {
   "cell_type": "code",
   "execution_count": 2,
   "metadata": {},
   "outputs": [
    {
     "name": "stdout",
     "output_type": "stream",
     "text": [
      "<class 'list'>\n"
     ]
    }
   ],
   "source": [
    "print(type(a))"
   ]
  },
  {
   "cell_type": "code",
   "execution_count": 4,
   "metadata": {},
   "outputs": [
    {
     "name": "stdout",
     "output_type": "stream",
     "text": [
      "ENter n = 1\n",
      "Enter name = ahj\n",
      "Enter address = ndbs\n",
      "['ahj,ndbs']\n"
     ]
    }
   ],
   "source": [
    "a = [ ]\n",
    "n = int(input(\"ENter n = \"))\n",
    "for i in range(n):\n",
    "    name = input(\"Enter name = \")\n",
    "    address = input(\"Enter address = \")\n",
    "    \n",
    "    a = a + [f\"{name},{address}\"]\n",
    "    print(a)"
   ]
  },
  {
   "cell_type": "code",
   "execution_count": null,
   "metadata": {},
   "outputs": [],
   "source": []
  }
 ],
 "metadata": {
  "kernelspec": {
   "display_name": "Python 3",
   "language": "python",
   "name": "python3"
  },
  "language_info": {
   "codemirror_mode": {
    "name": "ipython",
    "version": 3
   },
   "file_extension": ".py",
   "mimetype": "text/x-python",
   "name": "python",
   "nbconvert_exporter": "python",
   "pygments_lexer": "ipython3",
   "version": "3.7.4"
  }
 },
 "nbformat": 4,
 "nbformat_minor": 2
}
