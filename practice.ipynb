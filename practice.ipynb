{
 "cells": [
  {
   "cell_type": "code",
   "execution_count": 1,
   "metadata": {},
   "outputs": [
    {
     "name": "stdout",
     "output_type": "stream",
     "text": [
      "enter the no of elements = 1\n",
      "Enter the name = aa\n",
      "Enter id = 2\n",
      "Enter age = 33\n",
      "Enter phone number = 444\n",
      "{33, 2, 444, 'aa'}\n"
     ]
    }
   ],
   "source": [
    "a = set()\n",
    "n = int(input(\"enter the no of elements = \"))\n",
    "for i in range (n):\n",
    "    Name = input(\"Enter the name = \")\n",
    "    id = int(input(\"Enter id = \"))\n",
    "    age = int(input(\"Enter age = \"))\n",
    "    phone = int(input(\"Enter phone number = \"))\n",
    "    a.update({Name,id,age,phone})\n",
    "print(a)\n",
    "    "
   ]
  },
  {
   "cell_type": "code",
   "execution_count": 2,
   "metadata": {},
   "outputs": [
    {
     "name": "stdout",
     "output_type": "stream",
     "text": [
      "[]\n",
      "[]\n",
      "[]\n",
      "[]\n",
      "[]\n",
      "[]\n",
      "[]\n",
      "[]\n",
      "[]\n",
      "[]\n",
      "[]\n",
      "[]\n",
      "[]\n",
      "[]\n",
      "[]\n"
     ]
    }
   ],
   "source": [
    "a = []\n",
    "for i in range(1,16):\n",
    "    print(a)"
   ]
  },
  {
   "cell_type": "code",
   "execution_count": 3,
   "metadata": {},
   "outputs": [
    {
     "name": "stdout",
     "output_type": "stream",
     "text": [
      "1\n",
      "2\n",
      "3\n",
      "4\n",
      "5\n",
      "6\n",
      "7\n",
      "8\n",
      "9\n",
      "10\n",
      "11\n",
      "12\n",
      "13\n",
      "14\n",
      "15\n"
     ]
    }
   ],
   "source": [
    "a = []\n",
    "for i in range(1,16):\n",
    "    print(i)"
   ]
  },
  {
   "cell_type": "code",
   "execution_count": 5,
   "metadata": {},
   "outputs": [
    {
     "data": {
      "text/plain": [
       "[1, 3, 4]"
      ]
     },
     "execution_count": 5,
     "metadata": {},
     "output_type": "execute_result"
    }
   ],
   "source": [
    "a = [1,2,3,4]\n",
    "a.remove(2)\n",
    "a"
   ]
  },
  {
   "cell_type": "code",
   "execution_count": 7,
   "metadata": {},
   "outputs": [
    {
     "data": {
      "text/plain": [
       "[2, 3, 4]"
      ]
     },
     "execution_count": 7,
     "metadata": {},
     "output_type": "execute_result"
    }
   ],
   "source": [
    "a = [1,2,3,4]\n",
    "a.remove(1)\n",
    "a"
   ]
  },
  {
   "cell_type": "code",
   "execution_count": 10,
   "metadata": {},
   "outputs": [
    {
     "data": {
      "text/plain": [
       "[2, 3, 4, 'b', 'b']"
      ]
     },
     "execution_count": 10,
     "metadata": {},
     "output_type": "execute_result"
    }
   ],
   "source": [
    "a.append('b')\n",
    "a"
   ]
  },
  {
   "cell_type": "code",
   "execution_count": 11,
   "metadata": {},
   "outputs": [
    {
     "data": {
      "text/plain": [
       "[2, 3, 4, 'b', 'b', 'b']"
      ]
     },
     "execution_count": 11,
     "metadata": {},
     "output_type": "execute_result"
    }
   ],
   "source": [
    "a.append('b')\n",
    "a"
   ]
  },
  {
   "cell_type": "code",
   "execution_count": 2,
   "metadata": {},
   "outputs": [
    {
     "name": "stdout",
     "output_type": "stream",
     "text": [
      "The area is =  396\n"
     ]
    }
   ],
   "source": [
    "def length():\n",
    "    a = 12\n",
    "    b = 33\n",
    "    c = a*b\n",
    "    print(\"The area is = \",c)\n",
    "length()"
   ]
  },
  {
   "cell_type": "code",
   "execution_count": 4,
   "metadata": {},
   "outputs": [
    {
     "name": "stdout",
     "output_type": "stream",
     "text": [
      "The area is =  396\n"
     ]
    }
   ],
   "source": [
    "def length():\n",
    "    a = 12\n",
    "    b = 33\n",
    "   \n",
    "    print(\"The area is = \",a*b)\n",
    "length()"
   ]
  },
  {
   "cell_type": "code",
   "execution_count": 2,
   "metadata": {},
   "outputs": [
    {
     "name": "stdout",
     "output_type": "stream",
     "text": [
      "Emter the value of l = 11\n",
      "Enter the valur of b = 1\n",
      "ENter the value of h = 2\n",
      "The area is =  11\n",
      "The volume is =  22\n"
     ]
    }
   ],
   "source": [
    "l = int(input(\"Emter the value of l = \"))\n",
    "b = int(input(\"Enter the valur of b = \"))\n",
    "h = int(input(\"ENter the value of h = \"))\n",
    "def area():\n",
    "    print(\"The area is = \",l*b)\n",
    "\n",
    "def volume():\n",
    "    print(\"The volume is = \",l*b*h)\n",
    "area()\n",
    "volume()"
   ]
  },
  {
   "cell_type": "code",
   "execution_count": 3,
   "metadata": {},
   "outputs": [],
   "source": [
    "#local bhaneko chai function bhitra nai variable define garyo bhane local hunxa \n",
    "#global bahneko function bahira nai variable define garyo bhane global hunxa "
   ]
  },
  {
   "cell_type": "code",
   "execution_count": 15,
   "metadata": {},
   "outputs": [
    {
     "ename": "SyntaxError",
     "evalue": "invalid syntax (<ipython-input-15-7499f862b5f5>, line 1)",
     "output_type": "error",
     "traceback": [
      "\u001b[1;36m  File \u001b[1;32m\"<ipython-input-15-7499f862b5f5>\"\u001b[1;36m, line \u001b[1;32m1\u001b[0m\n\u001b[1;33m    def a,b:\u001b[0m\n\u001b[1;37m         ^\u001b[0m\n\u001b[1;31mSyntaxError\u001b[0m\u001b[1;31m:\u001b[0m invalid syntax\n"
     ]
    }
   ],
   "source": [
    "def a,b:\n",
    "    a = input(\"my name is = \")\n",
    "    b = input(\"i live in = \")\n",
    "    print(\"hello ,a\" +\"i \",b)\n",
    "(a,b)"
   ]
  },
  {
   "cell_type": "code",
   "execution_count": 19,
   "metadata": {},
   "outputs": [
    {
     "data": {
      "text/plain": [
       "<function __main__.simpleintrest()>"
      ]
     },
     "execution_count": 19,
     "metadata": {},
     "output_type": "execute_result"
    }
   ],
   "source": [
    "def simpleintrest():\n",
    "    \n",
    "    p = int(input(\"Enter the value of p = \"))\n",
    "    t = int(input(\"enter the value of t = \"))\n",
    "    r = int(input(\"Enter the value of r = \"))\n",
    "    si = p*t*r/100\n",
    "    print(\"The simple intrest is \",si)\n",
    "    \n",
    "(simpleintrest)\n"
   ]
  },
  {
   "cell_type": "code",
   "execution_count": 1,
   "metadata": {},
   "outputs": [
    {
     "name": "stdout",
     "output_type": "stream",
     "text": [
      "Enter the value of p = 12\n",
      "enter the value of t = 11\n",
      "Enter the value of r = 3\n",
      "The simple intrest is  3.96\n"
     ]
    }
   ],
   "source": [
    "def simpleintrest():\n",
    "    \n",
    "    p = int(input(\"Enter the value of p = \"))\n",
    "    t = int(input(\"enter the value of t = \"))\n",
    "    r = int(input(\"Enter the value of r = \"))\n",
    "    si = p*t*r/100\n",
    "    print(\"The simple intrest is \",si)\n",
    "    \n",
    "simpleintrest()\n"
   ]
  },
  {
   "cell_type": "code",
   "execution_count": 4,
   "metadata": {},
   "outputs": [
    {
     "name": "stdout",
     "output_type": "stream",
     "text": [
      "Enter name = pratibha\n",
      "Enter address = kalimati\n",
      "Enter age = 11\n",
      "Enter phone = 987323564\n",
      "the introduction is  pratibha kalimati 11 987323564\n"
     ]
    }
   ],
   "source": [
    "def info():\n",
    "    \n",
    "    name = input(\"Enter name = \")\n",
    "    add = input(\"Enter address = \")\n",
    "    age = int(input(\"Enter age = \"))\n",
    "    phone = int(input(\"Enter phone = \"))\n",
    "    \n",
    "    print(\"  The introduction is \",name,add,age,phone)\n",
    "info()"
   ]
  },
  {
   "cell_type": "code",
   "execution_count": 9,
   "metadata": {},
   "outputs": [
    {
     "name": "stdout",
     "output_type": "stream",
     "text": [
      "Hello i am ajdf\n",
      "i live in vcnmv\n",
      "Hello i am  ajdf i live in vcnmv\n"
     ]
    }
   ],
   "source": [
    "def intro():\n",
    "    a = input(\"Hello i am \")\n",
    "    b = input(\"i live in \")\n",
    "    print(\"Hello i am \",a +' ' \"i live in\",b)\n",
    "intro()"
   ]
  },
  {
   "cell_type": "code",
   "execution_count": null,
   "metadata": {},
   "outputs": [],
   "source": [
    "p = input(\"phone number\")\n",
    "q = input(\"name\")\n",
    "def cal(p,q):\n",
    "   \n",
    "    print(\"phone number\" ,p + \"name\" ,q)\n",
    "cal(p,q)    "
   ]
  },
  {
   "cell_type": "code",
   "execution_count": 14,
   "metadata": {},
   "outputs": [
    {
     "name": "stdout",
     "output_type": "stream",
     "text": [
      "Enter l =21\n",
      "Enter b =33\n",
      "693\n"
     ]
    }
   ],
   "source": [
    "l = int(input(\"Enter l =\"))\n",
    "b = int(input(\"Enter b =\"))\n",
    "\n",
    "\n",
    "def area(x,y):\n",
    "    print(x*y)\n",
    "    \n",
    "area(l,b)"
   ]
  },
  {
   "cell_type": "code",
   "execution_count": null,
   "metadata": {},
   "outputs": [],
   "source": [
    "p = input(\"address\")\n",
    "q = input(\"name\")\n",
    "def cal(p,q):\n",
    "   \n",
    "    print(\"address\" ,p + \"name\" ,q)\n",
    "cal(p,q)    "
   ]
  },
  {
   "cell_type": "code",
   "execution_count": null,
   "metadata": {},
   "outputs": [],
   "source": []
  },
  {
   "cell_type": "code",
   "execution_count": 6,
   "metadata": {},
   "outputs": [
    {
     "name": "stdout",
     "output_type": "stream",
     "text": [
      "Enter name =Pratibha\n",
      "Enter age =12\n",
      "Enter address =ktm\n",
      "Hello I am Pratibha  I am from  ktm I am  12\n"
     ]
    }
   ],
   "source": [
    "name = input(\"Enter name =\")\n",
    "age= int(input(\"Enter age =\"))\n",
    "add = input(\"Enter address =\")\n",
    "\n",
    "def volume(x,y,z):\n",
    "    print(\"Hello I am\",x,\" I am from \",z,\"I am \",y)\n",
    "\n",
    "volume(name,age,add)"
   ]
  },
  {
   "cell_type": "code",
   "execution_count": 3,
   "metadata": {},
   "outputs": [
    {
     "name": "stdout",
     "output_type": "stream",
     "text": [
      "John 36\n"
     ]
    }
   ],
   "source": [
    "class Person:\n",
    "  def __init__(self, name, age):\n",
    "    self.name = name\n",
    "    self.age = age\n",
    "\n",
    "p1 = Person(\"John\", 36)\n",
    "\n",
    "print(p1.name,p1.age)\n",
    "\n",
    "    "
   ]
  },
  {
   "cell_type": "code",
   "execution_count": 8,
   "metadata": {},
   "outputs": [
    {
     "name": "stdout",
     "output_type": "stream",
     "text": [
      "Pratibha 3\n"
     ]
    }
   ],
   "source": [
    "class Pratibha:\n",
    " def __init__(self, name, age):\n",
    "   \n",
    "    self.name = name\n",
    "    self.age = age\n",
    "pr = Pratibha(\"Pratibha\",3)\n",
    "\n",
    "print(pr.name,pr.age)"
   ]
  },
  {
   "cell_type": "code",
   "execution_count": 6,
   "metadata": {},
   "outputs": [
    {
     "name": "stdout",
     "output_type": "stream",
     "text": [
      "Pratibha\n",
      "20\n"
     ]
    }
   ],
   "source": [
    "class Pratibha:\n",
    " def __init__(self, name, age):\n",
    "   \n",
    "    self.name = name\n",
    "    self.age = age\n",
    "pr = Pratibha(\"Pratibha\",20)\n",
    "\n",
    "print(pr.name)\n",
    "print(pr.age)"
   ]
  },
  {
   "cell_type": "code",
   "execution_count": 8,
   "metadata": {},
   "outputs": [],
   "source": [
    "a = open('ab.txt','x')\n",
    "a.close()"
   ]
  },
  {
   "cell_type": "code",
   "execution_count": 9,
   "metadata": {},
   "outputs": [],
   "source": [
    "a = open('ab.txt','w')\n",
    "a.write(\"Hello world Pratibha\")\n",
    "a.close()"
   ]
  },
  {
   "cell_type": "code",
   "execution_count": 13,
   "metadata": {},
   "outputs": [],
   "source": [
    "b = open('a.txt','w')\n",
    "b.write('My name is Partibha Nepal')\n",
    "b.close()\n"
   ]
  },
  {
   "cell_type": "code",
   "execution_count": 1,
   "metadata": {},
   "outputs": [
    {
     "name": "stdout",
     "output_type": "stream",
     "text": [
      "apple\n",
      "cherry\n"
     ]
    }
   ],
   "source": [
    "fruits = [\"apple\", \"banana\", \"cherry\"]\n",
    "for x in fruits:\n",
    "  if x == \"banana\":\n",
    "    continue\n",
    "  print(x)"
   ]
  },
  {
   "cell_type": "code",
   "execution_count": 3,
   "metadata": {},
   "outputs": [],
   "source": [
    "a = open(\"123.txt\",'x')\n",
    "a.close()"
   ]
  },
  {
   "cell_type": "code",
   "execution_count": null,
   "metadata": {},
   "outputs": [],
   "source": [
    "\n",
    "n = int(input(\"Enter the number of people = \"))\n",
    "\n",
    "class Info:\n",
    "        a = open(\"123.txt\",'w')\n",
    "        \n",
    "        for i in range(n):\n",
    "            firstname = input(\"Enter firstname = \")\n",
    "            lastname = input(\"Enter lastname = \")\n",
    "            age = int(input(\"Enter the age = \"))\n",
    "            info =f\"{firstname},{lastname},{age}\\n\"\n",
    "            a.write(info)\n",
    "            a.close()\n",
    "Info()\n"
   ]
  },
  {
   "cell_type": "code",
   "execution_count": null,
   "metadata": {},
   "outputs": [],
   "source": [
    "\n",
    "n = int(input(\"Enter the number of people = \"))\n",
    "\n",
    "class Info:\n",
    "        a = open(\"123.txt\",'w')\n",
    "        \n",
    "        for i in range(n):\n",
    "            firstname = input(\"Enter firstname = \")\n",
    "            lastname = input(\"Enter lastname = \")\n",
    "            age = int(input(\"Enter the age = \"))\n",
    "            info =f\"{firstname},{lastname},{age}\\n\"\n",
    "            a.write(info)\n",
    "\n",
    "\n",
    "            a.close()\n",
    "Info()"
   ]
  },
  {
   "cell_type": "code",
   "execution_count": null,
   "metadata": {},
   "outputs": [],
   "source": [
    "class Max:\n",
    "\n",
    "    def __init__(self,array,b):\n",
    "        self.array = a\n",
    "        self.b = b\n",
    "        print(a)\n",
    "                \n",
    "\n",
    "        \n",
    "    def __str__(self):           \n",
    "\n",
    "        return f\"The maximum value is {self.b}\"\n",
    "    def maximum(self):\n",
    "        b = max(a)\n",
    "        \n",
    "b = []        \n",
    "a = [1,3,5,7,4,220]\n",
    "obj = Max(a,b)\n",
    "obj.maximum()\n",
    "print(obj)\n",
    "    "
   ]
  },
  {
   "cell_type": "code",
   "execution_count": null,
   "metadata": {},
   "outputs": [],
   "source": [
    "class Max:\n",
    "\n",
    "    def __init__(self,array,b):\n",
    "        self.array = a\n",
    "        self.b = b\n",
    "        print(a)\n",
    "                \n",
    "\n",
    "        \n",
    "    def __str__(self):           \n",
    "\n",
    "        return f\"The maximum value is {self.b}\"\n",
    "    def maximum(self):\n",
    "        b = max(a)\n",
    "        \n",
    "b = []        \n",
    "a = [1,3,5,7,4,220]\n",
    "obj = Max(a,b)\n",
    "obj.maximum()\n",
    "print(obj)"
   ]
  },
  {
   "cell_type": "code",
   "execution_count": null,
   "metadata": {},
   "outputs": [],
   "source": []
  }
 ],
 "metadata": {
  "kernelspec": {
   "display_name": "Python 3",
   "language": "python",
   "name": "python3"
  },
  "language_info": {
   "codemirror_mode": {
    "name": "ipython",
    "version": 3
   },
   "file_extension": ".py",
   "mimetype": "text/x-python",
   "name": "python",
   "nbconvert_exporter": "python",
   "pygments_lexer": "ipython3",
   "version": "3.7.4"
  }
 },
 "nbformat": 4,
 "nbformat_minor": 2
}
