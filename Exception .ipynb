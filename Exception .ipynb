{
 "cells": [
  {
   "cell_type": "code",
   "execution_count": 1,
   "metadata": {},
   "outputs": [],
   "source": [
    "#try:\n",
    "#    <operation>\n",
    "    \n",
    "#except:\n",
    "    #<operation>\n"
   ]
  },
  {
   "cell_type": "code",
   "execution_count": 4,
   "metadata": {},
   "outputs": [
    {
     "name": "stdout",
     "output_type": "stream",
     "text": [
      "enter name = aa\n",
      "enter age = aaaa\n",
      "Error\n"
     ]
    }
   ],
   "source": [
    "try:\n",
    "    name = input(\"enter name = \")\n",
    "    age = int(input(\"enter age = \"))\n",
    "    add = input(\"enter address = \")\n",
    "    print(name,age,address)\n",
    "except:  # except le sabbai khalo error lai handle garxa.program isny crash with the help of exception handling\n",
    "    print(\"Error\")\n",
    "    "
   ]
  },
  {
   "cell_type": "code",
   "execution_count": 5,
   "metadata": {},
   "outputs": [
    {
     "name": "stdout",
     "output_type": "stream",
     "text": [
      "error\n"
     ]
    }
   ],
   "source": [
    "try:\n",
    "    a = 1\n",
    "    b = 0\n",
    "    c = a/b\n",
    "    print(c)\n",
    "except:\n",
    "    print(\"error\")"
   ]
  },
  {
   "cell_type": "code",
   "execution_count": 6,
   "metadata": {},
   "outputs": [
    {
     "name": "stdout",
     "output_type": "stream",
     "text": [
      " zero division error\n"
     ]
    }
   ],
   "source": [
    "try:\n",
    "    a = 1\n",
    "    b = 0\n",
    "    c = a/b\n",
    "    print(c)\n",
    "except ZeroDivisionError:\n",
    "    print(\" zero division error\")\n",
    "except TypeError:\n",
    "    print(\"Type Error\")"
   ]
  },
  {
   "cell_type": "code",
   "execution_count": null,
   "metadata": {},
   "outputs": [],
   "source": [
    "def cal():\n",
    "    try:\n",
    "        a = int(input(\"Enter a = \"))\n",
    "        b = int(input(\"Enter b = \"))\n",
    "        c = a/b\n",
    "        print(c)\n",
    "    except ZeroDivisionError:\n",
    "        print(\" zero division error\")\n",
    "    except TypeError:\n",
    "        print(\"Type Error\")  \n",
    "cal()\n",
    "        \n"
   ]
  },
  {
   "cell_type": "code",
   "execution_count": 13,
   "metadata": {},
   "outputs": [
    {
     "name": "stdout",
     "output_type": "stream",
     "text": [
      "Enter a = 2\n",
      "Enter b = 1\n",
      "2.0\n"
     ]
    }
   ],
   "source": [
    "def cal():\n",
    "    try:\n",
    "        a = int(input(\"Enter a = \"))\n",
    "        b = int(input(\"Enter b = \"))\n",
    "        c = a/b\n",
    "        print(c)\n",
    "    except ZeroDivisionError:\n",
    "        print(\" zero division error\")\n",
    "        cal()\n",
    "    except TypeError:\n",
    "        print(\"Type Error\") \n",
    "        cal()\n",
    "cal()\n",
    "        "
   ]
  },
  {
   "cell_type": "code",
   "execution_count": 19,
   "metadata": {},
   "outputs": [
    {
     "ename": "IndentationError",
     "evalue": "unindent does not match any outer indentation level (<tokenize>, line 7)",
     "output_type": "error",
     "traceback": [
      "\u001b[1;36m  File \u001b[1;32m\"<tokenize>\"\u001b[1;36m, line \u001b[1;32m7\u001b[0m\n\u001b[1;33m    except(ZeroDivisionError,ValueError):\u001b[0m\n\u001b[1;37m    ^\u001b[0m\n\u001b[1;31mIndentationError\u001b[0m\u001b[1;31m:\u001b[0m unindent does not match any outer indentation level\n"
     ]
    }
   ],
   "source": [
    "def cal():\n",
    "     try:\n",
    "        a = int(input(\"Enter a = \"))\n",
    "        b = int(input(\"Enter b = \"))\n",
    "        c = a/b\n",
    "        print(c)\n",
    "    except(ZeroDivisionError,ValueError):\n",
    "        print(\"Error\")\n",
    "        cal()\n",
    "cal()\n",
    "        \n",
    "    "
   ]
  },
  {
   "cell_type": "code",
   "execution_count": 6,
   "metadata": {},
   "outputs": [
    {
     "name": "stdout",
     "output_type": "stream",
     "text": [
      "Enter a = 1\n",
      "Enter b = aa\n",
      "ERror\n"
     ]
    }
   ],
   "source": [
    "def cal():\n",
    "    try:\n",
    "        a = int(input (\"Enter a = \"))\n",
    "        b = int(input (\"Enter b = \"))\n",
    "        c = a/b\n",
    "        \n",
    "    except(ZeroDivisionError,ValueError):#exception create bhayo bhane matra yo block run hunxa natra else run hunxa\n",
    "        print(\"ERror\")\n",
    "    else:\n",
    "        print(\"The value of c = \",c)\n",
    "    \n",
    "cal()"
   ]
  },
  {
   "cell_type": "code",
   "execution_count": 25,
   "metadata": {},
   "outputs": [
    {
     "name": "stdout",
     "output_type": "stream",
     "text": [
      "No such file\n"
     ]
    }
   ],
   "source": [
    "try:\n",
    "     a = open('asd.txt','r')\n",
    "except:\n",
    "    print(\"No such file\")\n",
    "    \n",
    "else:\n",
    "    print(\"The file is opened\")\n",
    "    a.close()\n",
    "    "
   ]
  },
  {
   "cell_type": "code",
   "execution_count": 1,
   "metadata": {},
   "outputs": [
    {
     "name": "stdout",
     "output_type": "stream",
     "text": [
      "Enter a = 11\n",
      "Enter b = 22\n",
      "The value of c =  0.5\n",
      "Thank you\n"
     ]
    }
   ],
   "source": [
    "def cal():\n",
    "    try:\n",
    "        a = int(input (\"Enter a = \"))\n",
    "        b = int(input (\"Enter b = \"))\n",
    "        c = a/b\n",
    "        \n",
    "    except(ZeroDivisionError,ValueError):\n",
    "        print(\"ERror\")\n",
    "    else:\n",
    "        print(\"The value of c = \",c)\n",
    "    finally:\n",
    "        print(\"Thank you\")\n",
    "cal()"
   ]
  },
  {
   "cell_type": "code",
   "execution_count": 9,
   "metadata": {},
   "outputs": [
    {
     "name": "stdout",
     "output_type": "stream",
     "text": [
      "Enter a?11\n",
      "Enter b?0\n",
      "The value of b cant be 0\n"
     ]
    }
   ],
   "source": [
    "#try ,raise, else, except\n",
    "#\n",
    "try:\n",
    "    a = int(input(\"Enter a?\"))\n",
    "    b = int(input(\"Enter b?\"))\n",
    "    if b ==0:\n",
    "        raise ArithmeticError\n",
    "    else:\n",
    "        print(\"a/b= \",a/b)\n",
    "except ArithmeticError:\n",
    "        print(\"The value of b cant be 0\")\n",
    "        "
   ]
  },
  {
   "cell_type": "code",
   "execution_count": 15,
   "metadata": {},
   "outputs": [
    {
     "name": "stdout",
     "output_type": "stream",
     "text": [
      "enter a number = 1\n",
      "Error\n"
     ]
    }
   ],
   "source": [
    "#assert \n",
    "#assert is used to check  the program is logically correct or not\n",
    "try:\n",
    "    num = int(input(\"enter a number = \"))\n",
    "\n",
    "    assert(num%2 ==0)\n",
    "    print(num)\n",
    "except AssertionError:\n",
    "    print(\"Error\")\n"
   ]
  },
  {
   "cell_type": "code",
   "execution_count": 2,
   "metadata": {},
   "outputs": [
    {
     "name": "stdout",
     "output_type": "stream",
     "text": [
      "An exception occurred\n"
     ]
    }
   ],
   "source": [
    "try:\n",
    "  print(x)\n",
    "except:\n",
    "  print(\"An exception occurred\")"
   ]
  },
  {
   "cell_type": "code",
   "execution_count": 3,
   "metadata": {},
   "outputs": [
    {
     "name": "stdout",
     "output_type": "stream",
     "text": [
      "Error occurs\n"
     ]
    }
   ],
   "source": [
    "try:\n",
    "    for i in range(n):\n",
    "        name = input(\"ENter the name = \")\n",
    "        print(\"name\")\n",
    "except:\n",
    "    print(\"Error occurs\")\n",
    "       "
   ]
  },
  {
   "cell_type": "code",
   "execution_count": 5,
   "metadata": {},
   "outputs": [
    {
     "name": "stdout",
     "output_type": "stream",
     "text": [
      "ENter the name = aa\n",
      "aa\n",
      "ENter the name = jj\n",
      "jj\n"
     ]
    }
   ],
   "source": [
    "try:\n",
    "    for i in range(2):\n",
    "        name = input(\"ENter the name = \")\n",
    "        print(name)\n",
    "except:\n",
    "    print(\"Error occurs\")\n",
    "       "
   ]
  },
  {
   "cell_type": "code",
   "execution_count": 6,
   "metadata": {},
   "outputs": [
    {
     "name": "stdout",
     "output_type": "stream",
     "text": [
      "132\n"
     ]
    }
   ],
   "source": [
    "def cal():\n",
    "    a = 11\n",
    "    b = 12\n",
    "    try:\n",
    "        print(a*b)\n",
    "    except:\n",
    "        Print('Error')\n",
    "cal()"
   ]
  },
  {
   "cell_type": "code",
   "execution_count": null,
   "metadata": {},
   "outputs": [],
   "source": []
  }
 ],
 "metadata": {
  "kernelspec": {
   "display_name": "Python 3",
   "language": "python",
   "name": "python3"
  },
  "language_info": {
   "codemirror_mode": {
    "name": "ipython",
    "version": 3
   },
   "file_extension": ".py",
   "mimetype": "text/x-python",
   "name": "python",
   "nbconvert_exporter": "python",
   "pygments_lexer": "ipython3",
   "version": "3.7.4"
  }
 },
 "nbformat": 4,
 "nbformat_minor": 2
}
