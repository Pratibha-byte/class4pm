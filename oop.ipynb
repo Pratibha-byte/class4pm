{
 "cells": [
  {
   "cell_type": "code",
   "execution_count": 1,
   "metadata": {},
   "outputs": [],
   "source": [
    "#function haru lai nai control garne kaam class le garxa\n",
    "#class"
   ]
  },
  {
   "cell_type": "code",
   "execution_count": 2,
   "metadata": {},
   "outputs": [],
   "source": [
    "#class <name_of_class>:\n",
    "#    <operations>\n",
    "#   <methods>\n",
    "#object = <name_of_class>()\n"
   ]
  },
  {
   "cell_type": "code",
   "execution_count": 3,
   "metadata": {},
   "outputs": [],
   "source": [
    "#method bhaneko chai kunai class bhitra define gareko fun ho \n",
    "class Info:\n",
    "    #value initialization\n",
    "    #methods\n",
    "    pass\n",
    "obj = Info()"
   ]
  },
  {
   "cell_type": "code",
   "execution_count": 5,
   "metadata": {},
   "outputs": [
    {
     "name": "stdout",
     "output_type": "stream",
     "text": [
      "Hello World\n"
     ]
    }
   ],
   "source": [
    "class Info:#info bhanne class define gareko\n",
    "    def info(self):#method .....self bhaneko chai class mithra ko euta method ho yo parameters haina\n",
    "        print(\"Hello World\")\n",
    "obj = Info()#object\n",
    "obj.info()#calling methods..info(self) wala method lai call gareko\n",
    "        "
   ]
  },
  {
   "cell_type": "code",
   "execution_count": 7,
   "metadata": {},
   "outputs": [
    {
     "name": "stdout",
     "output_type": "stream",
     "text": [
      "Hello World\n",
      "this is info function\n"
     ]
    }
   ],
   "source": [
    "class Info:#info bhanne class define gareko\n",
    "    def info(self):#self ko kaam chai class bhitra certain attribute haru set garna lai use hunxa ..self class ko reference matra ho\n",
    "        print(\"Hello World\")\n",
    "    def infos(self):\n",
    "        print(\"this is info function\")\n",
    "obj = Info()#object\n",
    "obj.info()\n",
    "obj.infos()\n",
    "\n",
    "\n",
    "        "
   ]
  },
  {
   "cell_type": "code",
   "execution_count": 10,
   "metadata": {},
   "outputs": [
    {
     "name": "stdout",
     "output_type": "stream",
     "text": [
      "The area is  20\n",
      "The volume is  60\n"
     ]
    }
   ],
   "source": [
    "class Cal:\n",
    "    def area(self,l,b):\n",
    "        print(\"The area is \",l*b)\n",
    "    def volume(self,l,b,h):\n",
    "        print(\"The volume is \",l*b*h)\n",
    "obj =Cal() \n",
    "obj.area(4,5)\n",
    "obj.volume(2,5,6)\n",
    "        "
   ]
  },
  {
   "cell_type": "code",
   "execution_count": 12,
   "metadata": {},
   "outputs": [
    {
     "name": "stdout",
     "output_type": "stream",
     "text": [
      "The volume is  20\n",
      "The area is  60\n"
     ]
    }
   ],
   "source": [
    "class Cal:\n",
    "    def area(self,l,b):\n",
    "        return  l*b\n",
    "    def volume(self,l,b,h):\n",
    "        return l*b*h\n",
    "obj =Cal() \n",
    "a = obj.area(4,5)#return gareko value chai yeha aaysra store hunxa\n",
    "v = obj.volume(2,5,6)\n",
    "print(\"The volume is \",a)\n",
    "print(\"The area is \",v)\n",
    "      "
   ]
  },
  {
   "cell_type": "code",
   "execution_count": 14,
   "metadata": {},
   "outputs": [
    {
     "name": "stdout",
     "output_type": "stream",
     "text": [
      "The area is  20\n",
      "The volume is  60\n"
     ]
    }
   ],
   "source": [
    "#jati ota class bhayo teti ota obj banauna parxa \n",
    "class Cal:\n",
    "    def area(self,l,b):\n",
    "        print(\"The area is \",l*b)\n",
    "class Cals:\n",
    "    def volume(self,l,b,h):\n",
    "        print(\"The volume is \",l*b*h)\n",
    "obj =Cal() \n",
    "objs = Cals()\n",
    "obj.area(4,5)\n",
    "objs.volume(2,5,6)\n",
    "      \n"
   ]
  },
  {
   "cell_type": "code",
   "execution_count": 15,
   "metadata": {},
   "outputs": [],
   "source": [
    "#self parameters\n",
    "#class ko first agument chai reference of class ho and remaining are the parameters\n",
    "#class ko through bata value pass garna ko lagi constructor chahinxa"
   ]
  },
  {
   "cell_type": "code",
   "execution_count": 16,
   "metadata": {},
   "outputs": [
    {
     "name": "stdout",
     "output_type": "stream",
     "text": [
      "The volume is =  210\n"
     ]
    }
   ],
   "source": [
    "class Volume:\n",
    "    \n",
    "   def __init__(self,l,b,h):#init bhannne fun ho \n",
    "    self.l = l#attribute haru set gareko\n",
    "    self.b= b\n",
    "    self.h = h\n",
    "\n",
    "   def volume(self):\n",
    "    print(\"The volume is = \",self.l*self.b*self.h)\n",
    "    \n",
    "obj = Volume(5,6,7)\n",
    "obj.volume()\n",
    "    "
   ]
  },
  {
   "cell_type": "code",
   "execution_count": 27,
   "metadata": {},
   "outputs": [
    {
     "ename": "AttributeError",
     "evalue": "'Cals' object has no attribute 'info'",
     "output_type": "error",
     "traceback": [
      "\u001b[1;31m---------------------------------------------------------------------------\u001b[0m",
      "\u001b[1;31mAttributeError\u001b[0m                            Traceback (most recent call last)",
      "\u001b[1;32m<ipython-input-27-d43a11d91ff7>\u001b[0m in \u001b[0;36m<module>\u001b[1;34m\u001b[0m\n\u001b[0;32m      8\u001b[0m         \u001b[0mprint\u001b[0m\u001b[1;33m(\u001b[0m\u001b[1;34mf\"Hello my name is {this.name}.I am {this.age} years old.I am from {this.add}\"\u001b[0m\u001b[1;33m)\u001b[0m\u001b[1;33m\u001b[0m\u001b[1;33m\u001b[0m\u001b[0m\n\u001b[0;32m      9\u001b[0m \u001b[0mobj\u001b[0m \u001b[1;33m=\u001b[0m \u001b[0mInfo\u001b[0m\u001b[1;33m(\u001b[0m\u001b[1;34m\"Ram\"\u001b[0m\u001b[1;33m,\u001b[0m\u001b[1;36m22\u001b[0m\u001b[1;33m,\u001b[0m\u001b[1;34m\"KAthamndu\"\u001b[0m\u001b[1;33m)\u001b[0m\u001b[1;33m\u001b[0m\u001b[1;33m\u001b[0m\u001b[0m\n\u001b[1;32m---> 10\u001b[1;33m \u001b[0mobjs\u001b[0m\u001b[1;33m.\u001b[0m\u001b[0minfo\u001b[0m\u001b[1;33m(\u001b[0m\u001b[1;33m)\u001b[0m\u001b[1;33m\u001b[0m\u001b[1;33m\u001b[0m\u001b[0m\n\u001b[0m\u001b[0;32m     11\u001b[0m \u001b[1;33m\u001b[0m\u001b[0m\n\u001b[0;32m     12\u001b[0m \u001b[1;33m\u001b[0m\u001b[0m\n",
      "\u001b[1;31mAttributeError\u001b[0m: 'Cals' object has no attribute 'info'"
     ]
    }
   ],
   "source": [
    "class Info:\n",
    "    \n",
    "    def __init__(self,name,age,add):\n",
    "        self.name = name\n",
    "        self.age = age\n",
    "        self.add = add\n",
    "    def infos(this):\n",
    "        print(f\"Hello my name is {this.name}.I am {this.age} years old.I am from {this.add}\")\n",
    "obj = Info(\"Ram\",22,\"KAthamndu\")\n",
    "objs.info()\n",
    "        \n",
    "        \n",
    "    "
   ]
  },
  {
   "cell_type": "code",
   "execution_count": 30,
   "metadata": {},
   "outputs": [
    {
     "name": "stdout",
     "output_type": "stream",
     "text": [
      "Hello my name is Ram.I am 22 years old.I am from Kathmandu\n",
      "Ram\n",
      "Ram\n",
      "22\n"
     ]
    }
   ],
   "source": [
    "class Info:\n",
    "    \n",
    "    def __init__(self,name,age):\n",
    "        self.name = name\n",
    "        self.age = age\n",
    "        \n",
    "    def infos(this,add):\n",
    "         print(f\"Hello my name is {this.name}.I am {this.age} years old.I am from {add}\")\n",
    "    def names(self):\n",
    "        print(self.name)\n",
    "obj = Info(\"Ram\",22)\n",
    "obj.infos(\"Kathmandu\")\n",
    "obj.names()\n",
    "print(obj.name)\n",
    "print(obj.age)\n",
    "        "
   ]
  },
  {
   "cell_type": "code",
   "execution_count": 33,
   "metadata": {},
   "outputs": [
    {
     "name": "stdout",
     "output_type": "stream",
     "text": [
      "Enter name = Pratibha\n",
      "Enter age = 20\n",
      "Hello my name is Pratibha.I am 20 years old.I am from Kathmandu\n",
      "Pratibha\n",
      "Pratibha\n",
      "20\n"
     ]
    }
   ],
   "source": [
    "class Info:\n",
    "    \n",
    "    def __init__(self):\n",
    "        self.name = input(\"Enter name = \")\n",
    "        self.age =int(input(\"Enter age = \"))\n",
    "        \n",
    "    def infos(this,add):\n",
    "         print(f\"Hello my name is {this.name}.I am {this.age} years old.I am from {add}\")\n",
    "    def names(self):\n",
    "        print(self.name)\n",
    "        \n",
    "obj = Info()\n",
    "obj.infos(\"Kathmandu\")\n",
    "obj.names()\n",
    "print(obj.name)\n",
    "print(obj.age)\n",
    "        "
   ]
  },
  {
   "cell_type": "code",
   "execution_count": 34,
   "metadata": {},
   "outputs": [
    {
     "name": "stdout",
     "output_type": "stream",
     "text": [
      "Hello my name is RAm.I am 22 years old.I am from Kathmandu\n",
      "RAm\n",
      "RAm\n",
      "22\n"
     ]
    }
   ],
   "source": [
    "class Info:\n",
    "    \n",
    "    def __init__(self,x):\n",
    "        self.name ,self.age = x\n",
    "        \n",
    "        \n",
    "    def infos(this,add):\n",
    "         print(f\"Hello my name is {this.name}.I am {this.age} years old.I am from {add}\")\n",
    "    def names(self):\n",
    "        print(self.name)\n",
    "x = (\"RAm\",22)\n",
    "obj = Info(x)\n",
    "obj.infos(\"Kathmandu\")\n",
    "obj.names()\n",
    "print(obj.name)\n",
    "print(obj.age)\n",
    "        "
   ]
  },
  {
   "cell_type": "code",
   "execution_count": 37,
   "metadata": {},
   "outputs": [
    {
     "name": "stdout",
     "output_type": "stream",
     "text": [
      "The volume is =  120\n"
     ]
    }
   ],
   "source": [
    "class Area:\n",
    "    def __init__(self,l,b):\n",
    "        self.l = l\n",
    "        self.b = b\n",
    "    def area(self):\n",
    "        return self.l*self.b\n",
    "\n",
    "    \n",
    "class Height:\n",
    "    def __init__(self,h):\n",
    "        self.h = h\n",
    "        \n",
    "    def height(self):\n",
    "        return self.h\n",
    "\n",
    "    \n",
    "ar = Area(4,5)\n",
    "h= Height(6)\n",
    "a = ar.area()\n",
    "b = h.height()\n",
    "volume = a*b\n",
    "print(\"The volume is = \",volume)\n",
    "    "
   ]
  },
  {
   "cell_type": "code",
   "execution_count": 1,
   "metadata": {},
   "outputs": [],
   "source": [
    "#class batai nai value return garna ko lagi __str__ method use hunxa..str le string lai return garxa\n",
    "#__repr__ le chai tuple dictionary list string \n"
   ]
  },
  {
   "cell_type": "code",
   "execution_count": 6,
   "metadata": {},
   "outputs": [
    {
     "name": "stdout",
     "output_type": "stream",
     "text": [
      "Ram 11\n"
     ]
    }
   ],
   "source": [
    "#str\n",
    "class Info:\n",
    "    def __init__(self,name,age):#__ yo chai constructor banauna use hunxa and yo normal fun haina\n",
    "        \n",
    "        self.name = name#initialize gareko\n",
    "        self.age = age\n",
    "         \n",
    "            \n",
    "    def __str__(self):\n",
    "        return f\"{self.name} {self.age}\"\n",
    "obj = Info(\"Ram\",'11')\n",
    "print(obj)\n",
    "\n",
    "        "
   ]
  },
  {
   "cell_type": "code",
   "execution_count": 5,
   "metadata": {},
   "outputs": [
    {
     "name": "stdout",
     "output_type": "stream",
     "text": [
      "Ram 11\n"
     ]
    }
   ],
   "source": [
    "class Info:\n",
    "    def __init__(self,name,age):#__ yo chai constructor banauna use hunxa and yo normal fun haina\n",
    "        \n",
    "        self.name = name#initialize gareko\n",
    "        self.age = age\n",
    "         \n",
    "            \n",
    "    def __str__(self):\n",
    "        return f\"{self.name} {self.age}\"\n",
    "obj = Info(\"Ram\",'11')\n",
    "\n",
    "print(obj.__str__())\n",
    "        "
   ]
  },
  {
   "cell_type": "code",
   "execution_count": 7,
   "metadata": {},
   "outputs": [
    {
     "name": "stdout",
     "output_type": "stream",
     "text": [
      "Ram 11\n",
      "Ram 11\n"
     ]
    }
   ],
   "source": [
    "class Info:\n",
    "    def __init__(self,name,age):#__ yo chai constructor banauna use hunxa and yo normal fun haina\n",
    "        \n",
    "        self.name = name#initialize gareko\n",
    "        self.age = age\n",
    "         \n",
    "            \n",
    "    def __str__(self):\n",
    "        return f\"{self.name} {self.age}\"\n",
    "obj = Info(\"Ram\",'11')\n",
    "print(obj)\n",
    "print(obj.__str__())\n"
   ]
  },
  {
   "cell_type": "code",
   "execution_count": 9,
   "metadata": {},
   "outputs": [
    {
     "name": "stdout",
     "output_type": "stream",
     "text": [
      "{'Name': 'Ram', 'Age': '11'}\n"
     ]
    }
   ],
   "source": [
    "#repr method\n",
    "#yesma object lai direct return garna mildaina,priority maintain garxa and normal function jasto call grirakhnu pardaina\n",
    "#\n",
    "class Info:\n",
    "    def __init__(self,name,age):\n",
    "        \n",
    "        self.name = name#initialize gareko\n",
    "        self.age = age\n",
    "         \n",
    "            \n",
    "    def __repr__(self):\n",
    "        return {\"Name\":self.name,\"Age\":self.age}#dic return garxa \n",
    "obj = Info(\"Ram\",'11')\n",
    "\n",
    "print(obj.__repr__())\n",
    "\n"
   ]
  },
  {
   "cell_type": "code",
   "execution_count": 10,
   "metadata": {},
   "outputs": [
    {
     "name": "stdout",
     "output_type": "stream",
     "text": [
      "<class '__main__.Info'>\n"
     ]
    }
   ],
   "source": [
    "#str\n",
    "class Info:\n",
    "    def __init__(self,name,age):#__ yo chai constructor banauna use hunxa and yo normal fun haina\n",
    "        \n",
    "        self.name = name#initialize gareko\n",
    "        self.age = age\n",
    "         \n",
    "            \n",
    "    def __str__(self):\n",
    "        return f\"{self.name} {self.age}\"\n",
    "obj = Info(\"Ram\",'11')\n",
    "print(type(obj))\n"
   ]
  },
  {
   "cell_type": "code",
   "execution_count": 11,
   "metadata": {},
   "outputs": [
    {
     "name": "stdout",
     "output_type": "stream",
     "text": [
      "1\n",
      "3\n",
      "-1\n",
      "2\n",
      "0\n",
      "5\n",
      "0,5\n"
     ]
    }
   ],
   "source": [
    "#operator ma other bhanne reference ho\n",
    "#operatoe overloading\n",
    "class Point:\n",
    "    def __init__(self,x,y):\n",
    "        self.x = x\n",
    "        self.y = y\n",
    "        print(self.x)\n",
    "        print(self.y)\n",
    "        \n",
    "    def __str__(self):\n",
    "        return f\"{self.x},{self.y}\"\n",
    "     \n",
    "        \n",
    "    def __add__(self,other):#other bhannne chai reference function ho operator overloading ma and self ,other le duita matra value linxa bhanne haina yesle jati pani value lina sakxa tara teslai pahile hamle initiakize garnu parxa init fun ma  garnu parxa\n",
    "        x = self.x+other.x\n",
    "        y = self.y+other.y\n",
    "        return Point(x,y)#mathi class ma value return garxa\n",
    "    \n",
    "p1 = Point(1,3)\n",
    "p2= Point(-1,2)\n",
    "print(p1+p2)\n",
    "        \n",
    "    \n",
    "    "
   ]
  },
  {
   "cell_type": "code",
   "execution_count": 17,
   "metadata": {},
   "outputs": [
    {
     "name": "stdout",
     "output_type": "stream",
     "text": [
      "1\n",
      "3\n",
      "4\n",
      "-1\n",
      "2\n",
      "5\n",
      "0\n",
      "5\n",
      "9\n",
      "0,5,9\n"
     ]
    }
   ],
   "source": [
    "class Point:\n",
    "    def __init__(self,x,y,z):\n",
    "        self.x = x\n",
    "        self.y = y\n",
    "        self.z = z\n",
    "        print(self.x)\n",
    "        print(self.y)\n",
    "        print(self.z)\n",
    "        \n",
    "    def __str__(self):\n",
    "        return f\"{self.x},{self.y},{self.z}\"\n",
    "    def __add__(self,other):#other bhannne chai reference function ho operator overloading ma and self ,other le duita matra value linxa bhanne haina yesle jati pani value lina sakxa tara teslai pahile hamle initiakize garnu parxa init fun ma  garnu parxa\n",
    "        x = self.x+other.x\n",
    "        y = self.y+other.y\n",
    "        z =  self.z+other.z\n",
    "        return Point(x,y,z)#mathi class ma value return garxa\n",
    "    \n",
    "p1 = Point(1,3,4)\n",
    "p2= Point(-1,2,5)\n",
    "print(p1+p2)\n",
    "        \n",
    "    \n",
    "     "
   ]
  },
  {
   "cell_type": "code",
   "execution_count": 19,
   "metadata": {},
   "outputs": [
    {
     "name": "stdout",
     "output_type": "stream",
     "text": [
      "1000\n",
      "10000\n",
      "11000\n",
      "20000\n",
      "31000\n",
      "30000\n",
      "61000\n",
      "40000\n",
      "(101000)\n"
     ]
    }
   ],
   "source": [
    "class Point:\n",
    "    def __init__(self,y=0):\n",
    "        self.y = y\n",
    "    def __str__(self):\n",
    "        return \"({0})\".format(self.y)\n",
    "    def __add__(self,other):\n",
    "        y = self.y+other.y\n",
    "        print(self.y)\n",
    "        print(other.y)\n",
    "        \n",
    "        return Point(y)\n",
    "p1 = Point(1000)\n",
    "p2 = Point(10000)\n",
    "p3 = Point(20000)\n",
    "p4 = Point(30000)\n",
    "p5 = Point(40000)\n",
    "z = p1+p2+p3+p4+p5\n",
    "print(z)\n",
    "        \n",
    "    \n",
    "        "
   ]
  },
  {
   "cell_type": "code",
   "execution_count": 20,
   "metadata": {},
   "outputs": [
    {
     "name": "stdout",
     "output_type": "stream",
     "text": [
      "1000\n",
      "10000\n",
      "11000\n",
      "20000\n",
      "31000\n",
      "30000\n",
      "61000\n",
      "40000\n",
      "(101000)\n"
     ]
    }
   ],
   "source": [
    "class Point:\n",
    "    def __init__(self,y=0):\n",
    "        self.y = y\n",
    "    def __str__(self):\n",
    "        return \"({0})\".format(self.y)\n",
    "    def __add__(self,other):\n",
    "        y = self.y+other.y\n",
    "        print(self.y)\n",
    "        print(other.y)\n",
    "        \n",
    "        return Point(y)\n",
    "p1 = Point(1000)\n",
    "p2 = Point(10000)\n",
    "p3 = Point(20000)\n",
    "p4 = Point(30000)\n",
    "p5 = Point(40000)\n",
    "print( p1+p2+p3+p4+p5)\n",
    "\n",
    "      "
   ]
  },
  {
   "cell_type": "code",
   "execution_count": 1,
   "metadata": {},
   "outputs": [
    {
     "name": "stdout",
     "output_type": "stream",
     "text": [
      "Largest element is: 20\n"
     ]
    }
   ],
   "source": [
    "\n",
    "array  = [1,10,20,13,15,12,19] \n",
    "class max:\n",
    "    \n",
    "  \n",
    "\n",
    "print(\"Largest element is:\", max(array)) \n",
    "\n",
    "    \n",
    "        "
   ]
  },
  {
   "cell_type": "code",
   "execution_count": 2,
   "metadata": {},
   "outputs": [
    {
     "name": "stdout",
     "output_type": "stream",
     "text": [
      "Ram 11\n"
     ]
    }
   ],
   "source": [
    "class Info:\n",
    "    def __init__(self,name,age):#__ yo chai constructor banauna use hunxa and yo normal fun haina\n",
    "        \n",
    "        self.name = name#initialize gareko\n",
    "        self.age = age\n",
    "         \n",
    "            \n",
    "    def __str__(self):\n",
    "        return f\"{self.name} {self.age}\"\n",
    "obj = Info(\"Ram\",'11')\n",
    "print(obj)\n",
    "\n",
    "        "
   ]
  },
  {
   "cell_type": "code",
   "execution_count": 6,
   "metadata": {},
   "outputs": [
    {
     "ename": "TypeError",
     "evalue": "__init__() takes 2 positional arguments but 8 were given",
     "output_type": "error",
     "traceback": [
      "\u001b[1;31m---------------------------------------------------------------------------\u001b[0m",
      "\u001b[1;31mTypeError\u001b[0m                                 Traceback (most recent call last)",
      "\u001b[1;32m<ipython-input-6-635c6a1c71cc>\u001b[0m in \u001b[0;36m<module>\u001b[1;34m\u001b[0m\n\u001b[0;32m      6\u001b[0m     \u001b[1;32mdef\u001b[0m \u001b[0m__str__\u001b[0m\u001b[1;33m(\u001b[0m\u001b[0mself\u001b[0m\u001b[1;33m)\u001b[0m\u001b[1;33m:\u001b[0m\u001b[1;33m\u001b[0m\u001b[1;33m\u001b[0m\u001b[0m\n\u001b[0;32m      7\u001b[0m         \u001b[1;32mreturn\u001b[0m \u001b[1;34mf\"{maxarray}\"\u001b[0m\u001b[1;33m\u001b[0m\u001b[1;33m\u001b[0m\u001b[0m\n\u001b[1;32m----> 8\u001b[1;33m \u001b[0mobj\u001b[0m \u001b[1;33m=\u001b[0m\u001b[0mmax\u001b[0m\u001b[1;33m(\u001b[0m\u001b[1;34m'1'\u001b[0m\u001b[1;33m,\u001b[0m\u001b[1;34m'10'\u001b[0m\u001b[1;33m,\u001b[0m\u001b[1;34m'20'\u001b[0m\u001b[1;33m,\u001b[0m\u001b[1;34m'13'\u001b[0m\u001b[1;33m,\u001b[0m\u001b[1;34m'15'\u001b[0m\u001b[1;33m,\u001b[0m\u001b[1;34m'12'\u001b[0m\u001b[1;33m,\u001b[0m\u001b[1;34m'19'\u001b[0m\u001b[1;33m)\u001b[0m\u001b[1;33m\u001b[0m\u001b[1;33m\u001b[0m\u001b[0m\n\u001b[0m\u001b[0;32m      9\u001b[0m \u001b[0mprint\u001b[0m\u001b[1;33m(\u001b[0m\u001b[0mobj\u001b[0m\u001b[1;33m)\u001b[0m\u001b[1;33m\u001b[0m\u001b[1;33m\u001b[0m\u001b[0m\n\u001b[0;32m     10\u001b[0m \u001b[1;33m\u001b[0m\u001b[0m\n",
      "\u001b[1;31mTypeError\u001b[0m: __init__() takes 2 positional arguments but 8 were given"
     ]
    }
   ],
   "source": [
    "class max:\n",
    "    def maximum:\n",
    "        \n",
    "    \n",
    "    def __init__(self,array):\n",
    "        self.array =  maxarray\n",
    "        \n",
    "    def __str__(self):\n",
    "        return f\"{maxarray}\"\n",
    "obj =max('1','10','20','13','15','12','19')\n",
    "print(obj)\n",
    "        "
   ]
  },
  {
   "cell_type": "code",
   "execution_count": 25,
   "metadata": {},
   "outputs": [
    {
     "name": "stdout",
     "output_type": "stream",
     "text": [
      "Ram 11\n",
      "Ram 11\n"
     ]
    }
   ],
   "source": [
    "class Info:\n",
    "    def __init__(self,name,age):#__ yo chai constructor banauna use hunxa and yo normal fun haina\n",
    "        \n",
    "        self.name = name#initialize gareko\n",
    "        self.age = age\n",
    "         \n",
    "            \n",
    "    def __str__(self):\n",
    "        return f\"{self.name} {self.age}\"\n",
    "obj = Info(\"Ram\",'11')\n",
    "print(obj)\n",
    "print(obj.__str__())"
   ]
  },
  {
   "cell_type": "code",
   "execution_count": 38,
   "metadata": {},
   "outputs": [
    {
     "name": "stdout",
     "output_type": "stream",
     "text": [
      "Tha largest element is: [1, 4, 9, 5, 6]\n"
     ]
    }
   ],
   "source": [
    "\n",
    "class max:\n",
    "    max1 = [1,4,9,5,6]\n",
    "    def __init__(self,max):\n",
    "        self.max = max\n",
    "        \n",
    "    def maximum(self):\n",
    "        return self.max\n",
    "    def __str__(self):\n",
    "        return f\"{self.max}\"\n",
    "        \n",
    "        \n",
    "    \n",
    "    \n",
    "    \n",
    "obj = max (\"1,4,9,5,6\")\n",
    "print(\"Tha largest element is:\",max(a))"
   ]
  },
  {
   "cell_type": "code",
   "execution_count": 39,
   "metadata": {},
   "outputs": [
    {
     "name": "stdout",
     "output_type": "stream",
     "text": [
      "Hello my name is Ram.I am 22 years old.I am from Kathmandu\n",
      "Ram\n",
      "Ram\n",
      "22\n"
     ]
    }
   ],
   "source": [
    "class Info:\n",
    "    \n",
    "    def __init__(self,name,age):\n",
    "        self.name = name\n",
    "        self.age = age\n",
    "        \n",
    "    def infos(this,add):\n",
    "         print(f\"Hello my name is {this.name}.I am {this.age} years old.I am from {add}\")\n",
    "    def names(self):\n",
    "        print(self.name)\n",
    "obj = Info(\"Ram\",22)\n",
    "obj.infos(\"Kathmandu\")\n",
    "obj.names()\n",
    "print(obj.name)\n",
    "print(obj.age)\n",
    "        "
   ]
  },
  {
   "cell_type": "code",
   "execution_count": 56,
   "metadata": {},
   "outputs": [
    {
     "ename": "TypeError",
     "evalue": "'type' object is not subscriptable",
     "output_type": "error",
     "traceback": [
      "\u001b[1;31m---------------------------------------------------------------------------\u001b[0m",
      "\u001b[1;31mTypeError\u001b[0m                                 Traceback (most recent call last)",
      "\u001b[1;32m<ipython-input-56-fb2445688544>\u001b[0m in \u001b[0;36m<module>\u001b[1;34m\u001b[0m\n\u001b[0;32m     13\u001b[0m \u001b[1;33m\u001b[0m\u001b[0m\n\u001b[0;32m     14\u001b[0m \u001b[1;33m\u001b[0m\u001b[0m\n\u001b[1;32m---> 15\u001b[1;33m \u001b[0mobj\u001b[0m \u001b[1;33m=\u001b[0m \u001b[0mMax\u001b[0m\u001b[1;33m[\u001b[0m\u001b[1;34m\"2,1,4,5\"\u001b[0m\u001b[1;33m]\u001b[0m\u001b[1;33m\u001b[0m\u001b[1;33m\u001b[0m\u001b[0m\n\u001b[0m\u001b[0;32m     16\u001b[0m \u001b[0mprint\u001b[0m\u001b[1;33m(\u001b[0m\u001b[0mobj\u001b[0m\u001b[1;33m)\u001b[0m\u001b[1;33m\u001b[0m\u001b[1;33m\u001b[0m\u001b[0m\n\u001b[0;32m     17\u001b[0m \u001b[1;33m\u001b[0m\u001b[0m\n",
      "\u001b[1;31mTypeError\u001b[0m: 'type' object is not subscriptable"
     ]
    }
   ],
   "source": [
    "class Max:\n",
    "    def __init__(self,array):\n",
    "        self.array = array\n",
    "        \n",
    "    def maximum(this):\n",
    "        print(f\"largest number is {this.array}\")\n",
    "        \n",
    "    def __str__(self):\n",
    "        return self.array\n",
    "        \n",
    "        \n",
    "    \n",
    "    \n",
    "    \n",
    "obj = Max[\"2,1,4,5\"]\n",
    "print(obj)\n",
    "\n"
   ]
  },
  {
   "cell_type": "code",
   "execution_count": 55,
   "metadata": {},
   "outputs": [
    {
     "ename": "TypeError",
     "evalue": "__init__() missing 1 required positional argument: 'array'",
     "output_type": "error",
     "traceback": [
      "\u001b[1;31m---------------------------------------------------------------------------\u001b[0m",
      "\u001b[1;31mTypeError\u001b[0m                                 Traceback (most recent call last)",
      "\u001b[1;32m<ipython-input-55-577237239808>\u001b[0m in \u001b[0;36m<module>\u001b[1;34m\u001b[0m\n\u001b[0;32m     14\u001b[0m     \u001b[1;32mdef\u001b[0m \u001b[0m__str__\u001b[0m\u001b[1;33m(\u001b[0m\u001b[0mself\u001b[0m\u001b[1;33m)\u001b[0m\u001b[1;33m:\u001b[0m\u001b[1;33m\u001b[0m\u001b[1;33m\u001b[0m\u001b[0m\n\u001b[0;32m     15\u001b[0m         \u001b[1;32mreturn\u001b[0m\u001b[1;33m(\u001b[0m\u001b[0mself\u001b[0m\u001b[1;33m.\u001b[0m\u001b[0marray\u001b[0m\u001b[1;33m)\u001b[0m\u001b[1;33m\u001b[0m\u001b[1;33m\u001b[0m\u001b[0m\n\u001b[1;32m---> 16\u001b[1;33m \u001b[0mobj\u001b[0m \u001b[1;33m=\u001b[0m \u001b[0mMax\u001b[0m\u001b[1;33m(\u001b[0m\u001b[1;33m)\u001b[0m\u001b[1;33m\u001b[0m\u001b[1;33m\u001b[0m\u001b[0m\n\u001b[0m\u001b[0;32m     17\u001b[0m \u001b[0mobj\u001b[0m\u001b[1;33m.\u001b[0m\u001b[0mnum\u001b[0m\u001b[1;33m(\u001b[0m\u001b[1;33m)\u001b[0m\u001b[1;33m\u001b[0m\u001b[1;33m\u001b[0m\u001b[0m\n\u001b[0;32m     18\u001b[0m \u001b[1;33m\u001b[0m\u001b[0m\n",
      "\u001b[1;31mTypeError\u001b[0m: __init__() missing 1 required positional argument: 'array'"
     ]
    }
   ],
   "source": [
    "class Max:\n",
    "    def __init__(self,array):\n",
    "        self.array = array\n",
    "        \n",
    "        \n",
    "        a = [2,3,4,56,9,20,6,12]\n",
    "        maxvalue = a[0]\n",
    "        \n",
    "        for i in range(0,len(a),1):\n",
    "            if maxvalue <a [i]:\n",
    "                maxvalue = a[i]\n",
    "                \n",
    "        print(maxvalue)\n",
    "    def __str__(self):\n",
    "        return(self.array)\n",
    "obj = Max()\n",
    "obj.num()\n",
    "        "
   ]
  },
  {
   "cell_type": "code",
   "execution_count": 69,
   "metadata": {},
   "outputs": [
    {
     "ename": "TypeError",
     "evalue": "__init__() missing 1 required positional argument: 'array'",
     "output_type": "error",
     "traceback": [
      "\u001b[1;31m---------------------------------------------------------------------------\u001b[0m",
      "\u001b[1;31mTypeError\u001b[0m                                 Traceback (most recent call last)",
      "\u001b[1;32m<ipython-input-69-ba83a953b30d>\u001b[0m in \u001b[0;36m<module>\u001b[1;34m\u001b[0m\n\u001b[0;32m     20\u001b[0m         \u001b[0mprint\u001b[0m\u001b[1;33m(\u001b[0m\u001b[0mmaxvalue\u001b[0m\u001b[1;33m)\u001b[0m\u001b[1;33m\u001b[0m\u001b[1;33m\u001b[0m\u001b[0m\n\u001b[0;32m     21\u001b[0m \u001b[1;33m\u001b[0m\u001b[0m\n\u001b[1;32m---> 22\u001b[1;33m \u001b[0mobj\u001b[0m \u001b[1;33m=\u001b[0m \u001b[0mMax\u001b[0m\u001b[1;33m(\u001b[0m\u001b[1;33m)\u001b[0m\u001b[1;33m\u001b[0m\u001b[1;33m\u001b[0m\u001b[0m\n\u001b[0m\u001b[0;32m     23\u001b[0m \u001b[0mobj\u001b[0m\u001b[1;33m.\u001b[0m\u001b[0mnum\u001b[0m\u001b[1;33m(\u001b[0m\u001b[1;33m)\u001b[0m\u001b[1;33m\u001b[0m\u001b[1;33m\u001b[0m\u001b[0m\n\u001b[0;32m     24\u001b[0m \u001b[1;33m\u001b[0m\u001b[0m\n",
      "\u001b[1;31mTypeError\u001b[0m: __init__() missing 1 required positional argument: 'array'"
     ]
    }
   ],
   "source": [
    "class Max:\n",
    "    def __init__(self,array):\n",
    "        self.array = array\n",
    "        \n",
    "        \n",
    "\n",
    "                \n",
    "    def __str__(self):\n",
    "         \n",
    "        return(self.array)\n",
    "    def maximum(self):\n",
    "        a = [2,3,4,56,9,20,6,12]\n",
    "               \n",
    "        maxvalue = a[0]\n",
    "        \n",
    "        for i in range(0,len(a),1):\n",
    "            if maxvalue < a [i]:\n",
    "                maxvalue = a[i]\n",
    "        \n",
    "        print(maxvalue)\n",
    "                \n",
    "obj = Max()\n",
    "obj.num()\n",
    "        "
   ]
  },
  {
   "cell_type": "code",
   "execution_count": 68,
   "metadata": {},
   "outputs": [
    {
     "ename": "SyntaxError",
     "evalue": "invalid syntax (<ipython-input-68-cae0f09add6a>, line 11)",
     "output_type": "error",
     "traceback": [
      "\u001b[1;36m  File \u001b[1;32m\"<ipython-input-68-cae0f09add6a>\"\u001b[1;36m, line \u001b[1;32m11\u001b[0m\n\u001b[1;33m    if minvalue < a [i]\u001b[0m\n\u001b[1;37m                       ^\u001b[0m\n\u001b[1;31mSyntaxError\u001b[0m\u001b[1;31m:\u001b[0m invalid syntax\n"
     ]
    }
   ],
   "source": [
    "class Max:\n",
    "    def __init__(self,array):\n",
    "        self.array = array\n",
    "        \n",
    "        \n",
    "        a = [2,3,4,56,9,20,6,12]\n",
    "        minvalue = a[0]\n",
    "        maxvalue = a[i]\n",
    "        \n",
    "        for i in range(i = 0,len(a),1):\n",
    "            if minvalue < a [i]\n",
    "               \n",
    "                \n",
    "            print(maxvalue)\n",
    "    def __str__(self):\n",
    "        return(self.array)\n",
    "obj = Max()\n",
    "obj.num()\n",
    "        "
   ]
  },
  {
   "cell_type": "code",
   "execution_count": 61,
   "metadata": {},
   "outputs": [
    {
     "name": "stdout",
     "output_type": "stream",
     "text": [
      "apple\n",
      "cherry\n"
     ]
    }
   ],
   "source": [
    "fruits = [\"apple\", \"banana\", \"cherry\"]\n",
    "for x in fruits:\n",
    "  if x == \"banana\":\n",
    "    continue\n",
    "  print(x)"
   ]
  },
  {
   "cell_type": "code",
   "execution_count": 63,
   "metadata": {},
   "outputs": [
    {
     "ename": "NameError",
     "evalue": "name 'i' is not defined",
     "output_type": "error",
     "traceback": [
      "\u001b[1;31m---------------------------------------------------------------------------\u001b[0m",
      "\u001b[1;31mNameError\u001b[0m                                 Traceback (most recent call last)",
      "\u001b[1;32m<ipython-input-63-b3772bf0fe66>\u001b[0m in \u001b[0;36m<module>\u001b[1;34m\u001b[0m\n\u001b[1;32m----> 1\u001b[1;33m \u001b[1;32mclass\u001b[0m \u001b[0mMax\u001b[0m\u001b[1;33m:\u001b[0m\u001b[1;33m\u001b[0m\u001b[1;33m\u001b[0m\u001b[0m\n\u001b[0m\u001b[0;32m      2\u001b[0m     \u001b[1;32mdef\u001b[0m \u001b[0m__init__\u001b[0m\u001b[1;33m(\u001b[0m\u001b[0mself\u001b[0m\u001b[1;33m,\u001b[0m\u001b[0marray\u001b[0m\u001b[1;33m)\u001b[0m\u001b[1;33m:\u001b[0m\u001b[1;33m\u001b[0m\u001b[1;33m\u001b[0m\u001b[0m\n\u001b[0;32m      3\u001b[0m         \u001b[0mself\u001b[0m\u001b[1;33m.\u001b[0m\u001b[0marray\u001b[0m \u001b[1;33m=\u001b[0m \u001b[0marray\u001b[0m\u001b[1;33m\u001b[0m\u001b[1;33m\u001b[0m\u001b[0m\n\u001b[0;32m      4\u001b[0m     \u001b[0marray\u001b[0m \u001b[1;33m=\u001b[0m \u001b[1;33m[\u001b[0m\u001b[1;36m2\u001b[0m\u001b[1;33m,\u001b[0m\u001b[1;36m1\u001b[0m\u001b[1;33m,\u001b[0m\u001b[1;36m35\u001b[0m\u001b[1;33m,\u001b[0m\u001b[1;36m6\u001b[0m\u001b[1;33m]\u001b[0m\u001b[1;33m\u001b[0m\u001b[1;33m\u001b[0m\u001b[0m\n\u001b[0;32m      5\u001b[0m     \u001b[0mminvalue\u001b[0m \u001b[1;33m=\u001b[0m \u001b[0ma\u001b[0m\u001b[1;33m[\u001b[0m\u001b[1;36m0\u001b[0m\u001b[1;33m]\u001b[0m\u001b[1;33m\u001b[0m\u001b[1;33m\u001b[0m\u001b[0m\n",
      "\u001b[1;32m<ipython-input-63-b3772bf0fe66>\u001b[0m in \u001b[0;36mMax\u001b[1;34m()\u001b[0m\n\u001b[0;32m      4\u001b[0m     \u001b[0marray\u001b[0m \u001b[1;33m=\u001b[0m \u001b[1;33m[\u001b[0m\u001b[1;36m2\u001b[0m\u001b[1;33m,\u001b[0m\u001b[1;36m1\u001b[0m\u001b[1;33m,\u001b[0m\u001b[1;36m35\u001b[0m\u001b[1;33m,\u001b[0m\u001b[1;36m6\u001b[0m\u001b[1;33m]\u001b[0m\u001b[1;33m\u001b[0m\u001b[1;33m\u001b[0m\u001b[0m\n\u001b[0;32m      5\u001b[0m     \u001b[0mminvalue\u001b[0m \u001b[1;33m=\u001b[0m \u001b[0ma\u001b[0m\u001b[1;33m[\u001b[0m\u001b[1;36m0\u001b[0m\u001b[1;33m]\u001b[0m\u001b[1;33m\u001b[0m\u001b[1;33m\u001b[0m\u001b[0m\n\u001b[1;32m----> 6\u001b[1;33m     \u001b[0mmaxvalue\u001b[0m \u001b[1;33m=\u001b[0m \u001b[0ma\u001b[0m\u001b[1;33m[\u001b[0m\u001b[0mi\u001b[0m\u001b[1;33m]\u001b[0m\u001b[1;33m\u001b[0m\u001b[1;33m\u001b[0m\u001b[0m\n\u001b[0m\u001b[0;32m      7\u001b[0m     \u001b[1;32mfor\u001b[0m \u001b[0mi\u001b[0m \u001b[1;32min\u001b[0m \u001b[0mrange\u001b[0m\u001b[1;33m(\u001b[0m\u001b[1;36m1\u001b[0m\u001b[1;33m,\u001b[0m\u001b[1;36m36\u001b[0m\u001b[1;33m)\u001b[0m\u001b[1;33m:\u001b[0m\u001b[1;33m\u001b[0m\u001b[1;33m\u001b[0m\u001b[0m\n\u001b[0;32m      8\u001b[0m \u001b[1;33m\u001b[0m\u001b[0m\n",
      "\u001b[1;31mNameError\u001b[0m: name 'i' is not defined"
     ]
    }
   ],
   "source": [
    "\n",
    "class Max:\n",
    "    def __init__(self,array):\n",
    "        self.array = array\n",
    "    array = [2,1,35,6]\n",
    "    minvalue = a[0]\n",
    "    maxvalue = a[i]\n",
    "    for i in range(1,36):\n",
    "        \n",
    "        if a[0] >a[i]:\n",
    "            \n",
    "            print(minvalue)\n",
    "        \n",
    "        else:\n",
    "            print(maxvalue)\n",
    "    def __str__(self):\n",
    "        return(self.array)\n",
    "obj = Max()\n",
    "obj.num()\n",
    "    \n",
    "        \n",
    "        \n",
    "    \n",
    "        "
   ]
  },
  {
   "cell_type": "code",
   "execution_count": 67,
   "metadata": {},
   "outputs": [
    {
     "ename": "TypeError",
     "evalue": "'type' object is not subscriptable",
     "output_type": "error",
     "traceback": [
      "\u001b[1;31m---------------------------------------------------------------------------\u001b[0m",
      "\u001b[1;31mTypeError\u001b[0m                                 Traceback (most recent call last)",
      "\u001b[1;32m<ipython-input-67-1e204db8f5d6>\u001b[0m in \u001b[0;36m<module>\u001b[1;34m\u001b[0m\n\u001b[0;32m     13\u001b[0m \u001b[1;33m\u001b[0m\u001b[0m\n\u001b[0;32m     14\u001b[0m \u001b[1;33m\u001b[0m\u001b[0m\n\u001b[1;32m---> 15\u001b[1;33m \u001b[0mp\u001b[0m \u001b[1;33m=\u001b[0m \u001b[0mMax\u001b[0m\u001b[1;33m[\u001b[0m\u001b[1;34m\"2,1,4,5\"\u001b[0m\u001b[1;33m]\u001b[0m\u001b[1;33m\u001b[0m\u001b[1;33m\u001b[0m\u001b[0m\n\u001b[0m\u001b[0;32m     16\u001b[0m \u001b[0mprint\u001b[0m\u001b[1;33m(\u001b[0m\u001b[0mp\u001b[0m\u001b[1;33m)\u001b[0m\u001b[1;33m\u001b[0m\u001b[1;33m\u001b[0m\u001b[0m\n\u001b[0;32m     17\u001b[0m \u001b[1;33m\u001b[0m\u001b[0m\n",
      "\u001b[1;31mTypeError\u001b[0m: 'type' object is not subscriptable"
     ]
    }
   ],
   "source": [
    "class Max:\n",
    "    def __init__(self,array):\n",
    "        self.array = array\n",
    "        \n",
    "    def maximum(this):\n",
    "        print(f\"largest number is {this.array}\")\n",
    "        \n",
    "    def __str__(self):\n",
    "        return self.array\n",
    "        \n",
    "        \n",
    "    \n",
    "    \n",
    "    \n",
    "p = Max[\"2,1,4,5\"]\n",
    "print(p)\n",
    "\n"
   ]
  },
  {
   "cell_type": "code",
   "execution_count": 70,
   "metadata": {},
   "outputs": [
    {
     "name": "stdout",
     "output_type": "stream",
     "text": [
      "Enter the number of people = 2\n",
      "Enter firstname = pp\n",
      "Enter lastname = hh\n",
      "Enter the age = 3\n",
      "Enter firstname = jhhj\n",
      "Enter lastname = rrrdf\n",
      "Enter the age = 33\n"
     ]
    },
    {
     "ename": "ValueError",
     "evalue": "I/O operation on closed file.",
     "output_type": "error",
     "traceback": [
      "\u001b[1;31m---------------------------------------------------------------------------\u001b[0m",
      "\u001b[1;31mValueError\u001b[0m                                Traceback (most recent call last)",
      "\u001b[1;32m<ipython-input-70-c940103cb9ee>\u001b[0m in \u001b[0;36m<module>\u001b[1;34m\u001b[0m\n\u001b[0;32m      1\u001b[0m \u001b[0mn\u001b[0m \u001b[1;33m=\u001b[0m \u001b[0mint\u001b[0m\u001b[1;33m(\u001b[0m\u001b[0minput\u001b[0m\u001b[1;33m(\u001b[0m\u001b[1;34m\"Enter the number of people = \"\u001b[0m\u001b[1;33m)\u001b[0m\u001b[1;33m)\u001b[0m\u001b[1;33m\u001b[0m\u001b[1;33m\u001b[0m\u001b[0m\n\u001b[0;32m      2\u001b[0m \u001b[1;33m\u001b[0m\u001b[0m\n\u001b[1;32m----> 3\u001b[1;33m \u001b[1;32mclass\u001b[0m \u001b[0mInfo\u001b[0m\u001b[1;33m:\u001b[0m\u001b[1;33m\u001b[0m\u001b[1;33m\u001b[0m\u001b[0m\n\u001b[0m\u001b[0;32m      4\u001b[0m         \u001b[0ma\u001b[0m \u001b[1;33m=\u001b[0m \u001b[0mopen\u001b[0m\u001b[1;33m(\u001b[0m\u001b[1;34m\"123.txt\"\u001b[0m\u001b[1;33m,\u001b[0m\u001b[1;34m'w'\u001b[0m\u001b[1;33m)\u001b[0m\u001b[1;33m\u001b[0m\u001b[1;33m\u001b[0m\u001b[0m\n\u001b[0;32m      5\u001b[0m \u001b[1;33m\u001b[0m\u001b[0m\n",
      "\u001b[1;32m<ipython-input-70-c940103cb9ee>\u001b[0m in \u001b[0;36mInfo\u001b[1;34m()\u001b[0m\n\u001b[0;32m      9\u001b[0m             \u001b[0mage\u001b[0m \u001b[1;33m=\u001b[0m \u001b[0mint\u001b[0m\u001b[1;33m(\u001b[0m\u001b[0minput\u001b[0m\u001b[1;33m(\u001b[0m\u001b[1;34m\"Enter the age = \"\u001b[0m\u001b[1;33m)\u001b[0m\u001b[1;33m)\u001b[0m\u001b[1;33m\u001b[0m\u001b[1;33m\u001b[0m\u001b[0m\n\u001b[0;32m     10\u001b[0m             \u001b[0minfo\u001b[0m \u001b[1;33m=\u001b[0m\u001b[1;34mf\"{firstname},{lastname},{age}\\n\"\u001b[0m\u001b[1;33m\u001b[0m\u001b[1;33m\u001b[0m\u001b[0m\n\u001b[1;32m---> 11\u001b[1;33m             \u001b[0ma\u001b[0m\u001b[1;33m.\u001b[0m\u001b[0mwrite\u001b[0m\u001b[1;33m(\u001b[0m\u001b[0minfo\u001b[0m\u001b[1;33m)\u001b[0m\u001b[1;33m\u001b[0m\u001b[1;33m\u001b[0m\u001b[0m\n\u001b[0m\u001b[0;32m     12\u001b[0m             \u001b[0ma\u001b[0m\u001b[1;33m.\u001b[0m\u001b[0mclose\u001b[0m\u001b[1;33m(\u001b[0m\u001b[1;33m)\u001b[0m\u001b[1;33m\u001b[0m\u001b[1;33m\u001b[0m\u001b[0m\n\u001b[0;32m     13\u001b[0m \u001b[0mInfo\u001b[0m\u001b[1;33m(\u001b[0m\u001b[1;33m)\u001b[0m\u001b[1;33m\u001b[0m\u001b[1;33m\u001b[0m\u001b[0m\n",
      "\u001b[1;31mValueError\u001b[0m: I/O operation on closed file."
     ]
    }
   ],
   "source": [
    "\n",
    "n = int(input(\"Enter the number of people = \"))\n",
    "\n",
    "class Info:\n",
    "        a = open(\"123.txt\",'w')\n",
    "        \n",
    "        for i in range(n):\n",
    "            firstname = input(\"Enter firstname = \")\n",
    "            lastname = input(\"Enter lastname = \")\n",
    "            age = int(input(\"Enter the age = \"))\n",
    "            info =f\"{firstname},{lastname},{age}\\n\"\n",
    "            a.write(info)\n",
    "            a.close()\n",
    "Info()"
   ]
  },
  {
   "cell_type": "code",
   "execution_count": 1,
   "metadata": {},
   "outputs": [
    {
     "ename": "NameError",
     "evalue": "name 'b' is not defined",
     "output_type": "error",
     "traceback": [
      "\u001b[1;31m---------------------------------------------------------------------------\u001b[0m",
      "\u001b[1;31mNameError\u001b[0m                                 Traceback (most recent call last)",
      "\u001b[1;32m<ipython-input-1-7176d610beb1>\u001b[0m in \u001b[0;36m<module>\u001b[1;34m\u001b[0m\n\u001b[0;32m     14\u001b[0m \u001b[1;33m\u001b[0m\u001b[0m\n\u001b[0;32m     15\u001b[0m \u001b[0ma\u001b[0m \u001b[1;33m=\u001b[0m \u001b[1;33m[\u001b[0m\u001b[1;36m1\u001b[0m\u001b[1;33m,\u001b[0m\u001b[1;36m3\u001b[0m\u001b[1;33m,\u001b[0m\u001b[1;36m5\u001b[0m\u001b[1;33m,\u001b[0m\u001b[1;36m7\u001b[0m\u001b[1;33m,\u001b[0m\u001b[1;36m4\u001b[0m\u001b[1;33m,\u001b[0m\u001b[1;36m220\u001b[0m\u001b[1;33m]\u001b[0m\u001b[1;33m\u001b[0m\u001b[1;33m\u001b[0m\u001b[0m\n\u001b[1;32m---> 16\u001b[1;33m \u001b[0mobj\u001b[0m \u001b[1;33m=\u001b[0m \u001b[0mMax\u001b[0m\u001b[1;33m(\u001b[0m\u001b[0ma\u001b[0m\u001b[1;33m,\u001b[0m\u001b[0mb\u001b[0m\u001b[1;33m)\u001b[0m\u001b[1;33m\u001b[0m\u001b[1;33m\u001b[0m\u001b[0m\n\u001b[0m\u001b[0;32m     17\u001b[0m \u001b[0mobj\u001b[0m\u001b[1;33m.\u001b[0m\u001b[0mmaximum\u001b[0m\u001b[1;33m(\u001b[0m\u001b[1;33m)\u001b[0m\u001b[1;33m\u001b[0m\u001b[1;33m\u001b[0m\u001b[0m\n\u001b[0;32m     18\u001b[0m \u001b[0mprint\u001b[0m\u001b[1;33m(\u001b[0m\u001b[0mobj\u001b[0m\u001b[1;33m)\u001b[0m\u001b[1;33m\u001b[0m\u001b[1;33m\u001b[0m\u001b[0m\n",
      "\u001b[1;31mNameError\u001b[0m: name 'b' is not defined"
     ]
    }
   ],
   "source": [
    "class Max:\n",
    "\n",
    "    def __init__(self,array,b):\n",
    "        self.array = a\n",
    "        self.b = b\n",
    "        \n",
    "        print(a)\n",
    "        \n",
    "    def __str__(self):\n",
    "        return f\"The maximum value is {self.b}\"\n",
    "    def maximum(self):\n",
    "        b = max(a)\n",
    "        \n",
    "        \n",
    "a = [1,3,5,7,4,220]\n",
    "obj = Max(a,b)\n",
    "obj.maximum()\n",
    "print(obj)"
   ]
  },
  {
   "cell_type": "code",
   "execution_count": 4,
   "metadata": {},
   "outputs": [
    {
     "name": "stdout",
     "output_type": "stream",
     "text": [
      "[1, 3, 5, 7, 4, 220]\n",
      "The maximum value is 220\n"
     ]
    }
   ],
   "source": [
    "class Max:\n",
    "\n",
    "    def __init__(self,array,b):\n",
    "        self.array = a\n",
    "        self.b = b\n",
    "        print(a)\n",
    "                \n",
    "\n",
    "        \n",
    "    def __str__(self):           \n",
    "\n",
    "        return f\"The maximum value is {self.b}\"\n",
    "    def maximum(self):\n",
    "        self.b = max(a)\n",
    "b = [0]        \n",
    "a = [1,3,5,7,4,220]\n",
    "obj = Max(a,b)\n",
    "obj.maximum()\n",
    "\n",
    "print(obj)"
   ]
  },
  {
   "cell_type": "code",
   "execution_count": null,
   "metadata": {},
   "outputs": [],
   "source": []
  }
 ],
 "metadata": {
  "kernelspec": {
   "display_name": "Python 3",
   "language": "python",
   "name": "python3"
  },
  "language_info": {
   "codemirror_mode": {
    "name": "ipython",
    "version": 3
   },
   "file_extension": ".py",
   "mimetype": "text/x-python",
   "name": "python",
   "nbconvert_exporter": "python",
   "pygments_lexer": "ipython3",
   "version": "3.7.4"
  }
 },
 "nbformat": 4,
 "nbformat_minor": 2
}
